{
  "nbformat": 4,
  "nbformat_minor": 0,
  "metadata": {
    "colab": {
      "provenance": []
    },
    "kernelspec": {
      "name": "python3",
      "display_name": "Python 3"
    },
    "language_info": {
      "name": "python"
    }
  },
  "cells": [
    {
      "cell_type": "markdown",
      "source": [
        "#1. Importing packages\n",
        "\n",
        "\n",
        "\n"
      ],
      "metadata": {
        "id": "OUkfeLIIuFQ6"
      }
    },
    {
      "cell_type": "code",
      "execution_count": 1,
      "metadata": {
        "id": "1UFqP1jkEBoq"
      },
      "outputs": [],
      "source": [
        "#data manipulation libraries\n",
        "import pandas as pd\n",
        "import numpy as np\n",
        "\n",
        "#data visualization libraries\n",
        "import matplotlib.pyplot as plt\n",
        "import seaborn as sns\n",
        "\n",
        "\n",
        "##Machine Learning Libraries\n",
        "from sklearn.model_selection import train_test_split\n",
        "from sklearn.linear_model import LogisticRegression\n",
        "from sklearn.svm import SVC\n",
        "from sklearn.naive_bayes import GaussianNB\n",
        "\n",
        "from sklearn.metrics import classification_report, accuracy_score"
      ]
    },
    {
      "cell_type": "code",
      "source": [
        "df=pd.read_csv('loan_applicant_data.csv') #reading the data source\n"
      ],
      "metadata": {
        "id": "q7IP0CJzU5ft"
      },
      "execution_count": 2,
      "outputs": []
    },
    {
      "cell_type": "markdown",
      "source": [
        "#2.  **Model Building**"
      ],
      "metadata": {
        "id": "pLPV1BAEDtQX"
      }
    },
    {
      "cell_type": "markdown",
      "source": [
        "**Checking data columns**"
      ],
      "metadata": {
        "id": "Ggs0FdvNGT_K"
      }
    },
    {
      "cell_type": "code",
      "execution_count": 3,
      "metadata": {
        "colab": {
          "base_uri": "https://localhost:8080/",
          "height": 525
        },
        "id": "U4G8ifIkLOar",
        "outputId": "2714037a-659f-4359-dea3-b131ff3b6967"
      },
      "outputs": [
        {
          "output_type": "execute_result",
          "data": {
            "text/plain": [
              "   Unnamed: 0  applicant_id  Primary_applicant_age_in_years  Gender  \\\n",
              "0           0       1469590                              67    male   \n",
              "1           1       1203873                              22  female   \n",
              "2           2       1432761                              49    male   \n",
              "3           3       1207582                              45    male   \n",
              "4           4       1674436                              53    male   \n",
              "\n",
              "               Marital_status  Number_of_dependents   Housing  \\\n",
              "0                      single                     1       own   \n",
              "1  divorced/separated/married                     1       own   \n",
              "2                      single                     2       own   \n",
              "3                      single                     2  for free   \n",
              "4                      single                     2  for free   \n",
              "\n",
              "   Years_at_current_residence            Employment_status  \\\n",
              "0                           4  skilled employee / official   \n",
              "1                           2  skilled employee / official   \n",
              "2                           3         unskilled - resident   \n",
              "3                           4  skilled employee / official   \n",
              "4                           4  skilled employee / official   \n",
              "\n",
              "  Has_been_employed_for_at_least  ... Principal_loan_amount  \\\n",
              "0                        7 years  ...               1169000   \n",
              "1                         1 year  ...               5951000   \n",
              "2                        4 years  ...               2096000   \n",
              "3                        4 years  ...               7882000   \n",
              "4                         1 year  ...               4870000   \n",
              "\n",
              "   EMI_rate_in_percentage_of_disposable_income  \\\n",
              "0                                            4   \n",
              "1                                            2   \n",
              "2                                            2   \n",
              "3                                            2   \n",
              "4                                            3   \n",
              "\n",
              "                                            Property  Has_coapplicant  \\\n",
              "0                                        real estate                0   \n",
              "1                                        real estate                0   \n",
              "2                                        real estate                0   \n",
              "3  building society savings agreement/life insurance                0   \n",
              "4                                       car or other                0   \n",
              "\n",
              "  Has_guarantor  Number_of_existing_loans_at_this_bank  \\\n",
              "0             0                                      2   \n",
              "1             0                                      1   \n",
              "2             0                                      1   \n",
              "3             1                                      1   \n",
              "4             0                                      2   \n",
              "\n",
              "                             Loan_history high_risk_applicant  \\\n",
              "0   critical/pending loans at other banks                   0   \n",
              "1  existing loans paid back duly till now                   1   \n",
              "2   critical/pending loans at other banks                   0   \n",
              "3  existing loans paid back duly till now                   0   \n",
              "4   delay in paying off loans in the past                   1   \n",
              "\n",
              "   Loan_amount_range  applicant_age_range  \n",
              "0                NaN                60-70  \n",
              "1                NaN                20-30  \n",
              "2                NaN                40-50  \n",
              "3                NaN                40-50  \n",
              "4                NaN                50-60  \n",
              "\n",
              "[5 rows x 25 columns]"
            ],
            "text/html": [
              "\n",
              "  <div id=\"df-b837d1c4-7cdf-482d-a3d3-6181c7159d4a\">\n",
              "    <div class=\"colab-df-container\">\n",
              "      <div>\n",
              "<style scoped>\n",
              "    .dataframe tbody tr th:only-of-type {\n",
              "        vertical-align: middle;\n",
              "    }\n",
              "\n",
              "    .dataframe tbody tr th {\n",
              "        vertical-align: top;\n",
              "    }\n",
              "\n",
              "    .dataframe thead th {\n",
              "        text-align: right;\n",
              "    }\n",
              "</style>\n",
              "<table border=\"1\" class=\"dataframe\">\n",
              "  <thead>\n",
              "    <tr style=\"text-align: right;\">\n",
              "      <th></th>\n",
              "      <th>Unnamed: 0</th>\n",
              "      <th>applicant_id</th>\n",
              "      <th>Primary_applicant_age_in_years</th>\n",
              "      <th>Gender</th>\n",
              "      <th>Marital_status</th>\n",
              "      <th>Number_of_dependents</th>\n",
              "      <th>Housing</th>\n",
              "      <th>Years_at_current_residence</th>\n",
              "      <th>Employment_status</th>\n",
              "      <th>Has_been_employed_for_at_least</th>\n",
              "      <th>...</th>\n",
              "      <th>Principal_loan_amount</th>\n",
              "      <th>EMI_rate_in_percentage_of_disposable_income</th>\n",
              "      <th>Property</th>\n",
              "      <th>Has_coapplicant</th>\n",
              "      <th>Has_guarantor</th>\n",
              "      <th>Number_of_existing_loans_at_this_bank</th>\n",
              "      <th>Loan_history</th>\n",
              "      <th>high_risk_applicant</th>\n",
              "      <th>Loan_amount_range</th>\n",
              "      <th>applicant_age_range</th>\n",
              "    </tr>\n",
              "  </thead>\n",
              "  <tbody>\n",
              "    <tr>\n",
              "      <th>0</th>\n",
              "      <td>0</td>\n",
              "      <td>1469590</td>\n",
              "      <td>67</td>\n",
              "      <td>male</td>\n",
              "      <td>single</td>\n",
              "      <td>1</td>\n",
              "      <td>own</td>\n",
              "      <td>4</td>\n",
              "      <td>skilled employee / official</td>\n",
              "      <td>7 years</td>\n",
              "      <td>...</td>\n",
              "      <td>1169000</td>\n",
              "      <td>4</td>\n",
              "      <td>real estate</td>\n",
              "      <td>0</td>\n",
              "      <td>0</td>\n",
              "      <td>2</td>\n",
              "      <td>critical/pending loans at other banks</td>\n",
              "      <td>0</td>\n",
              "      <td>NaN</td>\n",
              "      <td>60-70</td>\n",
              "    </tr>\n",
              "    <tr>\n",
              "      <th>1</th>\n",
              "      <td>1</td>\n",
              "      <td>1203873</td>\n",
              "      <td>22</td>\n",
              "      <td>female</td>\n",
              "      <td>divorced/separated/married</td>\n",
              "      <td>1</td>\n",
              "      <td>own</td>\n",
              "      <td>2</td>\n",
              "      <td>skilled employee / official</td>\n",
              "      <td>1 year</td>\n",
              "      <td>...</td>\n",
              "      <td>5951000</td>\n",
              "      <td>2</td>\n",
              "      <td>real estate</td>\n",
              "      <td>0</td>\n",
              "      <td>0</td>\n",
              "      <td>1</td>\n",
              "      <td>existing loans paid back duly till now</td>\n",
              "      <td>1</td>\n",
              "      <td>NaN</td>\n",
              "      <td>20-30</td>\n",
              "    </tr>\n",
              "    <tr>\n",
              "      <th>2</th>\n",
              "      <td>2</td>\n",
              "      <td>1432761</td>\n",
              "      <td>49</td>\n",
              "      <td>male</td>\n",
              "      <td>single</td>\n",
              "      <td>2</td>\n",
              "      <td>own</td>\n",
              "      <td>3</td>\n",
              "      <td>unskilled - resident</td>\n",
              "      <td>4 years</td>\n",
              "      <td>...</td>\n",
              "      <td>2096000</td>\n",
              "      <td>2</td>\n",
              "      <td>real estate</td>\n",
              "      <td>0</td>\n",
              "      <td>0</td>\n",
              "      <td>1</td>\n",
              "      <td>critical/pending loans at other banks</td>\n",
              "      <td>0</td>\n",
              "      <td>NaN</td>\n",
              "      <td>40-50</td>\n",
              "    </tr>\n",
              "    <tr>\n",
              "      <th>3</th>\n",
              "      <td>3</td>\n",
              "      <td>1207582</td>\n",
              "      <td>45</td>\n",
              "      <td>male</td>\n",
              "      <td>single</td>\n",
              "      <td>2</td>\n",
              "      <td>for free</td>\n",
              "      <td>4</td>\n",
              "      <td>skilled employee / official</td>\n",
              "      <td>4 years</td>\n",
              "      <td>...</td>\n",
              "      <td>7882000</td>\n",
              "      <td>2</td>\n",
              "      <td>building society savings agreement/life insurance</td>\n",
              "      <td>0</td>\n",
              "      <td>1</td>\n",
              "      <td>1</td>\n",
              "      <td>existing loans paid back duly till now</td>\n",
              "      <td>0</td>\n",
              "      <td>NaN</td>\n",
              "      <td>40-50</td>\n",
              "    </tr>\n",
              "    <tr>\n",
              "      <th>4</th>\n",
              "      <td>4</td>\n",
              "      <td>1674436</td>\n",
              "      <td>53</td>\n",
              "      <td>male</td>\n",
              "      <td>single</td>\n",
              "      <td>2</td>\n",
              "      <td>for free</td>\n",
              "      <td>4</td>\n",
              "      <td>skilled employee / official</td>\n",
              "      <td>1 year</td>\n",
              "      <td>...</td>\n",
              "      <td>4870000</td>\n",
              "      <td>3</td>\n",
              "      <td>car or other</td>\n",
              "      <td>0</td>\n",
              "      <td>0</td>\n",
              "      <td>2</td>\n",
              "      <td>delay in paying off loans in the past</td>\n",
              "      <td>1</td>\n",
              "      <td>NaN</td>\n",
              "      <td>50-60</td>\n",
              "    </tr>\n",
              "  </tbody>\n",
              "</table>\n",
              "<p>5 rows × 25 columns</p>\n",
              "</div>\n",
              "      <button class=\"colab-df-convert\" onclick=\"convertToInteractive('df-b837d1c4-7cdf-482d-a3d3-6181c7159d4a')\"\n",
              "              title=\"Convert this dataframe to an interactive table.\"\n",
              "              style=\"display:none;\">\n",
              "        \n",
              "  <svg xmlns=\"http://www.w3.org/2000/svg\" height=\"24px\"viewBox=\"0 0 24 24\"\n",
              "       width=\"24px\">\n",
              "    <path d=\"M0 0h24v24H0V0z\" fill=\"none\"/>\n",
              "    <path d=\"M18.56 5.44l.94 2.06.94-2.06 2.06-.94-2.06-.94-.94-2.06-.94 2.06-2.06.94zm-11 1L8.5 8.5l.94-2.06 2.06-.94-2.06-.94L8.5 2.5l-.94 2.06-2.06.94zm10 10l.94 2.06.94-2.06 2.06-.94-2.06-.94-.94-2.06-.94 2.06-2.06.94z\"/><path d=\"M17.41 7.96l-1.37-1.37c-.4-.4-.92-.59-1.43-.59-.52 0-1.04.2-1.43.59L10.3 9.45l-7.72 7.72c-.78.78-.78 2.05 0 2.83L4 21.41c.39.39.9.59 1.41.59.51 0 1.02-.2 1.41-.59l7.78-7.78 2.81-2.81c.8-.78.8-2.07 0-2.86zM5.41 20L4 18.59l7.72-7.72 1.47 1.35L5.41 20z\"/>\n",
              "  </svg>\n",
              "      </button>\n",
              "      \n",
              "  <style>\n",
              "    .colab-df-container {\n",
              "      display:flex;\n",
              "      flex-wrap:wrap;\n",
              "      gap: 12px;\n",
              "    }\n",
              "\n",
              "    .colab-df-convert {\n",
              "      background-color: #E8F0FE;\n",
              "      border: none;\n",
              "      border-radius: 50%;\n",
              "      cursor: pointer;\n",
              "      display: none;\n",
              "      fill: #1967D2;\n",
              "      height: 32px;\n",
              "      padding: 0 0 0 0;\n",
              "      width: 32px;\n",
              "    }\n",
              "\n",
              "    .colab-df-convert:hover {\n",
              "      background-color: #E2EBFA;\n",
              "      box-shadow: 0px 1px 2px rgba(60, 64, 67, 0.3), 0px 1px 3px 1px rgba(60, 64, 67, 0.15);\n",
              "      fill: #174EA6;\n",
              "    }\n",
              "\n",
              "    [theme=dark] .colab-df-convert {\n",
              "      background-color: #3B4455;\n",
              "      fill: #D2E3FC;\n",
              "    }\n",
              "\n",
              "    [theme=dark] .colab-df-convert:hover {\n",
              "      background-color: #434B5C;\n",
              "      box-shadow: 0px 1px 3px 1px rgba(0, 0, 0, 0.15);\n",
              "      filter: drop-shadow(0px 1px 2px rgba(0, 0, 0, 0.3));\n",
              "      fill: #FFFFFF;\n",
              "    }\n",
              "  </style>\n",
              "\n",
              "      <script>\n",
              "        const buttonEl =\n",
              "          document.querySelector('#df-b837d1c4-7cdf-482d-a3d3-6181c7159d4a button.colab-df-convert');\n",
              "        buttonEl.style.display =\n",
              "          google.colab.kernel.accessAllowed ? 'block' : 'none';\n",
              "\n",
              "        async function convertToInteractive(key) {\n",
              "          const element = document.querySelector('#df-b837d1c4-7cdf-482d-a3d3-6181c7159d4a');\n",
              "          const dataTable =\n",
              "            await google.colab.kernel.invokeFunction('convertToInteractive',\n",
              "                                                     [key], {});\n",
              "          if (!dataTable) return;\n",
              "\n",
              "          const docLinkHtml = 'Like what you see? Visit the ' +\n",
              "            '<a target=\"_blank\" href=https://colab.research.google.com/notebooks/data_table.ipynb>data table notebook</a>'\n",
              "            + ' to learn more about interactive tables.';\n",
              "          element.innerHTML = '';\n",
              "          dataTable['output_type'] = 'display_data';\n",
              "          await google.colab.output.renderOutput(dataTable, element);\n",
              "          const docLink = document.createElement('div');\n",
              "          docLink.innerHTML = docLinkHtml;\n",
              "          element.appendChild(docLink);\n",
              "        }\n",
              "      </script>\n",
              "    </div>\n",
              "  </div>\n",
              "  "
            ]
          },
          "metadata": {},
          "execution_count": 3
        }
      ],
      "source": [
        "df.head()"
      ]
    },
    {
      "cell_type": "markdown",
      "source": [
        "**Removing irrelevant columns**"
      ],
      "metadata": {
        "id": "32efAIA0uuz0"
      }
    },
    {
      "cell_type": "code",
      "source": [
        "df1=df.drop('applicant_id',axis=1)\n",
        "df_dummies = pd.get_dummies(df1, drop_first=True)\n",
        "df_dummies.head()"
      ],
      "metadata": {
        "colab": {
          "base_uri": "https://localhost:8080/",
          "height": 352
        },
        "id": "kb7sLY1DM-79",
        "outputId": "a2e53da1-3907-46a0-812a-c8a140efb807"
      },
      "execution_count": 4,
      "outputs": [
        {
          "output_type": "execute_result",
          "data": {
            "text/plain": [
              "   Unnamed: 0  Primary_applicant_age_in_years  Number_of_dependents  \\\n",
              "0           0                              67                     1   \n",
              "1           1                              22                     1   \n",
              "2           2                              49                     2   \n",
              "3           3                              45                     2   \n",
              "4           4                              53                     2   \n",
              "\n",
              "   Years_at_current_residence  Foreign_worker  Months_loan_taken_for  \\\n",
              "0                           4               1                      6   \n",
              "1                           2               1                     48   \n",
              "2                           3               1                     12   \n",
              "3                           4               1                     42   \n",
              "4                           4               1                     24   \n",
              "\n",
              "   Principal_loan_amount  EMI_rate_in_percentage_of_disposable_income  \\\n",
              "0                1169000                                            4   \n",
              "1                5951000                                            2   \n",
              "2                2096000                                            2   \n",
              "3                7882000                                            2   \n",
              "4                4870000                                            3   \n",
              "\n",
              "   Has_coapplicant  Has_guarantor  ...  \\\n",
              "0                0              0  ...   \n",
              "1                0              0  ...   \n",
              "2                0              0  ...   \n",
              "3                0              1  ...   \n",
              "4                0              0  ...   \n",
              "\n",
              "   Loan_history_existing loans paid back duly till now  \\\n",
              "0                                                  0     \n",
              "1                                                  1     \n",
              "2                                                  0     \n",
              "3                                                  1     \n",
              "4                                                  0     \n",
              "\n",
              "   Loan_history_no loans taken/all loans paid back duly  \\\n",
              "0                                                  0      \n",
              "1                                                  0      \n",
              "2                                                  0      \n",
              "3                                                  0      \n",
              "4                                                  0      \n",
              "\n",
              "   Loan_amount_range_Low  Loan_amount_range_Medium  applicant_age_range_20-30  \\\n",
              "0                      0                         0                          0   \n",
              "1                      0                         0                          1   \n",
              "2                      0                         0                          0   \n",
              "3                      0                         0                          0   \n",
              "4                      0                         0                          0   \n",
              "\n",
              "   applicant_age_range_30-40  applicant_age_range_40-50  \\\n",
              "0                          0                          0   \n",
              "1                          0                          0   \n",
              "2                          0                          1   \n",
              "3                          0                          1   \n",
              "4                          0                          0   \n",
              "\n",
              "   applicant_age_range_50-60  applicant_age_range_60-70  \\\n",
              "0                          0                          1   \n",
              "1                          0                          0   \n",
              "2                          0                          0   \n",
              "3                          0                          0   \n",
              "4                          1                          0   \n",
              "\n",
              "   applicant_age_range_70-80  \n",
              "0                          0  \n",
              "1                          0  \n",
              "2                          0  \n",
              "3                          0  \n",
              "4                          0  \n",
              "\n",
              "[5 rows x 52 columns]"
            ],
            "text/html": [
              "\n",
              "  <div id=\"df-702e4727-c981-4d06-b9de-44d6b4d8e6ed\">\n",
              "    <div class=\"colab-df-container\">\n",
              "      <div>\n",
              "<style scoped>\n",
              "    .dataframe tbody tr th:only-of-type {\n",
              "        vertical-align: middle;\n",
              "    }\n",
              "\n",
              "    .dataframe tbody tr th {\n",
              "        vertical-align: top;\n",
              "    }\n",
              "\n",
              "    .dataframe thead th {\n",
              "        text-align: right;\n",
              "    }\n",
              "</style>\n",
              "<table border=\"1\" class=\"dataframe\">\n",
              "  <thead>\n",
              "    <tr style=\"text-align: right;\">\n",
              "      <th></th>\n",
              "      <th>Unnamed: 0</th>\n",
              "      <th>Primary_applicant_age_in_years</th>\n",
              "      <th>Number_of_dependents</th>\n",
              "      <th>Years_at_current_residence</th>\n",
              "      <th>Foreign_worker</th>\n",
              "      <th>Months_loan_taken_for</th>\n",
              "      <th>Principal_loan_amount</th>\n",
              "      <th>EMI_rate_in_percentage_of_disposable_income</th>\n",
              "      <th>Has_coapplicant</th>\n",
              "      <th>Has_guarantor</th>\n",
              "      <th>...</th>\n",
              "      <th>Loan_history_existing loans paid back duly till now</th>\n",
              "      <th>Loan_history_no loans taken/all loans paid back duly</th>\n",
              "      <th>Loan_amount_range_Low</th>\n",
              "      <th>Loan_amount_range_Medium</th>\n",
              "      <th>applicant_age_range_20-30</th>\n",
              "      <th>applicant_age_range_30-40</th>\n",
              "      <th>applicant_age_range_40-50</th>\n",
              "      <th>applicant_age_range_50-60</th>\n",
              "      <th>applicant_age_range_60-70</th>\n",
              "      <th>applicant_age_range_70-80</th>\n",
              "    </tr>\n",
              "  </thead>\n",
              "  <tbody>\n",
              "    <tr>\n",
              "      <th>0</th>\n",
              "      <td>0</td>\n",
              "      <td>67</td>\n",
              "      <td>1</td>\n",
              "      <td>4</td>\n",
              "      <td>1</td>\n",
              "      <td>6</td>\n",
              "      <td>1169000</td>\n",
              "      <td>4</td>\n",
              "      <td>0</td>\n",
              "      <td>0</td>\n",
              "      <td>...</td>\n",
              "      <td>0</td>\n",
              "      <td>0</td>\n",
              "      <td>0</td>\n",
              "      <td>0</td>\n",
              "      <td>0</td>\n",
              "      <td>0</td>\n",
              "      <td>0</td>\n",
              "      <td>0</td>\n",
              "      <td>1</td>\n",
              "      <td>0</td>\n",
              "    </tr>\n",
              "    <tr>\n",
              "      <th>1</th>\n",
              "      <td>1</td>\n",
              "      <td>22</td>\n",
              "      <td>1</td>\n",
              "      <td>2</td>\n",
              "      <td>1</td>\n",
              "      <td>48</td>\n",
              "      <td>5951000</td>\n",
              "      <td>2</td>\n",
              "      <td>0</td>\n",
              "      <td>0</td>\n",
              "      <td>...</td>\n",
              "      <td>1</td>\n",
              "      <td>0</td>\n",
              "      <td>0</td>\n",
              "      <td>0</td>\n",
              "      <td>1</td>\n",
              "      <td>0</td>\n",
              "      <td>0</td>\n",
              "      <td>0</td>\n",
              "      <td>0</td>\n",
              "      <td>0</td>\n",
              "    </tr>\n",
              "    <tr>\n",
              "      <th>2</th>\n",
              "      <td>2</td>\n",
              "      <td>49</td>\n",
              "      <td>2</td>\n",
              "      <td>3</td>\n",
              "      <td>1</td>\n",
              "      <td>12</td>\n",
              "      <td>2096000</td>\n",
              "      <td>2</td>\n",
              "      <td>0</td>\n",
              "      <td>0</td>\n",
              "      <td>...</td>\n",
              "      <td>0</td>\n",
              "      <td>0</td>\n",
              "      <td>0</td>\n",
              "      <td>0</td>\n",
              "      <td>0</td>\n",
              "      <td>0</td>\n",
              "      <td>1</td>\n",
              "      <td>0</td>\n",
              "      <td>0</td>\n",
              "      <td>0</td>\n",
              "    </tr>\n",
              "    <tr>\n",
              "      <th>3</th>\n",
              "      <td>3</td>\n",
              "      <td>45</td>\n",
              "      <td>2</td>\n",
              "      <td>4</td>\n",
              "      <td>1</td>\n",
              "      <td>42</td>\n",
              "      <td>7882000</td>\n",
              "      <td>2</td>\n",
              "      <td>0</td>\n",
              "      <td>1</td>\n",
              "      <td>...</td>\n",
              "      <td>1</td>\n",
              "      <td>0</td>\n",
              "      <td>0</td>\n",
              "      <td>0</td>\n",
              "      <td>0</td>\n",
              "      <td>0</td>\n",
              "      <td>1</td>\n",
              "      <td>0</td>\n",
              "      <td>0</td>\n",
              "      <td>0</td>\n",
              "    </tr>\n",
              "    <tr>\n",
              "      <th>4</th>\n",
              "      <td>4</td>\n",
              "      <td>53</td>\n",
              "      <td>2</td>\n",
              "      <td>4</td>\n",
              "      <td>1</td>\n",
              "      <td>24</td>\n",
              "      <td>4870000</td>\n",
              "      <td>3</td>\n",
              "      <td>0</td>\n",
              "      <td>0</td>\n",
              "      <td>...</td>\n",
              "      <td>0</td>\n",
              "      <td>0</td>\n",
              "      <td>0</td>\n",
              "      <td>0</td>\n",
              "      <td>0</td>\n",
              "      <td>0</td>\n",
              "      <td>0</td>\n",
              "      <td>1</td>\n",
              "      <td>0</td>\n",
              "      <td>0</td>\n",
              "    </tr>\n",
              "  </tbody>\n",
              "</table>\n",
              "<p>5 rows × 52 columns</p>\n",
              "</div>\n",
              "      <button class=\"colab-df-convert\" onclick=\"convertToInteractive('df-702e4727-c981-4d06-b9de-44d6b4d8e6ed')\"\n",
              "              title=\"Convert this dataframe to an interactive table.\"\n",
              "              style=\"display:none;\">\n",
              "        \n",
              "  <svg xmlns=\"http://www.w3.org/2000/svg\" height=\"24px\"viewBox=\"0 0 24 24\"\n",
              "       width=\"24px\">\n",
              "    <path d=\"M0 0h24v24H0V0z\" fill=\"none\"/>\n",
              "    <path d=\"M18.56 5.44l.94 2.06.94-2.06 2.06-.94-2.06-.94-.94-2.06-.94 2.06-2.06.94zm-11 1L8.5 8.5l.94-2.06 2.06-.94-2.06-.94L8.5 2.5l-.94 2.06-2.06.94zm10 10l.94 2.06.94-2.06 2.06-.94-2.06-.94-.94-2.06-.94 2.06-2.06.94z\"/><path d=\"M17.41 7.96l-1.37-1.37c-.4-.4-.92-.59-1.43-.59-.52 0-1.04.2-1.43.59L10.3 9.45l-7.72 7.72c-.78.78-.78 2.05 0 2.83L4 21.41c.39.39.9.59 1.41.59.51 0 1.02-.2 1.41-.59l7.78-7.78 2.81-2.81c.8-.78.8-2.07 0-2.86zM5.41 20L4 18.59l7.72-7.72 1.47 1.35L5.41 20z\"/>\n",
              "  </svg>\n",
              "      </button>\n",
              "      \n",
              "  <style>\n",
              "    .colab-df-container {\n",
              "      display:flex;\n",
              "      flex-wrap:wrap;\n",
              "      gap: 12px;\n",
              "    }\n",
              "\n",
              "    .colab-df-convert {\n",
              "      background-color: #E8F0FE;\n",
              "      border: none;\n",
              "      border-radius: 50%;\n",
              "      cursor: pointer;\n",
              "      display: none;\n",
              "      fill: #1967D2;\n",
              "      height: 32px;\n",
              "      padding: 0 0 0 0;\n",
              "      width: 32px;\n",
              "    }\n",
              "\n",
              "    .colab-df-convert:hover {\n",
              "      background-color: #E2EBFA;\n",
              "      box-shadow: 0px 1px 2px rgba(60, 64, 67, 0.3), 0px 1px 3px 1px rgba(60, 64, 67, 0.15);\n",
              "      fill: #174EA6;\n",
              "    }\n",
              "\n",
              "    [theme=dark] .colab-df-convert {\n",
              "      background-color: #3B4455;\n",
              "      fill: #D2E3FC;\n",
              "    }\n",
              "\n",
              "    [theme=dark] .colab-df-convert:hover {\n",
              "      background-color: #434B5C;\n",
              "      box-shadow: 0px 1px 3px 1px rgba(0, 0, 0, 0.15);\n",
              "      filter: drop-shadow(0px 1px 2px rgba(0, 0, 0, 0.3));\n",
              "      fill: #FFFFFF;\n",
              "    }\n",
              "  </style>\n",
              "\n",
              "      <script>\n",
              "        const buttonEl =\n",
              "          document.querySelector('#df-702e4727-c981-4d06-b9de-44d6b4d8e6ed button.colab-df-convert');\n",
              "        buttonEl.style.display =\n",
              "          google.colab.kernel.accessAllowed ? 'block' : 'none';\n",
              "\n",
              "        async function convertToInteractive(key) {\n",
              "          const element = document.querySelector('#df-702e4727-c981-4d06-b9de-44d6b4d8e6ed');\n",
              "          const dataTable =\n",
              "            await google.colab.kernel.invokeFunction('convertToInteractive',\n",
              "                                                     [key], {});\n",
              "          if (!dataTable) return;\n",
              "\n",
              "          const docLinkHtml = 'Like what you see? Visit the ' +\n",
              "            '<a target=\"_blank\" href=https://colab.research.google.com/notebooks/data_table.ipynb>data table notebook</a>'\n",
              "            + ' to learn more about interactive tables.';\n",
              "          element.innerHTML = '';\n",
              "          dataTable['output_type'] = 'display_data';\n",
              "          await google.colab.output.renderOutput(dataTable, element);\n",
              "          const docLink = document.createElement('div');\n",
              "          docLink.innerHTML = docLinkHtml;\n",
              "          element.appendChild(docLink);\n",
              "        }\n",
              "      </script>\n",
              "    </div>\n",
              "  </div>\n",
              "  "
            ]
          },
          "metadata": {},
          "execution_count": 4
        }
      ]
    },
    {
      "cell_type": "code",
      "execution_count": 5,
      "metadata": {
        "id": "K0xyUc4dmxyc"
      },
      "outputs": [],
      "source": [
        "df['high_risk_applicant']=df['high_risk_applicant'].astype(int)"
      ]
    },
    {
      "cell_type": "markdown",
      "source": [
        "Changing Target column to numerical for Machine learning algorithm"
      ],
      "metadata": {
        "id": "HnKsn6yqGesn"
      }
    },
    {
      "cell_type": "code",
      "execution_count": 6,
      "metadata": {
        "colab": {
          "base_uri": "https://localhost:8080/",
          "height": 352
        },
        "id": "u_i4DJorWICi",
        "outputId": "305f3374-0ceb-4ef8-ab63-57de32791a1f"
      },
      "outputs": [
        {
          "output_type": "execute_result",
          "data": {
            "text/plain": [
              "   Unnamed: 0  applicant_id  Primary_applicant_age_in_years  \\\n",
              "0           0       1469590                              67   \n",
              "1           1       1203873                              22   \n",
              "2           2       1432761                              49   \n",
              "3           3       1207582                              45   \n",
              "4           4       1674436                              53   \n",
              "\n",
              "   Number_of_dependents  Years_at_current_residence  Foreign_worker  \\\n",
              "0                     1                           4               1   \n",
              "1                     1                           2               1   \n",
              "2                     2                           3               1   \n",
              "3                     2                           4               1   \n",
              "4                     2                           4               1   \n",
              "\n",
              "   Months_loan_taken_for  Principal_loan_amount  \\\n",
              "0                      6                1169000   \n",
              "1                     48                5951000   \n",
              "2                     12                2096000   \n",
              "3                     42                7882000   \n",
              "4                     24                4870000   \n",
              "\n",
              "   EMI_rate_in_percentage_of_disposable_income  Has_coapplicant  ...  \\\n",
              "0                                            4                0  ...   \n",
              "1                                            2                0  ...   \n",
              "2                                            2                0  ...   \n",
              "3                                            2                0  ...   \n",
              "4                                            3                0  ...   \n",
              "\n",
              "   Loan_history_existing loans paid back duly till now  \\\n",
              "0                                                  0     \n",
              "1                                                  1     \n",
              "2                                                  0     \n",
              "3                                                  1     \n",
              "4                                                  0     \n",
              "\n",
              "   Loan_history_no loans taken/all loans paid back duly  \\\n",
              "0                                                  0      \n",
              "1                                                  0      \n",
              "2                                                  0      \n",
              "3                                                  0      \n",
              "4                                                  0      \n",
              "\n",
              "   Loan_amount_range_Low  Loan_amount_range_Medium  applicant_age_range_20-30  \\\n",
              "0                      0                         0                          0   \n",
              "1                      0                         0                          1   \n",
              "2                      0                         0                          0   \n",
              "3                      0                         0                          0   \n",
              "4                      0                         0                          0   \n",
              "\n",
              "   applicant_age_range_30-40  applicant_age_range_40-50  \\\n",
              "0                          0                          0   \n",
              "1                          0                          0   \n",
              "2                          0                          1   \n",
              "3                          0                          1   \n",
              "4                          0                          0   \n",
              "\n",
              "   applicant_age_range_50-60  applicant_age_range_60-70  \\\n",
              "0                          0                          1   \n",
              "1                          0                          0   \n",
              "2                          0                          0   \n",
              "3                          0                          0   \n",
              "4                          1                          0   \n",
              "\n",
              "   applicant_age_range_70-80  \n",
              "0                          0  \n",
              "1                          0  \n",
              "2                          0  \n",
              "3                          0  \n",
              "4                          0  \n",
              "\n",
              "[5 rows x 53 columns]"
            ],
            "text/html": [
              "\n",
              "  <div id=\"df-63b183a3-235a-4ffe-a479-dabcb55dea4c\">\n",
              "    <div class=\"colab-df-container\">\n",
              "      <div>\n",
              "<style scoped>\n",
              "    .dataframe tbody tr th:only-of-type {\n",
              "        vertical-align: middle;\n",
              "    }\n",
              "\n",
              "    .dataframe tbody tr th {\n",
              "        vertical-align: top;\n",
              "    }\n",
              "\n",
              "    .dataframe thead th {\n",
              "        text-align: right;\n",
              "    }\n",
              "</style>\n",
              "<table border=\"1\" class=\"dataframe\">\n",
              "  <thead>\n",
              "    <tr style=\"text-align: right;\">\n",
              "      <th></th>\n",
              "      <th>Unnamed: 0</th>\n",
              "      <th>applicant_id</th>\n",
              "      <th>Primary_applicant_age_in_years</th>\n",
              "      <th>Number_of_dependents</th>\n",
              "      <th>Years_at_current_residence</th>\n",
              "      <th>Foreign_worker</th>\n",
              "      <th>Months_loan_taken_for</th>\n",
              "      <th>Principal_loan_amount</th>\n",
              "      <th>EMI_rate_in_percentage_of_disposable_income</th>\n",
              "      <th>Has_coapplicant</th>\n",
              "      <th>...</th>\n",
              "      <th>Loan_history_existing loans paid back duly till now</th>\n",
              "      <th>Loan_history_no loans taken/all loans paid back duly</th>\n",
              "      <th>Loan_amount_range_Low</th>\n",
              "      <th>Loan_amount_range_Medium</th>\n",
              "      <th>applicant_age_range_20-30</th>\n",
              "      <th>applicant_age_range_30-40</th>\n",
              "      <th>applicant_age_range_40-50</th>\n",
              "      <th>applicant_age_range_50-60</th>\n",
              "      <th>applicant_age_range_60-70</th>\n",
              "      <th>applicant_age_range_70-80</th>\n",
              "    </tr>\n",
              "  </thead>\n",
              "  <tbody>\n",
              "    <tr>\n",
              "      <th>0</th>\n",
              "      <td>0</td>\n",
              "      <td>1469590</td>\n",
              "      <td>67</td>\n",
              "      <td>1</td>\n",
              "      <td>4</td>\n",
              "      <td>1</td>\n",
              "      <td>6</td>\n",
              "      <td>1169000</td>\n",
              "      <td>4</td>\n",
              "      <td>0</td>\n",
              "      <td>...</td>\n",
              "      <td>0</td>\n",
              "      <td>0</td>\n",
              "      <td>0</td>\n",
              "      <td>0</td>\n",
              "      <td>0</td>\n",
              "      <td>0</td>\n",
              "      <td>0</td>\n",
              "      <td>0</td>\n",
              "      <td>1</td>\n",
              "      <td>0</td>\n",
              "    </tr>\n",
              "    <tr>\n",
              "      <th>1</th>\n",
              "      <td>1</td>\n",
              "      <td>1203873</td>\n",
              "      <td>22</td>\n",
              "      <td>1</td>\n",
              "      <td>2</td>\n",
              "      <td>1</td>\n",
              "      <td>48</td>\n",
              "      <td>5951000</td>\n",
              "      <td>2</td>\n",
              "      <td>0</td>\n",
              "      <td>...</td>\n",
              "      <td>1</td>\n",
              "      <td>0</td>\n",
              "      <td>0</td>\n",
              "      <td>0</td>\n",
              "      <td>1</td>\n",
              "      <td>0</td>\n",
              "      <td>0</td>\n",
              "      <td>0</td>\n",
              "      <td>0</td>\n",
              "      <td>0</td>\n",
              "    </tr>\n",
              "    <tr>\n",
              "      <th>2</th>\n",
              "      <td>2</td>\n",
              "      <td>1432761</td>\n",
              "      <td>49</td>\n",
              "      <td>2</td>\n",
              "      <td>3</td>\n",
              "      <td>1</td>\n",
              "      <td>12</td>\n",
              "      <td>2096000</td>\n",
              "      <td>2</td>\n",
              "      <td>0</td>\n",
              "      <td>...</td>\n",
              "      <td>0</td>\n",
              "      <td>0</td>\n",
              "      <td>0</td>\n",
              "      <td>0</td>\n",
              "      <td>0</td>\n",
              "      <td>0</td>\n",
              "      <td>1</td>\n",
              "      <td>0</td>\n",
              "      <td>0</td>\n",
              "      <td>0</td>\n",
              "    </tr>\n",
              "    <tr>\n",
              "      <th>3</th>\n",
              "      <td>3</td>\n",
              "      <td>1207582</td>\n",
              "      <td>45</td>\n",
              "      <td>2</td>\n",
              "      <td>4</td>\n",
              "      <td>1</td>\n",
              "      <td>42</td>\n",
              "      <td>7882000</td>\n",
              "      <td>2</td>\n",
              "      <td>0</td>\n",
              "      <td>...</td>\n",
              "      <td>1</td>\n",
              "      <td>0</td>\n",
              "      <td>0</td>\n",
              "      <td>0</td>\n",
              "      <td>0</td>\n",
              "      <td>0</td>\n",
              "      <td>1</td>\n",
              "      <td>0</td>\n",
              "      <td>0</td>\n",
              "      <td>0</td>\n",
              "    </tr>\n",
              "    <tr>\n",
              "      <th>4</th>\n",
              "      <td>4</td>\n",
              "      <td>1674436</td>\n",
              "      <td>53</td>\n",
              "      <td>2</td>\n",
              "      <td>4</td>\n",
              "      <td>1</td>\n",
              "      <td>24</td>\n",
              "      <td>4870000</td>\n",
              "      <td>3</td>\n",
              "      <td>0</td>\n",
              "      <td>...</td>\n",
              "      <td>0</td>\n",
              "      <td>0</td>\n",
              "      <td>0</td>\n",
              "      <td>0</td>\n",
              "      <td>0</td>\n",
              "      <td>0</td>\n",
              "      <td>0</td>\n",
              "      <td>1</td>\n",
              "      <td>0</td>\n",
              "      <td>0</td>\n",
              "    </tr>\n",
              "  </tbody>\n",
              "</table>\n",
              "<p>5 rows × 53 columns</p>\n",
              "</div>\n",
              "      <button class=\"colab-df-convert\" onclick=\"convertToInteractive('df-63b183a3-235a-4ffe-a479-dabcb55dea4c')\"\n",
              "              title=\"Convert this dataframe to an interactive table.\"\n",
              "              style=\"display:none;\">\n",
              "        \n",
              "  <svg xmlns=\"http://www.w3.org/2000/svg\" height=\"24px\"viewBox=\"0 0 24 24\"\n",
              "       width=\"24px\">\n",
              "    <path d=\"M0 0h24v24H0V0z\" fill=\"none\"/>\n",
              "    <path d=\"M18.56 5.44l.94 2.06.94-2.06 2.06-.94-2.06-.94-.94-2.06-.94 2.06-2.06.94zm-11 1L8.5 8.5l.94-2.06 2.06-.94-2.06-.94L8.5 2.5l-.94 2.06-2.06.94zm10 10l.94 2.06.94-2.06 2.06-.94-2.06-.94-.94-2.06-.94 2.06-2.06.94z\"/><path d=\"M17.41 7.96l-1.37-1.37c-.4-.4-.92-.59-1.43-.59-.52 0-1.04.2-1.43.59L10.3 9.45l-7.72 7.72c-.78.78-.78 2.05 0 2.83L4 21.41c.39.39.9.59 1.41.59.51 0 1.02-.2 1.41-.59l7.78-7.78 2.81-2.81c.8-.78.8-2.07 0-2.86zM5.41 20L4 18.59l7.72-7.72 1.47 1.35L5.41 20z\"/>\n",
              "  </svg>\n",
              "      </button>\n",
              "      \n",
              "  <style>\n",
              "    .colab-df-container {\n",
              "      display:flex;\n",
              "      flex-wrap:wrap;\n",
              "      gap: 12px;\n",
              "    }\n",
              "\n",
              "    .colab-df-convert {\n",
              "      background-color: #E8F0FE;\n",
              "      border: none;\n",
              "      border-radius: 50%;\n",
              "      cursor: pointer;\n",
              "      display: none;\n",
              "      fill: #1967D2;\n",
              "      height: 32px;\n",
              "      padding: 0 0 0 0;\n",
              "      width: 32px;\n",
              "    }\n",
              "\n",
              "    .colab-df-convert:hover {\n",
              "      background-color: #E2EBFA;\n",
              "      box-shadow: 0px 1px 2px rgba(60, 64, 67, 0.3), 0px 1px 3px 1px rgba(60, 64, 67, 0.15);\n",
              "      fill: #174EA6;\n",
              "    }\n",
              "\n",
              "    [theme=dark] .colab-df-convert {\n",
              "      background-color: #3B4455;\n",
              "      fill: #D2E3FC;\n",
              "    }\n",
              "\n",
              "    [theme=dark] .colab-df-convert:hover {\n",
              "      background-color: #434B5C;\n",
              "      box-shadow: 0px 1px 3px 1px rgba(0, 0, 0, 0.15);\n",
              "      filter: drop-shadow(0px 1px 2px rgba(0, 0, 0, 0.3));\n",
              "      fill: #FFFFFF;\n",
              "    }\n",
              "  </style>\n",
              "\n",
              "      <script>\n",
              "        const buttonEl =\n",
              "          document.querySelector('#df-63b183a3-235a-4ffe-a479-dabcb55dea4c button.colab-df-convert');\n",
              "        buttonEl.style.display =\n",
              "          google.colab.kernel.accessAllowed ? 'block' : 'none';\n",
              "\n",
              "        async function convertToInteractive(key) {\n",
              "          const element = document.querySelector('#df-63b183a3-235a-4ffe-a479-dabcb55dea4c');\n",
              "          const dataTable =\n",
              "            await google.colab.kernel.invokeFunction('convertToInteractive',\n",
              "                                                     [key], {});\n",
              "          if (!dataTable) return;\n",
              "\n",
              "          const docLinkHtml = 'Like what you see? Visit the ' +\n",
              "            '<a target=\"_blank\" href=https://colab.research.google.com/notebooks/data_table.ipynb>data table notebook</a>'\n",
              "            + ' to learn more about interactive tables.';\n",
              "          element.innerHTML = '';\n",
              "          dataTable['output_type'] = 'display_data';\n",
              "          await google.colab.output.renderOutput(dataTable, element);\n",
              "          const docLink = document.createElement('div');\n",
              "          docLink.innerHTML = docLinkHtml;\n",
              "          element.appendChild(docLink);\n",
              "        }\n",
              "      </script>\n",
              "    </div>\n",
              "  </div>\n",
              "  "
            ]
          },
          "metadata": {},
          "execution_count": 6
        }
      ],
      "source": [
        "\n",
        "df_dummies = pd.get_dummies(df,drop_first=True)\n",
        "df_dummies.head()"
      ]
    },
    {
      "cell_type": "markdown",
      "source": [
        "Creating dummy variables for algorithm."
      ],
      "metadata": {
        "id": "gzaEZFUZGi1o"
      }
    },
    {
      "cell_type": "markdown",
      "source": [
        "**Feature Engineering**"
      ],
      "metadata": {
        "id": "N9CgU1WhJadr"
      }
    },
    {
      "cell_type": "code",
      "execution_count": 7,
      "metadata": {
        "id": "nI4fjaN1YPyI"
      },
      "outputs": [],
      "source": [
        "features = df_dummies.drop(['high_risk_applicant'], axis =1)\n",
        "target =df_dummies['high_risk_applicant']"
      ]
    },
    {
      "cell_type": "markdown",
      "source": [
        "Extracting cateogrical features, and storing target column in a separate variable."
      ],
      "metadata": {
        "id": "zG3j0SyPG21D"
      }
    },
    {
      "cell_type": "code",
      "execution_count": 8,
      "metadata": {
        "colab": {
          "base_uri": "https://localhost:8080/"
        },
        "id": "oedB5ticYuXj",
        "outputId": "40521095-d822-4ef4-999f-57cbef43003e"
      },
      "outputs": [
        {
          "output_type": "execute_result",
          "data": {
            "text/plain": [
              "StandardScaler()"
            ]
          },
          "metadata": {},
          "execution_count": 8
        }
      ],
      "source": [
        "from sklearn.preprocessing import StandardScaler\n",
        "\n",
        "scaler = StandardScaler()\n",
        "scaler.fit(features)"
      ]
    },
    {
      "cell_type": "markdown",
      "source": [
        "Scaling features to make them better fit to the model."
      ],
      "metadata": {
        "id": "Lq8H4hAWHAlF"
      }
    },
    {
      "cell_type": "code",
      "execution_count": 9,
      "metadata": {
        "id": "MNO8f0d1aPuV"
      },
      "outputs": [],
      "source": [
        "x = scaler.fit_transform(features) #scalar transformation complete"
      ]
    },
    {
      "cell_type": "code",
      "execution_count": 10,
      "metadata": {
        "id": "iQTiq2T-acfo"
      },
      "outputs": [],
      "source": [
        "from sklearn.model_selection import train_test_split #train test split module"
      ]
    },
    {
      "cell_type": "code",
      "execution_count": 11,
      "metadata": {
        "id": "CRXRz7_yaTtz"
      },
      "outputs": [],
      "source": [
        "X_train, X_test , y_train, y_test = train_test_split(x, target , test_size=0.3, random_state=45)"
      ]
    },
    {
      "cell_type": "markdown",
      "source": [
        "Data split into training and testing cateogry in 70/30 ratio."
      ],
      "metadata": {
        "id": "6aODojiEJgQ5"
      }
    },
    {
      "cell_type": "markdown",
      "source": [
        "#3. **Logistic Regression**"
      ],
      "metadata": {
        "id": "5ESK4O8MJvQD"
      }
    },
    {
      "cell_type": "code",
      "execution_count": 12,
      "metadata": {
        "colab": {
          "base_uri": "https://localhost:8080/"
        },
        "id": "2sU-N1g9eT2W",
        "outputId": "baf9593e-5434-4378-a617-5528e7f900bf"
      },
      "outputs": [
        {
          "output_type": "execute_result",
          "data": {
            "text/plain": [
              "LogisticRegression()"
            ]
          },
          "metadata": {},
          "execution_count": 12
        }
      ],
      "source": [
        "Logit_Model = LogisticRegression() #store logistic regression algorithm in variable\n",
        "Logit_Model.fit(X_train,y_train) #fitting training dataset"
      ]
    },
    {
      "cell_type": "markdown",
      "source": [
        "Training dataset fit into Logistic regression model"
      ],
      "metadata": {
        "id": "zrM3dgY_J3K_"
      }
    },
    {
      "cell_type": "markdown",
      "source": [
        "**3.1 Hyper Parameter tuning**"
      ],
      "metadata": {
        "id": "nEJ3n0HrKCUK"
      }
    },
    {
      "cell_type": "code",
      "execution_count": 13,
      "metadata": {
        "id": "xjgRMuNaoLQB"
      },
      "outputs": [],
      "source": [
        "from sklearn.model_selection import GridSearchCV\n",
        "import warnings\n",
        "warnings.filterwarnings('ignore') #all warnngs to be ignored\n",
        "# parameter grid\n",
        "parameters = {\n",
        "    'penalty' : ['l1','l2'], \n",
        "    'C'       : np.logspace(-3,3,7),\n",
        "    'solver'  : ['newton-cg', 'lbfgs', 'liblinear'],\n",
        "}"
      ]
    },
    {
      "cell_type": "code",
      "execution_count": 14,
      "metadata": {
        "id": "bSkyIn7poM0X"
      },
      "outputs": [],
      "source": [
        "\n",
        "clf = GridSearchCV(Logit_Model,                    # model\n",
        "                   param_grid = parameters,   # hyperparameters\n",
        "                   scoring='accuracy',        # metric for scoring\n",
        "                   cv=10)                     # number of folds"
      ]
    },
    {
      "cell_type": "code",
      "execution_count": 15,
      "metadata": {
        "colab": {
          "base_uri": "https://localhost:8080/"
        },
        "id": "APBCuWMeoZgP",
        "outputId": "e6bbff22-6595-4012-e941-cd9a757e7540"
      },
      "outputs": [
        {
          "output_type": "execute_result",
          "data": {
            "text/plain": [
              "GridSearchCV(cv=10, estimator=LogisticRegression(),\n",
              "             param_grid={'C': array([1.e-03, 1.e-02, 1.e-01, 1.e+00, 1.e+01, 1.e+02, 1.e+03]),\n",
              "                         'penalty': ['l1', 'l2'],\n",
              "                         'solver': ['newton-cg', 'lbfgs', 'liblinear']},\n",
              "             scoring='accuracy')"
            ]
          },
          "metadata": {},
          "execution_count": 15
        }
      ],
      "source": [
        "clf.fit(X_train,y_train) #fitting our training dataset "
      ]
    },
    {
      "cell_type": "code",
      "execution_count": 16,
      "metadata": {
        "colab": {
          "base_uri": "https://localhost:8080/"
        },
        "id": "oXe7A1CuosXc",
        "outputId": "29854d9b-1e90-41c5-e050-aa08fe836e46"
      },
      "outputs": [
        {
          "output_type": "stream",
          "name": "stdout",
          "text": [
            "Tuned Hyperparameters : {'C': 1.0, 'penalty': 'l1', 'solver': 'liblinear'}\n",
            "Accuracy : 0.7342857142857143\n"
          ]
        }
      ],
      "source": [
        "print(\"Tuned Hyperparameters :\", clf.best_params_) #priniting best parameters and score\n",
        "print(\"Accuracy :\",clf.best_score_)"
      ]
    },
    {
      "cell_type": "code",
      "execution_count": 17,
      "metadata": {
        "id": "zUYuEhF2o6AP"
      },
      "outputs": [],
      "source": [
        "Logit_Model = LogisticRegression(C = 0.1, \n",
        "                            penalty = 'l2', \n",
        "                            solver = 'liblinear') #setting parameter range\n",
        "Logit_Model.fit(X_train,y_train) #fitting training data to tuned model\n",
        "y_pred_proba = Logit_Model.predict_proba(X_test)\n",
        "\n",
        "y_pred = np.where(y_pred_proba[:,0]>0.7, 0, 1) #if predicted value is greater than 0.7, then 0 otherwise 1"
      ]
    },
    {
      "cell_type": "markdown",
      "source": [
        "To minimise false negatives, we have set probability threshold for 0 to 0.7. If probability of 0 is greater than 0 then the prediction value will be 0, otherwise it will be 1."
      ],
      "metadata": {
        "id": "oAKgS9u7VyuM"
      }
    },
    {
      "cell_type": "markdown",
      "source": [
        "**3.2 Confusion Matrix**"
      ],
      "metadata": {
        "id": "dU6og5B1v1VL"
      }
    },
    {
      "cell_type": "code",
      "execution_count": 18,
      "metadata": {
        "colab": {
          "base_uri": "https://localhost:8080/",
          "height": 211
        },
        "id": "HIX55LRlTCrV",
        "outputId": "b6b7dfe7-54a7-4f1d-ddf0-a63152d4b74b"
      },
      "outputs": [
        {
          "output_type": "display_data",
          "data": {
            "text/plain": [
              "<Figure size 288x216 with 1 Axes>"
            ],
            "image/png": "[encoded data removed]"
          },
          "metadata": {
            "needs_background": "light"
          }
        }
      ],
      "source": [
        "from sklearn.metrics import confusion_matrix\n",
        "\n",
        "cm = confusion_matrix(y_test,y_pred)\n",
        "\n",
        "# label the confusion matrix  \n",
        "conf_matrix = pd.DataFrame(data=cm,columns=['Predicted:0','Predicted:1'],index=['Actual:0','Actual:1'])\n",
        "\n",
        "# set sizeof the plot\n",
        "plt.figure(figsize = (4,3))\n",
        "\n",
        "# plot a heatmap\n",
        "# cmap: colour code used for plotting\n",
        "# annot: prints the correlation values in the chart\n",
        "# annot_kws: sets the font size of the annotation\n",
        "# cbar=False: Whether to draw a colorbar\n",
        "# fmt: string formatting code to use when adding annotations\n",
        "sns.heatmap(conf_matrix, annot=True, fmt='d', cmap=\"YlGnBu\", cbar=False)\n",
        "plt.show()"
      ]
    },
    {
      "cell_type": "markdown",
      "source": [
        "After adjusting the probability threshold we can see that the number of false negatives has decreased."
      ],
      "metadata": {
        "id": "WMwvXYUhWAXE"
      }
    },
    {
      "cell_type": "code",
      "execution_count": 19,
      "metadata": {
        "colab": {
          "base_uri": "https://localhost:8080/"
        },
        "id": "KLeH9roHpcbc",
        "outputId": "f7e81fe7-d9a7-44c0-ae4c-764d40a86306"
      },
      "outputs": [
        {
          "output_type": "stream",
          "name": "stdout",
          "text": [
            "              precision    recall  f1-score   support\n",
            "\n",
            "           0       0.83      0.59      0.69       206\n",
            "           1       0.45      0.73      0.56        94\n",
            "\n",
            "    accuracy                           0.64       300\n",
            "   macro avg       0.64      0.66      0.62       300\n",
            "weighted avg       0.71      0.64      0.65       300\n",
            "\n"
          ]
        }
      ],
      "source": [
        "Report =classification_report(y_test, y_pred)\n",
        "print(Report)"
      ]
    },
    {
      "cell_type": "markdown",
      "source": [
        "# 4. SVC"
      ],
      "metadata": {
        "id": "1GY_cjuCvnt9"
      }
    },
    {
      "cell_type": "code",
      "execution_count": 20,
      "metadata": {
        "id": "Gt9xt95nMcX-",
        "colab": {
          "base_uri": "https://localhost:8080/"
        },
        "outputId": "83d5363c-0f07-44bd-9fd3-b12ce9e20683"
      },
      "outputs": [
        {
          "output_type": "execute_result",
          "data": {
            "text/plain": [
              "SVC()"
            ]
          },
          "metadata": {},
          "execution_count": 20
        }
      ],
      "source": [
        "SVCmodel = SVC() #setting SVC algorithm\n",
        "SVCmodel.fit(X_train, y_train) #fitting training dataset\n",
        "\n"
      ]
    },
    {
      "cell_type": "markdown",
      "source": [
        "4.1 HyperParameter Tuning"
      ],
      "metadata": {
        "id": "gZSjN6BCxVjN"
      }
    },
    {
      "cell_type": "code",
      "source": [
        "\n",
        "  \n",
        "# defining parameter range\n",
        "param_grid = {'C': [0.1, 1, 10, 100, 1000], \n",
        "              'gamma': [1, 0.1, 0.01, 0.001, 0.0001],\n",
        "              'kernel': ['rbf']} \n",
        "  \n",
        "grid = GridSearchCV(SVC(), param_grid, refit = True, verbose = 3)\n",
        "  \n",
        "# fitting the model for grid search\n",
        "grid.fit(X_train, y_train)"
      ],
      "metadata": {
        "colab": {
          "base_uri": "https://localhost:8080/"
        },
        "id": "65bltINLhKe1",
        "outputId": "da6eae08-be17-49be-d3fb-9d76a005688a"
      },
      "execution_count": 21,
      "outputs": [
        {
          "output_type": "stream",
          "name": "stdout",
          "text": [
            "Fitting 5 folds for each of 25 candidates, totalling 125 fits\n",
            "[CV 1/5] END ........C=0.1, gamma=1, kernel=rbf;, score=0.700 total time=   0.0s\n",
            "[CV 2/5] END ........C=0.1, gamma=1, kernel=rbf;, score=0.707 total time=   0.0s\n",
            "[CV 3/5] END ........C=0.1, gamma=1, kernel=rbf;, score=0.707 total time=   0.0s\n",
            "[CV 4/5] END ........C=0.1, gamma=1, kernel=rbf;, score=0.707 total time=   0.0s\n",
            "[CV 5/5] END ........C=0.1, gamma=1, kernel=rbf;, score=0.707 total time=   0.0s\n",
            "[CV 1/5] END ......C=0.1, gamma=0.1, kernel=rbf;, score=0.700 total time=   0.0s\n",
            "[CV 2/5] END ......C=0.1, gamma=0.1, kernel=rbf;, score=0.707 total time=   0.0s\n",
            "[CV 3/5] END ......C=0.1, gamma=0.1, kernel=rbf;, score=0.707 total time=   0.0s\n",
            "[CV 4/5] END ......C=0.1, gamma=0.1, kernel=rbf;, score=0.707 total time=   0.0s\n",
            "[CV 5/5] END ......C=0.1, gamma=0.1, kernel=rbf;, score=0.707 total time=   0.0s\n",
            "[CV 1/5] END .....C=0.1, gamma=0.01, kernel=rbf;, score=0.700 total time=   0.0s\n",
            "[CV 2/5] END .....C=0.1, gamma=0.01, kernel=rbf;, score=0.707 total time=   0.0s\n",
            "[CV 3/5] END .....C=0.1, gamma=0.01, kernel=rbf;, score=0.707 total time=   0.0s\n",
            "[CV 4/5] END .....C=0.1, gamma=0.01, kernel=rbf;, score=0.707 total time=   0.0s\n",
            "[CV 5/5] END .....C=0.1, gamma=0.01, kernel=rbf;, score=0.707 total time=   0.0s\n",
            "[CV 1/5] END ....C=0.1, gamma=0.001, kernel=rbf;, score=0.700 total time=   0.0s\n",
            "[CV 2/5] END ....C=0.1, gamma=0.001, kernel=rbf;, score=0.707 total time=   0.0s\n",
            "[CV 3/5] END ....C=0.1, gamma=0.001, kernel=rbf;, score=0.707 total time=   0.0s\n",
            "[CV 4/5] END ....C=0.1, gamma=0.001, kernel=rbf;, score=0.707 total time=   0.0s\n",
            "[CV 5/5] END ....C=0.1, gamma=0.001, kernel=rbf;, score=0.707 total time=   0.0s\n",
            "[CV 1/5] END ...C=0.1, gamma=0.0001, kernel=rbf;, score=0.700 total time=   0.0s\n",
            "[CV 2/5] END ...C=0.1, gamma=0.0001, kernel=rbf;, score=0.707 total time=   0.0s\n",
            "[CV 3/5] END ...C=0.1, gamma=0.0001, kernel=rbf;, score=0.707 total time=   0.0s\n",
            "[CV 4/5] END ...C=0.1, gamma=0.0001, kernel=rbf;, score=0.707 total time=   0.0s\n",
            "[CV 5/5] END ...C=0.1, gamma=0.0001, kernel=rbf;, score=0.707 total time=   0.0s\n",
            "[CV 1/5] END ..........C=1, gamma=1, kernel=rbf;, score=0.700 total time=   0.0s\n",
            "[CV 2/5] END ..........C=1, gamma=1, kernel=rbf;, score=0.707 total time=   0.1s\n",
            "[CV 3/5] END ..........C=1, gamma=1, kernel=rbf;, score=0.707 total time=   0.0s\n",
            "[CV 4/5] END ..........C=1, gamma=1, kernel=rbf;, score=0.707 total time=   0.0s\n",
            "[CV 5/5] END ..........C=1, gamma=1, kernel=rbf;, score=0.707 total time=   0.0s\n",
            "[CV 1/5] END ........C=1, gamma=0.1, kernel=rbf;, score=0.700 total time=   0.0s\n",
            "[CV 2/5] END ........C=1, gamma=0.1, kernel=rbf;, score=0.707 total time=   0.0s\n",
            "[CV 3/5] END ........C=1, gamma=0.1, kernel=rbf;, score=0.700 total time=   0.0s\n",
            "[CV 4/5] END ........C=1, gamma=0.1, kernel=rbf;, score=0.714 total time=   0.0s\n",
            "[CV 5/5] END ........C=1, gamma=0.1, kernel=rbf;, score=0.714 total time=   0.0s\n",
            "[CV 1/5] END .......C=1, gamma=0.01, kernel=rbf;, score=0.700 total time=   0.0s\n",
            "[CV 2/5] END .......C=1, gamma=0.01, kernel=rbf;, score=0.721 total time=   0.0s\n",
            "[CV 3/5] END .......C=1, gamma=0.01, kernel=rbf;, score=0.700 total time=   0.0s\n",
            "[CV 4/5] END .......C=1, gamma=0.01, kernel=rbf;, score=0.707 total time=   0.0s\n",
            "[CV 5/5] END .......C=1, gamma=0.01, kernel=rbf;, score=0.693 total time=   0.0s\n",
            "[CV 1/5] END ......C=1, gamma=0.001, kernel=rbf;, score=0.700 total time=   0.0s\n",
            "[CV 2/5] END ......C=1, gamma=0.001, kernel=rbf;, score=0.707 total time=   0.0s\n",
            "[CV 3/5] END ......C=1, gamma=0.001, kernel=rbf;, score=0.707 total time=   0.0s\n",
            "[CV 4/5] END ......C=1, gamma=0.001, kernel=rbf;, score=0.707 total time=   0.0s\n",
            "[CV 5/5] END ......C=1, gamma=0.001, kernel=rbf;, score=0.707 total time=   0.0s\n",
            "[CV 1/5] END .....C=1, gamma=0.0001, kernel=rbf;, score=0.700 total time=   0.0s\n",
            "[CV 2/5] END .....C=1, gamma=0.0001, kernel=rbf;, score=0.707 total time=   0.0s\n",
            "[CV 3/5] END .....C=1, gamma=0.0001, kernel=rbf;, score=0.707 total time=   0.0s\n",
            "[CV 4/5] END .....C=1, gamma=0.0001, kernel=rbf;, score=0.707 total time=   0.0s\n",
            "[CV 5/5] END .....C=1, gamma=0.0001, kernel=rbf;, score=0.707 total time=   0.0s\n",
            "[CV 1/5] END .........C=10, gamma=1, kernel=rbf;, score=0.700 total time=   0.0s\n",
            "[CV 2/5] END .........C=10, gamma=1, kernel=rbf;, score=0.707 total time=   0.0s\n",
            "[CV 3/5] END .........C=10, gamma=1, kernel=rbf;, score=0.707 total time=   0.0s\n",
            "[CV 4/5] END .........C=10, gamma=1, kernel=rbf;, score=0.707 total time=   0.0s\n",
            "[CV 5/5] END .........C=10, gamma=1, kernel=rbf;, score=0.707 total time=   0.0s\n",
            "[CV 1/5] END .......C=10, gamma=0.1, kernel=rbf;, score=0.707 total time=   0.0s\n",
            "[CV 2/5] END .......C=10, gamma=0.1, kernel=rbf;, score=0.707 total time=   0.0s\n",
            "[CV 3/5] END .......C=10, gamma=0.1, kernel=rbf;, score=0.700 total time=   0.0s\n",
            "[CV 4/5] END .......C=10, gamma=0.1, kernel=rbf;, score=0.714 total time=   0.0s\n",
            "[CV 5/5] END .......C=10, gamma=0.1, kernel=rbf;, score=0.686 total time=   0.1s\n",
            "[CV 1/5] END ......C=10, gamma=0.01, kernel=rbf;, score=0.721 total time=   0.1s\n",
            "[CV 2/5] END ......C=10, gamma=0.01, kernel=rbf;, score=0.679 total time=   0.1s\n",
            "[CV 3/5] END ......C=10, gamma=0.01, kernel=rbf;, score=0.736 total time=   0.0s\n",
            "[CV 4/5] END ......C=10, gamma=0.01, kernel=rbf;, score=0.664 total time=   0.1s\n",
            "[CV 5/5] END ......C=10, gamma=0.01, kernel=rbf;, score=0.700 total time=   0.1s\n",
            "[CV 1/5] END .....C=10, gamma=0.001, kernel=rbf;, score=0.721 total time=   0.0s\n",
            "[CV 2/5] END .....C=10, gamma=0.001, kernel=rbf;, score=0.729 total time=   0.0s\n",
            "[CV 3/5] END .....C=10, gamma=0.001, kernel=rbf;, score=0.721 total time=   0.0s\n",
            "[CV 4/5] END .....C=10, gamma=0.001, kernel=rbf;, score=0.700 total time=   0.0s\n",
            "[CV 5/5] END .....C=10, gamma=0.001, kernel=rbf;, score=0.700 total time=   0.0s\n",
            "[CV 1/5] END ....C=10, gamma=0.0001, kernel=rbf;, score=0.700 total time=   0.0s\n",
            "[CV 2/5] END ....C=10, gamma=0.0001, kernel=rbf;, score=0.707 total time=   0.0s\n",
            "[CV 3/5] END ....C=10, gamma=0.0001, kernel=rbf;, score=0.707 total time=   0.0s\n",
            "[CV 4/5] END ....C=10, gamma=0.0001, kernel=rbf;, score=0.707 total time=   0.0s\n",
            "[CV 5/5] END ....C=10, gamma=0.0001, kernel=rbf;, score=0.707 total time=   0.0s\n",
            "[CV 1/5] END ........C=100, gamma=1, kernel=rbf;, score=0.700 total time=   0.1s\n",
            "[CV 2/5] END ........C=100, gamma=1, kernel=rbf;, score=0.707 total time=   0.1s\n",
            "[CV 3/5] END ........C=100, gamma=1, kernel=rbf;, score=0.707 total time=   0.1s\n",
            "[CV 4/5] END ........C=100, gamma=1, kernel=rbf;, score=0.707 total time=   0.1s\n",
            "[CV 5/5] END ........C=100, gamma=1, kernel=rbf;, score=0.707 total time=   0.1s\n",
            "[CV 1/5] END ......C=100, gamma=0.1, kernel=rbf;, score=0.707 total time=   0.1s\n",
            "[CV 2/5] END ......C=100, gamma=0.1, kernel=rbf;, score=0.707 total time=   0.1s\n",
            "[CV 3/5] END ......C=100, gamma=0.1, kernel=rbf;, score=0.700 total time=   0.1s\n",
            "[CV 4/5] END ......C=100, gamma=0.1, kernel=rbf;, score=0.714 total time=   0.1s\n",
            "[CV 5/5] END ......C=100, gamma=0.1, kernel=rbf;, score=0.686 total time=   0.1s\n",
            "[CV 1/5] END .....C=100, gamma=0.01, kernel=rbf;, score=0.700 total time=   0.1s\n",
            "[CV 2/5] END .....C=100, gamma=0.01, kernel=rbf;, score=0.657 total time=   0.1s\n",
            "[CV 3/5] END .....C=100, gamma=0.01, kernel=rbf;, score=0.721 total time=   0.1s\n",
            "[CV 4/5] END .....C=100, gamma=0.01, kernel=rbf;, score=0.650 total time=   0.1s\n",
            "[CV 5/5] END .....C=100, gamma=0.01, kernel=rbf;, score=0.671 total time=   0.1s\n",
            "[CV 1/5] END ....C=100, gamma=0.001, kernel=rbf;, score=0.757 total time=   0.1s\n",
            "[CV 2/5] END ....C=100, gamma=0.001, kernel=rbf;, score=0.743 total time=   0.1s\n",
            "[CV 3/5] END ....C=100, gamma=0.001, kernel=rbf;, score=0.714 total time=   0.0s\n",
            "[CV 4/5] END ....C=100, gamma=0.001, kernel=rbf;, score=0.679 total time=   0.0s\n",
            "[CV 5/5] END ....C=100, gamma=0.001, kernel=rbf;, score=0.714 total time=   0.0s\n",
            "[CV 1/5] END ...C=100, gamma=0.0001, kernel=rbf;, score=0.736 total time=   0.0s\n",
            "[CV 2/5] END ...C=100, gamma=0.0001, kernel=rbf;, score=0.736 total time=   0.0s\n",
            "[CV 3/5] END ...C=100, gamma=0.0001, kernel=rbf;, score=0.721 total time=   0.0s\n",
            "[CV 4/5] END ...C=100, gamma=0.0001, kernel=rbf;, score=0.714 total time=   0.0s\n",
            "[CV 5/5] END ...C=100, gamma=0.0001, kernel=rbf;, score=0.700 total time=   0.0s\n",
            "[CV 1/5] END .......C=1000, gamma=1, kernel=rbf;, score=0.700 total time=   0.0s\n",
            "[CV 2/5] END .......C=1000, gamma=1, kernel=rbf;, score=0.707 total time=   0.0s\n",
            "[CV 3/5] END .......C=1000, gamma=1, kernel=rbf;, score=0.707 total time=   0.0s\n",
            "[CV 4/5] END .......C=1000, gamma=1, kernel=rbf;, score=0.707 total time=   0.0s\n",
            "[CV 5/5] END .......C=1000, gamma=1, kernel=rbf;, score=0.707 total time=   0.0s\n",
            "[CV 1/5] END .....C=1000, gamma=0.1, kernel=rbf;, score=0.707 total time=   0.0s\n",
            "[CV 2/5] END .....C=1000, gamma=0.1, kernel=rbf;, score=0.707 total time=   0.0s\n",
            "[CV 3/5] END .....C=1000, gamma=0.1, kernel=rbf;, score=0.700 total time=   0.0s\n",
            "[CV 4/5] END .....C=1000, gamma=0.1, kernel=rbf;, score=0.714 total time=   0.0s\n",
            "[CV 5/5] END .....C=1000, gamma=0.1, kernel=rbf;, score=0.686 total time=   0.0s\n",
            "[CV 1/5] END ....C=1000, gamma=0.01, kernel=rbf;, score=0.700 total time=   0.0s\n",
            "[CV 2/5] END ....C=1000, gamma=0.01, kernel=rbf;, score=0.650 total time=   0.0s\n",
            "[CV 3/5] END ....C=1000, gamma=0.01, kernel=rbf;, score=0.693 total time=   0.1s\n",
            "[CV 4/5] END ....C=1000, gamma=0.01, kernel=rbf;, score=0.671 total time=   0.1s\n",
            "[CV 5/5] END ....C=1000, gamma=0.01, kernel=rbf;, score=0.679 total time=   0.0s\n",
            "[CV 1/5] END ...C=1000, gamma=0.001, kernel=rbf;, score=0.750 total time=   0.1s\n",
            "[CV 2/5] END ...C=1000, gamma=0.001, kernel=rbf;, score=0.650 total time=   0.1s\n",
            "[CV 3/5] END ...C=1000, gamma=0.001, kernel=rbf;, score=0.714 total time=   0.1s\n",
            "[CV 4/5] END ...C=1000, gamma=0.001, kernel=rbf;, score=0.679 total time=   0.1s\n",
            "[CV 5/5] END ...C=1000, gamma=0.001, kernel=rbf;, score=0.729 total time=   0.1s\n",
            "[CV 1/5] END ..C=1000, gamma=0.0001, kernel=rbf;, score=0.743 total time=   0.0s\n",
            "[CV 2/5] END ..C=1000, gamma=0.0001, kernel=rbf;, score=0.764 total time=   0.0s\n",
            "[CV 3/5] END ..C=1000, gamma=0.0001, kernel=rbf;, score=0.693 total time=   0.0s\n",
            "[CV 4/5] END ..C=1000, gamma=0.0001, kernel=rbf;, score=0.743 total time=   0.1s\n",
            "[CV 5/5] END ..C=1000, gamma=0.0001, kernel=rbf;, score=0.721 total time=   0.1s\n"
          ]
        },
        {
          "output_type": "execute_result",
          "data": {
            "text/plain": [
              "GridSearchCV(estimator=SVC(),\n",
              "             param_grid={'C': [0.1, 1, 10, 100, 1000],\n",
              "                         'gamma': [1, 0.1, 0.01, 0.001, 0.0001],\n",
              "                         'kernel': ['rbf']},\n",
              "             verbose=3)"
            ]
          },
          "metadata": {},
          "execution_count": 21
        }
      ]
    },
    {
      "cell_type": "code",
      "source": [
        "# print best parameter after tuning\n",
        "print(grid.best_params_)\n",
        "  \n",
        "# print how our model looks after hyper-parameter tuning\n",
        "print(grid.best_estimator_)"
      ],
      "metadata": {
        "colab": {
          "base_uri": "https://localhost:8080/"
        },
        "id": "9AFzzQ_PjF1x",
        "outputId": "7a2648d5-efd8-480b-fbee-74d7450d0376"
      },
      "execution_count": 22,
      "outputs": [
        {
          "output_type": "stream",
          "name": "stdout",
          "text": [
            "{'C': 1000, 'gamma': 0.0001, 'kernel': 'rbf'}\n",
            "SVC(C=1000, gamma=0.0001)\n"
          ]
        }
      ]
    },
    {
      "cell_type": "code",
      "source": [
        "ysvc_predict = grid.predict(X_test) #predicting model with\n",
        "  \n"
      ],
      "metadata": {
        "id": "sgNG0uhEjIAU"
      },
      "execution_count": 23,
      "outputs": []
    },
    {
      "cell_type": "markdown",
      "source": [
        "**4.2 Confusion Matrix and Report**"
      ],
      "metadata": {
        "id": "VbDAluOQxiPq"
      }
    },
    {
      "cell_type": "code",
      "execution_count": 24,
      "metadata": {
        "colab": {
          "base_uri": "https://localhost:8080/",
          "height": 211
        },
        "id": "4anWicSrPZKx",
        "outputId": "41782632-128f-4f2c-a9be-0d6f3f1bcdb3"
      },
      "outputs": [
        {
          "output_type": "display_data",
          "data": {
            "text/plain": [
              "<Figure size 288x216 with 1 Axes>"
            ],
            "image/png": "[encoded data removed]"
          },
          "metadata": {
            "needs_background": "light"
          }
        }
      ],
      "source": [
        "\n",
        "# compute the confusion matrix\n",
        "cm = confusion_matrix(y_test,ysvc_predict)\n",
        "\n",
        "# label the confusion matrix  \n",
        "conf_matrix = pd.DataFrame(data=cm,columns=['Predicted:0','Predicted:1'],index=['Actual:0','Actual:1'])\n",
        "\n",
        "# set sizeof the plot\n",
        "plt.figure(figsize = (4,3))\n",
        "\n",
        "# plot a heatmap\n",
        "# cmap: colour code used for plotting\n",
        "# annot: prints the correlation values in the chart\n",
        "# annot_kws: sets the font size of the annotation\n",
        "# cbar=False: Whether to draw a colorbar\n",
        "# fmt: string formatting code to use when adding annotations\n",
        "sns.heatmap(conf_matrix, annot=True, fmt='d', cmap=\"YlGnBu\", cbar=False)\n",
        "plt.show()"
      ]
    },
    {
      "cell_type": "code",
      "execution_count": 25,
      "metadata": {
        "colab": {
          "base_uri": "https://localhost:8080/"
        },
        "id": "OjQ-J9ltPnwD",
        "outputId": "10186633-3438-4d80-a09a-3b91b2372280"
      },
      "outputs": [
        {
          "output_type": "stream",
          "name": "stdout",
          "text": [
            "              precision    recall  f1-score   support\n",
            "\n",
            "           0       0.75      0.83      0.79       206\n",
            "           1       0.53      0.40      0.46        94\n",
            "\n",
            "    accuracy                           0.70       300\n",
            "   macro avg       0.64      0.62      0.63       300\n",
            "weighted avg       0.68      0.70      0.69       300\n",
            "\n"
          ]
        }
      ],
      "source": [
        "result = classification_report(y_test,ysvc_predict)\n",
        "\n",
        "# print the result\n",
        "print(result)"
      ]
    },
    {
      "cell_type": "markdown",
      "source": [
        "# 5. Naive Bayes"
      ],
      "metadata": {
        "id": "FLmyKtF4xqmd"
      }
    },
    {
      "cell_type": "code",
      "execution_count": 26,
      "metadata": {
        "id": "vyBIYcRpPzNy",
        "colab": {
          "base_uri": "https://localhost:8080/"
        },
        "outputId": "746f7bda-7cb7-4d64-dbfc-2898788d3003"
      },
      "outputs": [
        {
          "output_type": "execute_result",
          "data": {
            "text/plain": [
              "GaussianNB()"
            ]
          },
          "metadata": {},
          "execution_count": 26
        }
      ],
      "source": [
        "\n",
        "\n",
        "#setting Naive Bayes variable\n",
        "GNB = GaussianNB()\n",
        "\n",
        "\n",
        "\n",
        "# fit the model\n",
        "GNB.fit(X_train, y_train)\n"
      ]
    },
    {
      "cell_type": "markdown",
      "source": [
        "5.1 HyperParameter Tuning"
      ],
      "metadata": {
        "id": "54gYoPYpxvHV"
      }
    },
    {
      "cell_type": "code",
      "source": [
        "params_NB = {'var_smoothing': np.logspace(0,-9, num=100)}\n",
        "gs_NB = GridSearchCV(estimator=GNB, \n",
        "                 param_grid=params_NB,     \n",
        "                 verbose=1, \n",
        "                 scoring='accuracy') \n",
        "gs_NB.fit(X_train, y_train)\n",
        "\n",
        "gs_NB.best_params_"
      ],
      "metadata": {
        "colab": {
          "base_uri": "https://localhost:8080/"
        },
        "id": "ao1LaIfVllfi",
        "outputId": "0d3ef921-ed2c-4b87-c31f-6159e0a435e6"
      },
      "execution_count": 27,
      "outputs": [
        {
          "output_type": "stream",
          "name": "stdout",
          "text": [
            "Fitting 5 folds for each of 100 candidates, totalling 500 fits\n"
          ]
        },
        {
          "output_type": "execute_result",
          "data": {
            "text/plain": [
              "{'var_smoothing': 1.0}"
            ]
          },
          "metadata": {},
          "execution_count": 27
        }
      ]
    },
    {
      "cell_type": "code",
      "source": [
        "ynb_predict=gs_NB.predict(X_test)"
      ],
      "metadata": {
        "id": "MBuDJU1UmJa-"
      },
      "execution_count": 28,
      "outputs": []
    },
    {
      "cell_type": "markdown",
      "source": [
        "5.2 Confusion Matrix and Report"
      ],
      "metadata": {
        "id": "PurYfDdsx2Ge"
      }
    },
    {
      "cell_type": "code",
      "execution_count": 29,
      "metadata": {
        "colab": {
          "base_uri": "https://localhost:8080/",
          "height": 211
        },
        "id": "LuUGUzGPT6st",
        "outputId": "21c6ed94-94f2-48e6-f707-1d12f307dbc1"
      },
      "outputs": [
        {
          "output_type": "display_data",
          "data": {
            "text/plain": [
              "<Figure size 288x216 with 1 Axes>"
            ],
            "image/png": "[encoded data removed]"
          },
          "metadata": {
            "needs_background": "light"
          }
        }
      ],
      "source": [
        "cm = confusion_matrix(y_test,ynb_predict)\n",
        "\n",
        "# label the confusion matrix  \n",
        "conf_matrix = pd.DataFrame(data=cm,columns=['Predicted:0','Predicted:1'],index=['Actual:0','Actual:1'])\n",
        "\n",
        "# set sizeof the plot\n",
        "plt.figure(figsize = (4,3))\n",
        "\n",
        "# plot a heatmap\n",
        "# cmap: colour code used for plotting\n",
        "# annot: prints the correlation values in the chart\n",
        "# annot_kws: sets the font size of the annotation\n",
        "# cbar=False: Whether to draw a colorbar\n",
        "# fmt: string formatting code to use when adding annotations\n",
        "sns.heatmap(conf_matrix, annot=True, fmt='d', cmap=\"YlGnBu\", cbar=False)\n",
        "plt.show()"
      ]
    },
    {
      "cell_type": "code",
      "execution_count": 30,
      "metadata": {
        "colab": {
          "base_uri": "https://localhost:8080/"
        },
        "id": "PM5tA9msUJ-2",
        "outputId": "1077bc83-d345-453d-d47f-dd3789650077"
      },
      "outputs": [
        {
          "output_type": "stream",
          "name": "stdout",
          "text": [
            "              precision    recall  f1-score   support\n",
            "\n",
            "           0       0.78      0.67      0.72       206\n",
            "           1       0.45      0.59      0.51        94\n",
            "\n",
            "    accuracy                           0.65       300\n",
            "   macro avg       0.62      0.63      0.62       300\n",
            "weighted avg       0.68      0.65      0.66       300\n",
            "\n"
          ]
        }
      ],
      "source": [
        "result = classification_report(y_test,ynb_predict)\n",
        "\n",
        "# print the result\n",
        "print(result)"
      ]
    },
    {
      "cell_type": "markdown",
      "source": [
        "# 6. Conclusion"
      ],
      "metadata": {
        "id": "d_p5Itatx714"
      }
    },
    {
      "cell_type": "markdown",
      "source": [
        "After checking Confusion Matrix and Crossvalidation Reports from 3 Classification Algorithms, we can conclude that:\n",
        "\n",
        "\n",
        "\n",
        "1.   Logistic Regression has The recall value for  high rish candidates is higher. This suggests that number of false negative is low. Hence this model is good for our Business Constraint. \n",
        "2.   SVC has comparitively higher number of false negatives and low recall score for high risk candidates. It is preferrable to not use this model considering our Business Constraints.\n",
        "3.Naive Bayes has fewer false negatives compared to SVC. It has higher accuracy compared to Logistic Regression model.\n",
        "\n",
        "Considering all the above facts, since the primary objective is to have fewer false negatives compared rather than higher accuracy, we should prefer Logistic Regression as the best model for this dataset.\n",
        "\n"
      ],
      "metadata": {
        "id": "Owg0WBaTyC6C"
      }
    },
    {
      "cell_type": "code",
      "source": [],
      "metadata": {
        "id": "lA3OTTeqzWFe"
      },
      "execution_count": 30,
      "outputs": []
    }
  ]
}