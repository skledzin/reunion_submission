{
  "cells": [
    {
      "cell_type": "markdown",
      "source": [
        "#1. Importing Packages"
      ],
      "metadata": {
        "id": "aVen-8-W9B-n"
      }
    },
    {
      "cell_type": "code",
      "execution_count": null,
      "metadata": {
        "id": "QVaTy2ryI54j"
      },
      "outputs": [],
      "source": [
        "import pandas as pd\n",
        "import numpy as np\n",
        "import matplotlib.pyplot as plt\n",
        "import seaborn as sns\n",
        "from sklearn.metrics import confusion_matrix\n",
        "\n",
        "\n"
      ]
    },
    {
      "cell_type": "code",
      "execution_count": null,
      "metadata": {
        "id": "vQ5wLueWFOcz"
      },
      "outputs": [],
      "source": [
        "# Supress Warnings\n",
        "import warnings\n",
        "warnings.filterwarnings('ignore')"
      ]
    },
    {
      "cell_type": "markdown",
      "source": [
        "# 2. Reading Data"
      ],
      "metadata": {
        "id": "-7sWn8Qn9Kuv"
      }
    },
    {
      "cell_type": "code",
      "execution_count": null,
      "metadata": {
        "id": "uyWzTtlEJNH4"
      },
      "outputs": [],
      "source": [
        "df_applicant=pd.read_csv('applicant.csv')\n",
        "df_loan=pd.read_csv('loan.csv')"
      ]
    },
    {
      "cell_type": "markdown",
      "source": [
        "2.1 Checking Data"
      ],
      "metadata": {
        "id": "Mad96UMI9O3c"
      }
    },
    {
      "cell_type": "code",
      "execution_count": null,
      "metadata": {
        "colab": {
          "base_uri": "https://localhost:8080/",
          "height": 300
        },
        "id": "dAbdRwdzJy3V",
        "outputId": "709aefc2-05bd-4c81-814b-4536b2700ad5"
      },
      "outputs": [
        {
          "output_type": "execute_result",
          "data": {
            "text/plain": [
              "       applicant_id  Primary_applicant_age_in_years  Number_of_dependents  \\\n",
              "count  1.000000e+03                     1000.000000           1000.000000   \n",
              "mean   1.514763e+06                       35.546000              1.155000   \n",
              "std    2.286764e+05                       11.375469              0.362086   \n",
              "min    1.105364e+06                       19.000000              1.000000   \n",
              "25%    1.321398e+06                       27.000000              1.000000   \n",
              "50%    1.529114e+06                       33.000000              1.000000   \n",
              "75%    1.707752e+06                       42.000000              1.000000   \n",
              "max    1.903505e+06                       75.000000              2.000000   \n",
              "\n",
              "       Years_at_current_residence  Foreign_worker  \n",
              "count                 1000.000000     1000.000000  \n",
              "mean                     2.845000        0.963000  \n",
              "std                      1.103718        0.188856  \n",
              "min                      1.000000        0.000000  \n",
              "25%                      2.000000        1.000000  \n",
              "50%                      3.000000        1.000000  \n",
              "75%                      4.000000        1.000000  \n",
              "max                      4.000000        1.000000  "
            ],
            "text/html": [
              "\n",
              "  <div id=\"df-b55a035c-7abb-4825-8e67-1aa5a274a36e\">\n",
              "    <div class=\"colab-df-container\">\n",
              "      <div>\n",
              "<style scoped>\n",
              "    .dataframe tbody tr th:only-of-type {\n",
              "        vertical-align: middle;\n",
              "    }\n",
              "\n",
              "    .dataframe tbody tr th {\n",
              "        vertical-align: top;\n",
              "    }\n",
              "\n",
              "    .dataframe thead th {\n",
              "        text-align: right;\n",
              "    }\n",
              "</style>\n",
              "<table border=\"1\" class=\"dataframe\">\n",
              "  <thead>\n",
              "    <tr style=\"text-align: right;\">\n",
              "      <th></th>\n",
              "      <th>applicant_id</th>\n",
              "      <th>Primary_applicant_age_in_years</th>\n",
              "      <th>Number_of_dependents</th>\n",
              "      <th>Years_at_current_residence</th>\n",
              "      <th>Foreign_worker</th>\n",
              "    </tr>\n",
              "  </thead>\n",
              "  <tbody>\n",
              "    <tr>\n",
              "      <th>count</th>\n",
              "      <td>1.000000e+03</td>\n",
              "      <td>1000.000000</td>\n",
              "      <td>1000.000000</td>\n",
              "      <td>1000.000000</td>\n",
              "      <td>1000.000000</td>\n",
              "    </tr>\n",
              "    <tr>\n",
              "      <th>mean</th>\n",
              "      <td>1.514763e+06</td>\n",
              "      <td>35.546000</td>\n",
              "      <td>1.155000</td>\n",
              "      <td>2.845000</td>\n",
              "      <td>0.963000</td>\n",
              "    </tr>\n",
              "    <tr>\n",
              "      <th>std</th>\n",
              "      <td>2.286764e+05</td>\n",
              "      <td>11.375469</td>\n",
              "      <td>0.362086</td>\n",
              "      <td>1.103718</td>\n",
              "      <td>0.188856</td>\n",
              "    </tr>\n",
              "    <tr>\n",
              "      <th>min</th>\n",
              "      <td>1.105364e+06</td>\n",
              "      <td>19.000000</td>\n",
              "      <td>1.000000</td>\n",
              "      <td>1.000000</td>\n",
              "      <td>0.000000</td>\n",
              "    </tr>\n",
              "    <tr>\n",
              "      <th>25%</th>\n",
              "      <td>1.321398e+06</td>\n",
              "      <td>27.000000</td>\n",
              "      <td>1.000000</td>\n",
              "      <td>2.000000</td>\n",
              "      <td>1.000000</td>\n",
              "    </tr>\n",
              "    <tr>\n",
              "      <th>50%</th>\n",
              "      <td>1.529114e+06</td>\n",
              "      <td>33.000000</td>\n",
              "      <td>1.000000</td>\n",
              "      <td>3.000000</td>\n",
              "      <td>1.000000</td>\n",
              "    </tr>\n",
              "    <tr>\n",
              "      <th>75%</th>\n",
              "      <td>1.707752e+06</td>\n",
              "      <td>42.000000</td>\n",
              "      <td>1.000000</td>\n",
              "      <td>4.000000</td>\n",
              "      <td>1.000000</td>\n",
              "    </tr>\n",
              "    <tr>\n",
              "      <th>max</th>\n",
              "      <td>1.903505e+06</td>\n",
              "      <td>75.000000</td>\n",
              "      <td>2.000000</td>\n",
              "      <td>4.000000</td>\n",
              "      <td>1.000000</td>\n",
              "    </tr>\n",
              "  </tbody>\n",
              "</table>\n",
              "</div>\n",
              "      <button class=\"colab-df-convert\" onclick=\"convertToInteractive('df-b55a035c-7abb-4825-8e67-1aa5a274a36e')\"\n",
              "              title=\"Convert this dataframe to an interactive table.\"\n",
              "              style=\"display:none;\">\n",
              "        \n",
              "  <svg xmlns=\"http://www.w3.org/2000/svg\" height=\"24px\"viewBox=\"0 0 24 24\"\n",
              "       width=\"24px\">\n",
              "    <path d=\"M0 0h24v24H0V0z\" fill=\"none\"/>\n",
              "    <path d=\"M18.56 5.44l.94 2.06.94-2.06 2.06-.94-2.06-.94-.94-2.06-.94 2.06-2.06.94zm-11 1L8.5 8.5l.94-2.06 2.06-.94-2.06-.94L8.5 2.5l-.94 2.06-2.06.94zm10 10l.94 2.06.94-2.06 2.06-.94-2.06-.94-.94-2.06-.94 2.06-2.06.94z\"/><path d=\"M17.41 7.96l-1.37-1.37c-.4-.4-.92-.59-1.43-.59-.52 0-1.04.2-1.43.59L10.3 9.45l-7.72 7.72c-.78.78-.78 2.05 0 2.83L4 21.41c.39.39.9.59 1.41.59.51 0 1.02-.2 1.41-.59l7.78-7.78 2.81-2.81c.8-.78.8-2.07 0-2.86zM5.41 20L4 18.59l7.72-7.72 1.47 1.35L5.41 20z\"/>\n",
              "  </svg>\n",
              "      </button>\n",
              "      \n",
              "  <style>\n",
              "    .colab-df-container {\n",
              "      display:flex;\n",
              "      flex-wrap:wrap;\n",
              "      gap: 12px;\n",
              "    }\n",
              "\n",
              "    .colab-df-convert {\n",
              "      background-color: #E8F0FE;\n",
              "      border: none;\n",
              "      border-radius: 50%;\n",
              "      cursor: pointer;\n",
              "      display: none;\n",
              "      fill: #1967D2;\n",
              "      height: 32px;\n",
              "      padding: 0 0 0 0;\n",
              "      width: 32px;\n",
              "    }\n",
              "\n",
              "    .colab-df-convert:hover {\n",
              "      background-color: #E2EBFA;\n",
              "      box-shadow: 0px 1px 2px rgba(60, 64, 67, 0.3), 0px 1px 3px 1px rgba(60, 64, 67, 0.15);\n",
              "      fill: #174EA6;\n",
              "    }\n",
              "\n",
              "    [theme=dark] .colab-df-convert {\n",
              "      background-color: #3B4455;\n",
              "      fill: #D2E3FC;\n",
              "    }\n",
              "\n",
              "    [theme=dark] .colab-df-convert:hover {\n",
              "      background-color: #434B5C;\n",
              "      box-shadow: 0px 1px 3px 1px rgba(0, 0, 0, 0.15);\n",
              "      filter: drop-shadow(0px 1px 2px rgba(0, 0, 0, 0.3));\n",
              "      fill: #FFFFFF;\n",
              "    }\n",
              "  </style>\n",
              "\n",
              "      <script>\n",
              "        const buttonEl =\n",
              "          document.querySelector('#df-b55a035c-7abb-4825-8e67-1aa5a274a36e button.colab-df-convert');\n",
              "        buttonEl.style.display =\n",
              "          google.colab.kernel.accessAllowed ? 'block' : 'none';\n",
              "\n",
              "        async function convertToInteractive(key) {\n",
              "          const element = document.querySelector('#df-b55a035c-7abb-4825-8e67-1aa5a274a36e');\n",
              "          const dataTable =\n",
              "            await google.colab.kernel.invokeFunction('convertToInteractive',\n",
              "                                                     [key], {});\n",
              "          if (!dataTable) return;\n",
              "\n",
              "          const docLinkHtml = 'Like what you see? Visit the ' +\n",
              "            '<a target=\"_blank\" href=https://colab.research.google.com/notebooks/data_table.ipynb>data table notebook</a>'\n",
              "            + ' to learn more about interactive tables.';\n",
              "          element.innerHTML = '';\n",
              "          dataTable['output_type'] = 'display_data';\n",
              "          await google.colab.output.renderOutput(dataTable, element);\n",
              "          const docLink = document.createElement('div');\n",
              "          docLink.innerHTML = docLinkHtml;\n",
              "          element.appendChild(docLink);\n",
              "        }\n",
              "      </script>\n",
              "    </div>\n",
              "  </div>\n",
              "  "
            ]
          },
          "metadata": {},
          "execution_count": 4
        }
      ],
      "source": [
        "df_applicant.describe()"
      ]
    },
    {
      "cell_type": "code",
      "execution_count": null,
      "metadata": {
        "colab": {
          "base_uri": "https://localhost:8080/",
          "height": 364
        },
        "id": "tmOeE_jHJ96M",
        "outputId": "c6b818f3-b3bb-48a7-f43a-188d3da90d3b"
      },
      "outputs": [
        {
          "output_type": "execute_result",
          "data": {
            "text/plain": [
              "       applicant_id  Months_loan_taken_for  Principal_loan_amount  \\\n",
              "count  1.000000e+03            1000.000000           1.000000e+03   \n",
              "mean   1.514763e+06              20.903000           3.271258e+06   \n",
              "std    2.286764e+05              12.058814           2.822737e+06   \n",
              "min    1.105364e+06               4.000000           2.500000e+05   \n",
              "25%    1.321398e+06              12.000000           1.365500e+06   \n",
              "50%    1.529114e+06              18.000000           2.319500e+06   \n",
              "75%    1.707752e+06              24.000000           3.972250e+06   \n",
              "max    1.903505e+06              72.000000           1.842400e+07   \n",
              "\n",
              "       EMI_rate_in_percentage_of_disposable_income  Has_coapplicant  \\\n",
              "count                                  1000.000000      1000.000000   \n",
              "mean                                      2.973000         0.041000   \n",
              "std                                       1.118715         0.198389   \n",
              "min                                       1.000000         0.000000   \n",
              "25%                                       2.000000         0.000000   \n",
              "50%                                       3.000000         0.000000   \n",
              "75%                                       4.000000         0.000000   \n",
              "max                                       4.000000         1.000000   \n",
              "\n",
              "       Has_guarantor  Number_of_existing_loans_at_this_bank  \\\n",
              "count    1000.000000                            1000.000000   \n",
              "mean        0.052000                               1.407000   \n",
              "std         0.222138                               0.577654   \n",
              "min         0.000000                               1.000000   \n",
              "25%         0.000000                               1.000000   \n",
              "50%         0.000000                               1.000000   \n",
              "75%         0.000000                               2.000000   \n",
              "max         1.000000                               4.000000   \n",
              "\n",
              "       high_risk_applicant  \n",
              "count          1000.000000  \n",
              "mean              0.300000  \n",
              "std               0.458487  \n",
              "min               0.000000  \n",
              "25%               0.000000  \n",
              "50%               0.000000  \n",
              "75%               1.000000  \n",
              "max               1.000000  "
            ],
            "text/html": [
              "\n",
              "  <div id=\"df-024afea6-5bc4-4059-9462-6707064aa26f\">\n",
              "    <div class=\"colab-df-container\">\n",
              "      <div>\n",
              "<style scoped>\n",
              "    .dataframe tbody tr th:only-of-type {\n",
              "        vertical-align: middle;\n",
              "    }\n",
              "\n",
              "    .dataframe tbody tr th {\n",
              "        vertical-align: top;\n",
              "    }\n",
              "\n",
              "    .dataframe thead th {\n",
              "        text-align: right;\n",
              "    }\n",
              "</style>\n",
              "<table border=\"1\" class=\"dataframe\">\n",
              "  <thead>\n",
              "    <tr style=\"text-align: right;\">\n",
              "      <th></th>\n",
              "      <th>applicant_id</th>\n",
              "      <th>Months_loan_taken_for</th>\n",
              "      <th>Principal_loan_amount</th>\n",
              "      <th>EMI_rate_in_percentage_of_disposable_income</th>\n",
              "      <th>Has_coapplicant</th>\n",
              "      <th>Has_guarantor</th>\n",
              "      <th>Number_of_existing_loans_at_this_bank</th>\n",
              "      <th>high_risk_applicant</th>\n",
              "    </tr>\n",
              "  </thead>\n",
              "  <tbody>\n",
              "    <tr>\n",
              "      <th>count</th>\n",
              "      <td>1.000000e+03</td>\n",
              "      <td>1000.000000</td>\n",
              "      <td>1.000000e+03</td>\n",
              "      <td>1000.000000</td>\n",
              "      <td>1000.000000</td>\n",
              "      <td>1000.000000</td>\n",
              "      <td>1000.000000</td>\n",
              "      <td>1000.000000</td>\n",
              "    </tr>\n",
              "    <tr>\n",
              "      <th>mean</th>\n",
              "      <td>1.514763e+06</td>\n",
              "      <td>20.903000</td>\n",
              "      <td>3.271258e+06</td>\n",
              "      <td>2.973000</td>\n",
              "      <td>0.041000</td>\n",
              "      <td>0.052000</td>\n",
              "      <td>1.407000</td>\n",
              "      <td>0.300000</td>\n",
              "    </tr>\n",
              "    <tr>\n",
              "      <th>std</th>\n",
              "      <td>2.286764e+05</td>\n",
              "      <td>12.058814</td>\n",
              "      <td>2.822737e+06</td>\n",
              "      <td>1.118715</td>\n",
              "      <td>0.198389</td>\n",
              "      <td>0.222138</td>\n",
              "      <td>0.577654</td>\n",
              "      <td>0.458487</td>\n",
              "    </tr>\n",
              "    <tr>\n",
              "      <th>min</th>\n",
              "      <td>1.105364e+06</td>\n",
              "      <td>4.000000</td>\n",
              "      <td>2.500000e+05</td>\n",
              "      <td>1.000000</td>\n",
              "      <td>0.000000</td>\n",
              "      <td>0.000000</td>\n",
              "      <td>1.000000</td>\n",
              "      <td>0.000000</td>\n",
              "    </tr>\n",
              "    <tr>\n",
              "      <th>25%</th>\n",
              "      <td>1.321398e+06</td>\n",
              "      <td>12.000000</td>\n",
              "      <td>1.365500e+06</td>\n",
              "      <td>2.000000</td>\n",
              "      <td>0.000000</td>\n",
              "      <td>0.000000</td>\n",
              "      <td>1.000000</td>\n",
              "      <td>0.000000</td>\n",
              "    </tr>\n",
              "    <tr>\n",
              "      <th>50%</th>\n",
              "      <td>1.529114e+06</td>\n",
              "      <td>18.000000</td>\n",
              "      <td>2.319500e+06</td>\n",
              "      <td>3.000000</td>\n",
              "      <td>0.000000</td>\n",
              "      <td>0.000000</td>\n",
              "      <td>1.000000</td>\n",
              "      <td>0.000000</td>\n",
              "    </tr>\n",
              "    <tr>\n",
              "      <th>75%</th>\n",
              "      <td>1.707752e+06</td>\n",
              "      <td>24.000000</td>\n",
              "      <td>3.972250e+06</td>\n",
              "      <td>4.000000</td>\n",
              "      <td>0.000000</td>\n",
              "      <td>0.000000</td>\n",
              "      <td>2.000000</td>\n",
              "      <td>1.000000</td>\n",
              "    </tr>\n",
              "    <tr>\n",
              "      <th>max</th>\n",
              "      <td>1.903505e+06</td>\n",
              "      <td>72.000000</td>\n",
              "      <td>1.842400e+07</td>\n",
              "      <td>4.000000</td>\n",
              "      <td>1.000000</td>\n",
              "      <td>1.000000</td>\n",
              "      <td>4.000000</td>\n",
              "      <td>1.000000</td>\n",
              "    </tr>\n",
              "  </tbody>\n",
              "</table>\n",
              "</div>\n",
              "      <button class=\"colab-df-convert\" onclick=\"convertToInteractive('df-024afea6-5bc4-4059-9462-6707064aa26f')\"\n",
              "              title=\"Convert this dataframe to an interactive table.\"\n",
              "              style=\"display:none;\">\n",
              "        \n",
              "  <svg xmlns=\"http://www.w3.org/2000/svg\" height=\"24px\"viewBox=\"0 0 24 24\"\n",
              "       width=\"24px\">\n",
              "    <path d=\"M0 0h24v24H0V0z\" fill=\"none\"/>\n",
              "    <path d=\"M18.56 5.44l.94 2.06.94-2.06 2.06-.94-2.06-.94-.94-2.06-.94 2.06-2.06.94zm-11 1L8.5 8.5l.94-2.06 2.06-.94-2.06-.94L8.5 2.5l-.94 2.06-2.06.94zm10 10l.94 2.06.94-2.06 2.06-.94-2.06-.94-.94-2.06-.94 2.06-2.06.94z\"/><path d=\"M17.41 7.96l-1.37-1.37c-.4-.4-.92-.59-1.43-.59-.52 0-1.04.2-1.43.59L10.3 9.45l-7.72 7.72c-.78.78-.78 2.05 0 2.83L4 21.41c.39.39.9.59 1.41.59.51 0 1.02-.2 1.41-.59l7.78-7.78 2.81-2.81c.8-.78.8-2.07 0-2.86zM5.41 20L4 18.59l7.72-7.72 1.47 1.35L5.41 20z\"/>\n",
              "  </svg>\n",
              "      </button>\n",
              "      \n",
              "  <style>\n",
              "    .colab-df-container {\n",
              "      display:flex;\n",
              "      flex-wrap:wrap;\n",
              "      gap: 12px;\n",
              "    }\n",
              "\n",
              "    .colab-df-convert {\n",
              "      background-color: #E8F0FE;\n",
              "      border: none;\n",
              "      border-radius: 50%;\n",
              "      cursor: pointer;\n",
              "      display: none;\n",
              "      fill: #1967D2;\n",
              "      height: 32px;\n",
              "      padding: 0 0 0 0;\n",
              "      width: 32px;\n",
              "    }\n",
              "\n",
              "    .colab-df-convert:hover {\n",
              "      background-color: #E2EBFA;\n",
              "      box-shadow: 0px 1px 2px rgba(60, 64, 67, 0.3), 0px 1px 3px 1px rgba(60, 64, 67, 0.15);\n",
              "      fill: #174EA6;\n",
              "    }\n",
              "\n",
              "    [theme=dark] .colab-df-convert {\n",
              "      background-color: #3B4455;\n",
              "      fill: #D2E3FC;\n",
              "    }\n",
              "\n",
              "    [theme=dark] .colab-df-convert:hover {\n",
              "      background-color: #434B5C;\n",
              "      box-shadow: 0px 1px 3px 1px rgba(0, 0, 0, 0.15);\n",
              "      filter: drop-shadow(0px 1px 2px rgba(0, 0, 0, 0.3));\n",
              "      fill: #FFFFFF;\n",
              "    }\n",
              "  </style>\n",
              "\n",
              "      <script>\n",
              "        const buttonEl =\n",
              "          document.querySelector('#df-024afea6-5bc4-4059-9462-6707064aa26f button.colab-df-convert');\n",
              "        buttonEl.style.display =\n",
              "          google.colab.kernel.accessAllowed ? 'block' : 'none';\n",
              "\n",
              "        async function convertToInteractive(key) {\n",
              "          const element = document.querySelector('#df-024afea6-5bc4-4059-9462-6707064aa26f');\n",
              "          const dataTable =\n",
              "            await google.colab.kernel.invokeFunction('convertToInteractive',\n",
              "                                                     [key], {});\n",
              "          if (!dataTable) return;\n",
              "\n",
              "          const docLinkHtml = 'Like what you see? Visit the ' +\n",
              "            '<a target=\"_blank\" href=https://colab.research.google.com/notebooks/data_table.ipynb>data table notebook</a>'\n",
              "            + ' to learn more about interactive tables.';\n",
              "          element.innerHTML = '';\n",
              "          dataTable['output_type'] = 'display_data';\n",
              "          await google.colab.output.renderOutput(dataTable, element);\n",
              "          const docLink = document.createElement('div');\n",
              "          docLink.innerHTML = docLinkHtml;\n",
              "          element.appendChild(docLink);\n",
              "        }\n",
              "      </script>\n",
              "    </div>\n",
              "  </div>\n",
              "  "
            ]
          },
          "metadata": {},
          "execution_count": 5
        }
      ],
      "source": [
        "df_loan.describe()"
      ]
    },
    {
      "cell_type": "markdown",
      "source": [
        "# 3. Data Wrangling "
      ],
      "metadata": {
        "id": "YcbMnHFn9cqJ"
      }
    },
    {
      "cell_type": "markdown",
      "source": [
        "3.1 Merging two dataframes"
      ],
      "metadata": {
        "id": "Gunzhy1A9TIB"
      }
    },
    {
      "cell_type": "code",
      "execution_count": null,
      "metadata": {
        "id": "cN7iRGOxKCJA"
      },
      "outputs": [],
      "source": [
        "df=pd.merge(df_applicant, df_loan, on ='applicant_id')"
      ]
    },
    {
      "cell_type": "code",
      "execution_count": null,
      "metadata": {
        "colab": {
          "base_uri": "https://localhost:8080/"
        },
        "id": "4T7i-w5KKrWP",
        "outputId": "48cc9dd8-a009-47b2-cd56-0d4cede36a99"
      },
      "outputs": [
        {
          "output_type": "execute_result",
          "data": {
            "text/plain": [
              "(1000, 27)"
            ]
          },
          "metadata": {},
          "execution_count": 7
        }
      ],
      "source": [
        "df.shape #checking data shape"
      ]
    },
    {
      "cell_type": "code",
      "execution_count": null,
      "metadata": {
        "colab": {
          "base_uri": "https://localhost:8080/",
          "height": 364
        },
        "id": "iAIKYftGK1ZZ",
        "outputId": "63158eb7-7641-48bb-ed24-a6f72de60e0e"
      },
      "outputs": [
        {
          "output_type": "execute_result",
          "data": {
            "text/plain": [
              "       applicant_id  Primary_applicant_age_in_years  Number_of_dependents  \\\n",
              "count  1.000000e+03                     1000.000000           1000.000000   \n",
              "mean   1.514763e+06                       35.546000              1.155000   \n",
              "std    2.286764e+05                       11.375469              0.362086   \n",
              "min    1.105364e+06                       19.000000              1.000000   \n",
              "25%    1.321398e+06                       27.000000              1.000000   \n",
              "50%    1.529114e+06                       33.000000              1.000000   \n",
              "75%    1.707752e+06                       42.000000              1.000000   \n",
              "max    1.903505e+06                       75.000000              2.000000   \n",
              "\n",
              "       Years_at_current_residence  Foreign_worker  Months_loan_taken_for  \\\n",
              "count                 1000.000000     1000.000000            1000.000000   \n",
              "mean                     2.845000        0.963000              20.903000   \n",
              "std                      1.103718        0.188856              12.058814   \n",
              "min                      1.000000        0.000000               4.000000   \n",
              "25%                      2.000000        1.000000              12.000000   \n",
              "50%                      3.000000        1.000000              18.000000   \n",
              "75%                      4.000000        1.000000              24.000000   \n",
              "max                      4.000000        1.000000              72.000000   \n",
              "\n",
              "       Principal_loan_amount  EMI_rate_in_percentage_of_disposable_income  \\\n",
              "count           1.000000e+03                                  1000.000000   \n",
              "mean            3.271258e+06                                     2.973000   \n",
              "std             2.822737e+06                                     1.118715   \n",
              "min             2.500000e+05                                     1.000000   \n",
              "25%             1.365500e+06                                     2.000000   \n",
              "50%             2.319500e+06                                     3.000000   \n",
              "75%             3.972250e+06                                     4.000000   \n",
              "max             1.842400e+07                                     4.000000   \n",
              "\n",
              "       Has_coapplicant  Has_guarantor  Number_of_existing_loans_at_this_bank  \\\n",
              "count      1000.000000    1000.000000                            1000.000000   \n",
              "mean          0.041000       0.052000                               1.407000   \n",
              "std           0.198389       0.222138                               0.577654   \n",
              "min           0.000000       0.000000                               1.000000   \n",
              "25%           0.000000       0.000000                               1.000000   \n",
              "50%           0.000000       0.000000                               1.000000   \n",
              "75%           0.000000       0.000000                               2.000000   \n",
              "max           1.000000       1.000000                               4.000000   \n",
              "\n",
              "       high_risk_applicant  \n",
              "count          1000.000000  \n",
              "mean              0.300000  \n",
              "std               0.458487  \n",
              "min               0.000000  \n",
              "25%               0.000000  \n",
              "50%               0.000000  \n",
              "75%               1.000000  \n",
              "max               1.000000  "
            ],
            "text/html": [
              "\n",
              "  <div id=\"df-46963f97-1634-487c-9bc0-c9d1f6ee04d1\">\n",
              "    <div class=\"colab-df-container\">\n",
              "      <div>\n",
              "<style scoped>\n",
              "    .dataframe tbody tr th:only-of-type {\n",
              "        vertical-align: middle;\n",
              "    }\n",
              "\n",
              "    .dataframe tbody tr th {\n",
              "        vertical-align: top;\n",
              "    }\n",
              "\n",
              "    .dataframe thead th {\n",
              "        text-align: right;\n",
              "    }\n",
              "</style>\n",
              "<table border=\"1\" class=\"dataframe\">\n",
              "  <thead>\n",
              "    <tr style=\"text-align: right;\">\n",
              "      <th></th>\n",
              "      <th>applicant_id</th>\n",
              "      <th>Primary_applicant_age_in_years</th>\n",
              "      <th>Number_of_dependents</th>\n",
              "      <th>Years_at_current_residence</th>\n",
              "      <th>Foreign_worker</th>\n",
              "      <th>Months_loan_taken_for</th>\n",
              "      <th>Principal_loan_amount</th>\n",
              "      <th>EMI_rate_in_percentage_of_disposable_income</th>\n",
              "      <th>Has_coapplicant</th>\n",
              "      <th>Has_guarantor</th>\n",
              "      <th>Number_of_existing_loans_at_this_bank</th>\n",
              "      <th>high_risk_applicant</th>\n",
              "    </tr>\n",
              "  </thead>\n",
              "  <tbody>\n",
              "    <tr>\n",
              "      <th>count</th>\n",
              "      <td>1.000000e+03</td>\n",
              "      <td>1000.000000</td>\n",
              "      <td>1000.000000</td>\n",
              "      <td>1000.000000</td>\n",
              "      <td>1000.000000</td>\n",
              "      <td>1000.000000</td>\n",
              "      <td>1.000000e+03</td>\n",
              "      <td>1000.000000</td>\n",
              "      <td>1000.000000</td>\n",
              "      <td>1000.000000</td>\n",
              "      <td>1000.000000</td>\n",
              "      <td>1000.000000</td>\n",
              "    </tr>\n",
              "    <tr>\n",
              "      <th>mean</th>\n",
              "      <td>1.514763e+06</td>\n",
              "      <td>35.546000</td>\n",
              "      <td>1.155000</td>\n",
              "      <td>2.845000</td>\n",
              "      <td>0.963000</td>\n",
              "      <td>20.903000</td>\n",
              "      <td>3.271258e+06</td>\n",
              "      <td>2.973000</td>\n",
              "      <td>0.041000</td>\n",
              "      <td>0.052000</td>\n",
              "      <td>1.407000</td>\n",
              "      <td>0.300000</td>\n",
              "    </tr>\n",
              "    <tr>\n",
              "      <th>std</th>\n",
              "      <td>2.286764e+05</td>\n",
              "      <td>11.375469</td>\n",
              "      <td>0.362086</td>\n",
              "      <td>1.103718</td>\n",
              "      <td>0.188856</td>\n",
              "      <td>12.058814</td>\n",
              "      <td>2.822737e+06</td>\n",
              "      <td>1.118715</td>\n",
              "      <td>0.198389</td>\n",
              "      <td>0.222138</td>\n",
              "      <td>0.577654</td>\n",
              "      <td>0.458487</td>\n",
              "    </tr>\n",
              "    <tr>\n",
              "      <th>min</th>\n",
              "      <td>1.105364e+06</td>\n",
              "      <td>19.000000</td>\n",
              "      <td>1.000000</td>\n",
              "      <td>1.000000</td>\n",
              "      <td>0.000000</td>\n",
              "      <td>4.000000</td>\n",
              "      <td>2.500000e+05</td>\n",
              "      <td>1.000000</td>\n",
              "      <td>0.000000</td>\n",
              "      <td>0.000000</td>\n",
              "      <td>1.000000</td>\n",
              "      <td>0.000000</td>\n",
              "    </tr>\n",
              "    <tr>\n",
              "      <th>25%</th>\n",
              "      <td>1.321398e+06</td>\n",
              "      <td>27.000000</td>\n",
              "      <td>1.000000</td>\n",
              "      <td>2.000000</td>\n",
              "      <td>1.000000</td>\n",
              "      <td>12.000000</td>\n",
              "      <td>1.365500e+06</td>\n",
              "      <td>2.000000</td>\n",
              "      <td>0.000000</td>\n",
              "      <td>0.000000</td>\n",
              "      <td>1.000000</td>\n",
              "      <td>0.000000</td>\n",
              "    </tr>\n",
              "    <tr>\n",
              "      <th>50%</th>\n",
              "      <td>1.529114e+06</td>\n",
              "      <td>33.000000</td>\n",
              "      <td>1.000000</td>\n",
              "      <td>3.000000</td>\n",
              "      <td>1.000000</td>\n",
              "      <td>18.000000</td>\n",
              "      <td>2.319500e+06</td>\n",
              "      <td>3.000000</td>\n",
              "      <td>0.000000</td>\n",
              "      <td>0.000000</td>\n",
              "      <td>1.000000</td>\n",
              "      <td>0.000000</td>\n",
              "    </tr>\n",
              "    <tr>\n",
              "      <th>75%</th>\n",
              "      <td>1.707752e+06</td>\n",
              "      <td>42.000000</td>\n",
              "      <td>1.000000</td>\n",
              "      <td>4.000000</td>\n",
              "      <td>1.000000</td>\n",
              "      <td>24.000000</td>\n",
              "      <td>3.972250e+06</td>\n",
              "      <td>4.000000</td>\n",
              "      <td>0.000000</td>\n",
              "      <td>0.000000</td>\n",
              "      <td>2.000000</td>\n",
              "      <td>1.000000</td>\n",
              "    </tr>\n",
              "    <tr>\n",
              "      <th>max</th>\n",
              "      <td>1.903505e+06</td>\n",
              "      <td>75.000000</td>\n",
              "      <td>2.000000</td>\n",
              "      <td>4.000000</td>\n",
              "      <td>1.000000</td>\n",
              "      <td>72.000000</td>\n",
              "      <td>1.842400e+07</td>\n",
              "      <td>4.000000</td>\n",
              "      <td>1.000000</td>\n",
              "      <td>1.000000</td>\n",
              "      <td>4.000000</td>\n",
              "      <td>1.000000</td>\n",
              "    </tr>\n",
              "  </tbody>\n",
              "</table>\n",
              "</div>\n",
              "      <button class=\"colab-df-convert\" onclick=\"convertToInteractive('df-46963f97-1634-487c-9bc0-c9d1f6ee04d1')\"\n",
              "              title=\"Convert this dataframe to an interactive table.\"\n",
              "              style=\"display:none;\">\n",
              "        \n",
              "  <svg xmlns=\"http://www.w3.org/2000/svg\" height=\"24px\"viewBox=\"0 0 24 24\"\n",
              "       width=\"24px\">\n",
              "    <path d=\"M0 0h24v24H0V0z\" fill=\"none\"/>\n",
              "    <path d=\"M18.56 5.44l.94 2.06.94-2.06 2.06-.94-2.06-.94-.94-2.06-.94 2.06-2.06.94zm-11 1L8.5 8.5l.94-2.06 2.06-.94-2.06-.94L8.5 2.5l-.94 2.06-2.06.94zm10 10l.94 2.06.94-2.06 2.06-.94-2.06-.94-.94-2.06-.94 2.06-2.06.94z\"/><path d=\"M17.41 7.96l-1.37-1.37c-.4-.4-.92-.59-1.43-.59-.52 0-1.04.2-1.43.59L10.3 9.45l-7.72 7.72c-.78.78-.78 2.05 0 2.83L4 21.41c.39.39.9.59 1.41.59.51 0 1.02-.2 1.41-.59l7.78-7.78 2.81-2.81c.8-.78.8-2.07 0-2.86zM5.41 20L4 18.59l7.72-7.72 1.47 1.35L5.41 20z\"/>\n",
              "  </svg>\n",
              "      </button>\n",
              "      \n",
              "  <style>\n",
              "    .colab-df-container {\n",
              "      display:flex;\n",
              "      flex-wrap:wrap;\n",
              "      gap: 12px;\n",
              "    }\n",
              "\n",
              "    .colab-df-convert {\n",
              "      background-color: #E8F0FE;\n",
              "      border: none;\n",
              "      border-radius: 50%;\n",
              "      cursor: pointer;\n",
              "      display: none;\n",
              "      fill: #1967D2;\n",
              "      height: 32px;\n",
              "      padding: 0 0 0 0;\n",
              "      width: 32px;\n",
              "    }\n",
              "\n",
              "    .colab-df-convert:hover {\n",
              "      background-color: #E2EBFA;\n",
              "      box-shadow: 0px 1px 2px rgba(60, 64, 67, 0.3), 0px 1px 3px 1px rgba(60, 64, 67, 0.15);\n",
              "      fill: #174EA6;\n",
              "    }\n",
              "\n",
              "    [theme=dark] .colab-df-convert {\n",
              "      background-color: #3B4455;\n",
              "      fill: #D2E3FC;\n",
              "    }\n",
              "\n",
              "    [theme=dark] .colab-df-convert:hover {\n",
              "      background-color: #434B5C;\n",
              "      box-shadow: 0px 1px 3px 1px rgba(0, 0, 0, 0.15);\n",
              "      filter: drop-shadow(0px 1px 2px rgba(0, 0, 0, 0.3));\n",
              "      fill: #FFFFFF;\n",
              "    }\n",
              "  </style>\n",
              "\n",
              "      <script>\n",
              "        const buttonEl =\n",
              "          document.querySelector('#df-46963f97-1634-487c-9bc0-c9d1f6ee04d1 button.colab-df-convert');\n",
              "        buttonEl.style.display =\n",
              "          google.colab.kernel.accessAllowed ? 'block' : 'none';\n",
              "\n",
              "        async function convertToInteractive(key) {\n",
              "          const element = document.querySelector('#df-46963f97-1634-487c-9bc0-c9d1f6ee04d1');\n",
              "          const dataTable =\n",
              "            await google.colab.kernel.invokeFunction('convertToInteractive',\n",
              "                                                     [key], {});\n",
              "          if (!dataTable) return;\n",
              "\n",
              "          const docLinkHtml = 'Like what you see? Visit the ' +\n",
              "            '<a target=\"_blank\" href=https://colab.research.google.com/notebooks/data_table.ipynb>data table notebook</a>'\n",
              "            + ' to learn more about interactive tables.';\n",
              "          element.innerHTML = '';\n",
              "          dataTable['output_type'] = 'display_data';\n",
              "          await google.colab.output.renderOutput(dataTable, element);\n",
              "          const docLink = document.createElement('div');\n",
              "          docLink.innerHTML = docLinkHtml;\n",
              "          element.appendChild(docLink);\n",
              "        }\n",
              "      </script>\n",
              "    </div>\n",
              "  </div>\n",
              "  "
            ]
          },
          "metadata": {},
          "execution_count": 8
        }
      ],
      "source": [
        "df.describe()"
      ]
    },
    {
      "cell_type": "code",
      "execution_count": null,
      "metadata": {
        "colab": {
          "base_uri": "https://localhost:8080/"
        },
        "id": "KiftmxIlN736",
        "outputId": "ad706506-71e2-4f82-9a25-9c7689832fcc"
      },
      "outputs": [
        {
          "output_type": "stream",
          "name": "stdout",
          "text": [
            "<class 'pandas.core.frame.DataFrame'>\n",
            "Int64Index: 1000 entries, 0 to 999\n",
            "Data columns (total 27 columns):\n",
            " #   Column                                                    Non-Null Count  Dtype \n",
            "---  ------                                                    --------------  ----- \n",
            " 0   applicant_id                                              1000 non-null   int64 \n",
            " 1   Primary_applicant_age_in_years                            1000 non-null   int64 \n",
            " 2   Gender                                                    1000 non-null   object\n",
            " 3   Marital_status                                            1000 non-null   object\n",
            " 4   Number_of_dependents                                      1000 non-null   int64 \n",
            " 5   Housing                                                   1000 non-null   object\n",
            " 6   Years_at_current_residence                                1000 non-null   int64 \n",
            " 7   Employment_status                                         1000 non-null   object\n",
            " 8   Has_been_employed_for_at_least                            938 non-null    object\n",
            " 9   Has_been_employed_for_at_most                             747 non-null    object\n",
            " 10  Telephone                                                 404 non-null    object\n",
            " 11  Foreign_worker                                            1000 non-null   int64 \n",
            " 12  Savings_account_balance                                   817 non-null    object\n",
            " 13  Balance_in_existing_bank_account_(lower_limit_of_bucket)  332 non-null    object\n",
            " 14  Balance_in_existing_bank_account_(upper_limit_of_bucket)  543 non-null    object\n",
            " 15  loan_application_id                                       1000 non-null   object\n",
            " 16  Months_loan_taken_for                                     1000 non-null   int64 \n",
            " 17  Purpose                                                   988 non-null    object\n",
            " 18  Principal_loan_amount                                     1000 non-null   int64 \n",
            " 19  EMI_rate_in_percentage_of_disposable_income               1000 non-null   int64 \n",
            " 20  Property                                                  846 non-null    object\n",
            " 21  Has_coapplicant                                           1000 non-null   int64 \n",
            " 22  Has_guarantor                                             1000 non-null   int64 \n",
            " 23  Other_EMI_plans                                           186 non-null    object\n",
            " 24  Number_of_existing_loans_at_this_bank                     1000 non-null   int64 \n",
            " 25  Loan_history                                              1000 non-null   object\n",
            " 26  high_risk_applicant                                       1000 non-null   int64 \n",
            "dtypes: int64(12), object(15)\n",
            "memory usage: 218.8+ KB\n"
          ]
        }
      ],
      "source": [
        "df.info() #checking data columns"
      ]
    },
    {
      "cell_type": "code",
      "execution_count": null,
      "metadata": {
        "colab": {
          "base_uri": "https://localhost:8080/"
        },
        "id": "GuVsAdUKN_vL",
        "outputId": "b05b2b77-8ef2-4795-aa03-1d34e4cf7457"
      },
      "outputs": [
        {
          "output_type": "execute_result",
          "data": {
            "text/plain": [
              "applicant_id                                                  0\n",
              "Primary_applicant_age_in_years                                0\n",
              "Gender                                                        0\n",
              "Marital_status                                                0\n",
              "Number_of_dependents                                          0\n",
              "Housing                                                       0\n",
              "Years_at_current_residence                                    0\n",
              "Employment_status                                             0\n",
              "Has_been_employed_for_at_least                               62\n",
              "Has_been_employed_for_at_most                               253\n",
              "Telephone                                                   596\n",
              "Foreign_worker                                                0\n",
              "Savings_account_balance                                     183\n",
              "Balance_in_existing_bank_account_(lower_limit_of_bucket)    668\n",
              "Balance_in_existing_bank_account_(upper_limit_of_bucket)    457\n",
              "loan_application_id                                           0\n",
              "Months_loan_taken_for                                         0\n",
              "Purpose                                                      12\n",
              "Principal_loan_amount                                         0\n",
              "EMI_rate_in_percentage_of_disposable_income                   0\n",
              "Property                                                    154\n",
              "Has_coapplicant                                               0\n",
              "Has_guarantor                                                 0\n",
              "Other_EMI_plans                                             814\n",
              "Number_of_existing_loans_at_this_bank                         0\n",
              "Loan_history                                                  0\n",
              "high_risk_applicant                                           0\n",
              "dtype: int64"
            ]
          },
          "metadata": {},
          "execution_count": 10
        }
      ],
      "source": [
        "df.isnull().sum() #number of null values in each column"
      ]
    },
    {
      "cell_type": "code",
      "execution_count": null,
      "metadata": {
        "colab": {
          "base_uri": "https://localhost:8080/"
        },
        "id": "xL-Ll6wCOJ7r",
        "outputId": "b9bb530b-2520-45bf-e27f-d6f12f76f1b7"
      },
      "outputs": [
        {
          "output_type": "execute_result",
          "data": {
            "text/plain": [
              "applicant_id                                                 0.0\n",
              "Primary_applicant_age_in_years                               0.0\n",
              "Gender                                                       0.0\n",
              "Marital_status                                               0.0\n",
              "Number_of_dependents                                         0.0\n",
              "Housing                                                      0.0\n",
              "Years_at_current_residence                                   0.0\n",
              "Employment_status                                            0.0\n",
              "Has_been_employed_for_at_least                               6.2\n",
              "Has_been_employed_for_at_most                               25.3\n",
              "Telephone                                                   59.6\n",
              "Foreign_worker                                               0.0\n",
              "Savings_account_balance                                     18.3\n",
              "Balance_in_existing_bank_account_(lower_limit_of_bucket)    66.8\n",
              "Balance_in_existing_bank_account_(upper_limit_of_bucket)    45.7\n",
              "loan_application_id                                          0.0\n",
              "Months_loan_taken_for                                        0.0\n",
              "Purpose                                                      1.2\n",
              "Principal_loan_amount                                        0.0\n",
              "EMI_rate_in_percentage_of_disposable_income                  0.0\n",
              "Property                                                    15.4\n",
              "Has_coapplicant                                              0.0\n",
              "Has_guarantor                                                0.0\n",
              "Other_EMI_plans                                             81.4\n",
              "Number_of_existing_loans_at_this_bank                        0.0\n",
              "Loan_history                                                 0.0\n",
              "high_risk_applicant                                          0.0\n",
              "dtype: float64"
            ]
          },
          "metadata": {},
          "execution_count": 11
        }
      ],
      "source": [
        "missing_values=round(100*(df.isnull().sum()/len(df.applicant_id)),3)\n",
        "missing_values #percentage of null values with respect to non null values"
      ]
    },
    {
      "cell_type": "code",
      "execution_count": null,
      "metadata": {
        "colab": {
          "base_uri": "https://localhost:8080/"
        },
        "id": "5yGtkJZNOonR",
        "outputId": "eee00785-9a9d-4a59-842b-24376b172e43"
      },
      "outputs": [
        {
          "output_type": "execute_result",
          "data": {
            "text/plain": [
              "4"
            ]
          },
          "metadata": {},
          "execution_count": 12
        }
      ],
      "source": [
        "missing_values=missing_values[missing_values>=40]\n",
        "len(missing_values) #columns with more than 40% missing values"
      ]
    },
    {
      "cell_type": "markdown",
      "source": [
        "There are 4 columns having the highest missing percentage( >=40%) . Since imputing the missing the missing rows will introduce bias to the dataset, we will remove them"
      ],
      "metadata": {
        "id": "jtq0GmovgpGf"
      }
    },
    {
      "cell_type": "code",
      "execution_count": null,
      "metadata": {
        "id": "lGo--GYFPkPY"
      },
      "outputs": [],
      "source": [
        "cols_to_remove=missing_values.index\n",
        "df.drop(labels=cols_to_remove,axis=1,inplace=True)"
      ]
    },
    {
      "cell_type": "code",
      "execution_count": null,
      "metadata": {
        "colab": {
          "base_uri": "https://localhost:8080/"
        },
        "id": "mXgEXNUKQt4E",
        "outputId": "57a19405-1465-43a1-87c6-6410cf008ee3"
      },
      "outputs": [
        {
          "output_type": "execute_result",
          "data": {
            "text/plain": [
              "(1000, 23)"
            ]
          },
          "metadata": {},
          "execution_count": 14
        }
      ],
      "source": [
        "df.shape"
      ]
    },
    {
      "cell_type": "markdown",
      "source": [
        "Shape of Data after removal"
      ],
      "metadata": {
        "id": "Fkt8RDsdg8KZ"
      }
    },
    {
      "cell_type": "markdown",
      "source": [
        "**Imputing missing values with Model**"
      ],
      "metadata": {
        "id": "eF14jn6EhPSp"
      }
    },
    {
      "cell_type": "code",
      "execution_count": null,
      "metadata": {
        "colab": {
          "base_uri": "https://localhost:8080/"
        },
        "id": "LKb9lIXacKfZ",
        "outputId": "487b2f4e-80e3-40de-b41d-6fa3622537ea"
      },
      "outputs": [
        {
          "output_type": "execute_result",
          "data": {
            "text/plain": [
              "0    1 year\n",
              "dtype: object"
            ]
          },
          "metadata": {},
          "execution_count": 15
        }
      ],
      "source": [
        "df['Has_been_employed_for_at_least'].mode() #checking most frequent datapoint"
      ]
    },
    {
      "cell_type": "code",
      "execution_count": null,
      "metadata": {
        "colab": {
          "base_uri": "https://localhost:8080/"
        },
        "id": "g16QkvcdcXxJ",
        "outputId": "29fef431-cd43-4dfc-acee-8cb670e4d09e"
      },
      "outputs": [
        {
          "output_type": "execute_result",
          "data": {
            "text/plain": [
              "0    4 years\n",
              "dtype: object"
            ]
          },
          "metadata": {},
          "execution_count": 16
        }
      ],
      "source": [
        "df['Has_been_employed_for_at_most'].mode() #checking most frequent datapoint"
      ]
    },
    {
      "cell_type": "code",
      "execution_count": null,
      "metadata": {
        "id": "i-0v0iKPxu9I"
      },
      "outputs": [],
      "source": [
        "\t\n",
        "df['Has_been_employed_for_at_least'] = df['Has_been_employed_for_at_least'].fillna(df['Has_been_employed_for_at_least'].mode()[0])\n",
        "df['Has_been_employed_for_at_most'] = df['Has_been_employed_for_at_most'].fillna(df['Has_been_employed_for_at_most'].mode()[0])\n",
        "df['Savings_account_balance'] = df['Savings_account_balance'].fillna(df['Savings_account_balance'].mode()[0])\n",
        "df['Property'] = df['Property'].fillna(df['Property'].mode()[0])\n",
        "\n"
      ]
    },
    {
      "cell_type": "markdown",
      "source": [
        "Checking the number of unique values in each column, to see if the data is continuous or qualitative."
      ],
      "metadata": {
        "id": "Pne3IcW3hdop"
      }
    },
    {
      "cell_type": "code",
      "execution_count": null,
      "metadata": {
        "colab": {
          "base_uri": "https://localhost:8080/"
        },
        "id": "UzQhFcZ8IncK",
        "outputId": "e0602768-be27-4bbb-fabe-8d5da57f0a0f"
      },
      "outputs": [
        {
          "output_type": "stream",
          "name": "stdout",
          "text": [
            "high_risk_applicant                               2\n",
            "Gender                                            2\n",
            "Has_guarantor                                     2\n",
            "Number_of_dependents                              2\n",
            "Has_coapplicant                                   2\n",
            "Foreign_worker                                    2\n",
            "Housing                                           3\n",
            "Property                                          3\n",
            "Number_of_existing_loans_at_this_bank             4\n",
            "EMI_rate_in_percentage_of_disposable_income       4\n",
            "Savings_account_balance                           4\n",
            "Has_been_employed_for_at_least                    4\n",
            "Employment_status                                 4\n",
            "Years_at_current_residence                        4\n",
            "Marital_status                                    4\n",
            "Has_been_employed_for_at_most                     4\n",
            "Loan_history                                      5\n",
            "Purpose                                           9\n",
            "Months_loan_taken_for                            33\n",
            "Primary_applicant_age_in_years                   53\n",
            "Principal_loan_amount                           921\n",
            "loan_application_id                            1000\n",
            "applicant_id                                   1000\n",
            "dtype: int64\n",
            "<class 'pandas.core.frame.DataFrame'>\n",
            "Int64Index: 1000 entries, 0 to 999\n",
            "Data columns (total 23 columns):\n",
            " #   Column                                       Non-Null Count  Dtype \n",
            "---  ------                                       --------------  ----- \n",
            " 0   applicant_id                                 1000 non-null   int64 \n",
            " 1   Primary_applicant_age_in_years               1000 non-null   int64 \n",
            " 2   Gender                                       1000 non-null   object\n",
            " 3   Marital_status                               1000 non-null   object\n",
            " 4   Number_of_dependents                         1000 non-null   int64 \n",
            " 5   Housing                                      1000 non-null   object\n",
            " 6   Years_at_current_residence                   1000 non-null   int64 \n",
            " 7   Employment_status                            1000 non-null   object\n",
            " 8   Has_been_employed_for_at_least               1000 non-null   object\n",
            " 9   Has_been_employed_for_at_most                1000 non-null   object\n",
            " 10  Foreign_worker                               1000 non-null   int64 \n",
            " 11  Savings_account_balance                      1000 non-null   object\n",
            " 12  loan_application_id                          1000 non-null   object\n",
            " 13  Months_loan_taken_for                        1000 non-null   int64 \n",
            " 14  Purpose                                      988 non-null    object\n",
            " 15  Principal_loan_amount                        1000 non-null   int64 \n",
            " 16  EMI_rate_in_percentage_of_disposable_income  1000 non-null   int64 \n",
            " 17  Property                                     1000 non-null   object\n",
            " 18  Has_coapplicant                              1000 non-null   int64 \n",
            " 19  Has_guarantor                                1000 non-null   int64 \n",
            " 20  Number_of_existing_loans_at_this_bank        1000 non-null   int64 \n",
            " 21  Loan_history                                 1000 non-null   object\n",
            " 22  high_risk_applicant                          1000 non-null   int64 \n",
            "dtypes: int64(12), object(11)\n",
            "memory usage: 187.5+ KB\n",
            "None\n"
          ]
        }
      ],
      "source": [
        "print(df.nunique().sort_values())\n",
        "print(df.info())\n"
      ]
    },
    {
      "cell_type": "markdown",
      "source": [
        "Parameters with more that 50 unique values should be considered continuous. Remaining ones will be converted to object type."
      ],
      "metadata": {
        "id": "_sbkcBPwhtyq"
      }
    },
    {
      "cell_type": "code",
      "execution_count": null,
      "metadata": {
        "id": "Ga58faw3I2aG"
      },
      "outputs": [],
      "source": [
        "df['Number_of_dependents']=df['Number_of_dependents'].astype(object) #changing the column to object type"
      ]
    },
    {
      "cell_type": "code",
      "execution_count": null,
      "metadata": {
        "id": "toL9o_qeKQaN"
      },
      "outputs": [],
      "source": [
        "df['Foreign_worker' ]=df['Foreign_worker'].astype(object) #changing the column to object type\n"
      ]
    },
    {
      "cell_type": "code",
      "execution_count": null,
      "metadata": {
        "id": "TLUhluHdMLD3"
      },
      "outputs": [],
      "source": [
        "df['EMI_rate_in_percentage_of_disposable_income' ]=df['EMI_rate_in_percentage_of_disposable_income'].astype(object) #changing the column to object type"
      ]
    },
    {
      "cell_type": "code",
      "execution_count": null,
      "metadata": {
        "id": "oH67_BhHMLn8"
      },
      "outputs": [],
      "source": [
        "df['Has_coapplicant' ]=df['Has_coapplicant'].astype(object) #changing the column to object type"
      ]
    },
    {
      "cell_type": "code",
      "execution_count": null,
      "metadata": {
        "id": "-Y_XWFWCML9k"
      },
      "outputs": [],
      "source": [
        "df['Has_guarantor' ]=df['Has_guarantor'].astype(object) #changing the column to object type"
      ]
    },
    {
      "cell_type": "code",
      "execution_count": null,
      "metadata": {
        "id": "s22G8-YtMMbv"
      },
      "outputs": [],
      "source": [
        "df['Number_of_existing_loans_at_this_bank' ]=df['Number_of_existing_loans_at_this_bank'].astype(object) #changing the column to object type"
      ]
    },
    {
      "cell_type": "code",
      "execution_count": null,
      "metadata": {
        "id": "lYa66S1UMNIO"
      },
      "outputs": [],
      "source": [
        "df['high_risk_applicant']=df['high_risk_applicant'].astype(object) #changing the column to object type"
      ]
    },
    {
      "cell_type": "code",
      "execution_count": null,
      "metadata": {
        "id": "kOCPCxTQgD1o"
      },
      "outputs": [],
      "source": [
        "df['Years_at_current_residence']=df['Years_at_current_residence'].astype(object) #changing the column to object type"
      ]
    },
    {
      "cell_type": "markdown",
      "source": [
        "Dropping Loan Applicant Id column as it serves no purpose to our Data Analysis."
      ],
      "metadata": {
        "id": "ohMlcRG4iBnG"
      }
    },
    {
      "cell_type": "code",
      "execution_count": null,
      "metadata": {
        "id": "fDdjYmjkNPfa"
      },
      "outputs": [],
      "source": [
        "df.drop(labels='loan_application_id',axis=1,inplace=True) #dropping loan_application_id column as it serves no purpose to our analysis"
      ]
    },
    {
      "cell_type": "markdown",
      "source": [
        "#4. Exploratory Data Analysis"
      ],
      "metadata": {
        "id": "CRAgOTwfiJhq"
      }
    },
    {
      "cell_type": "code",
      "execution_count": null,
      "metadata": {
        "colab": {
          "base_uri": "https://localhost:8080/"
        },
        "id": "DiSuzM1nqeUk",
        "outputId": "e97147c5-e475-413d-95c6-7e46c9317379"
      },
      "outputs": [
        {
          "output_type": "execute_result",
          "data": {
            "text/plain": [
              "count    1000.000000\n",
              "mean       35.546000\n",
              "std        11.375469\n",
              "min        19.000000\n",
              "25%        27.000000\n",
              "50%        33.000000\n",
              "75%        42.000000\n",
              "max        75.000000\n",
              "Name: Primary_applicant_age_in_years, dtype: float64"
            ]
          },
          "metadata": {},
          "execution_count": 28
        }
      ],
      "source": [
        "df.Primary_applicant_age_in_years.describe()"
      ]
    },
    {
      "cell_type": "markdown",
      "source": [
        "Checking for outliers in numerical columns"
      ],
      "metadata": {
        "id": "4msLuK-AmPES"
      }
    },
    {
      "cell_type": "code",
      "execution_count": null,
      "metadata": {
        "colab": {
          "base_uri": "https://localhost:8080/",
          "height": 296
        },
        "id": "z917ksgYq7n8",
        "outputId": "ce050325-b96a-43f4-99af-556dc7a46296"
      },
      "outputs": [
        {
          "output_type": "display_data",
          "data": {
            "text/plain": [
              "<Figure size 432x288 with 1 Axes>"
            ],
            "image/png": "[encoded data removed]"
          },
          "metadata": {
            "needs_background": "light"
          }
        }
      ],
      "source": [
        "sns.boxplot(df.Primary_applicant_age_in_years) #boxplot for age\n",
        "plt.title('Distribution of Applicant age')\n",
        "plt.show()"
      ]
    },
    {
      "cell_type": "code",
      "execution_count": 161,
      "metadata": {
        "colab": {
          "base_uri": "https://localhost:8080/"
        },
        "id": "GZ-Ev9M4rhXU",
        "outputId": "929cb1e0-676e-465d-f0dd-5c95ea16e639"
      },
      "outputs": [
        {
          "output_type": "stream",
          "name": "stdout",
          "text": [
            "Applicant age outliers from Z-scores method:  [70, 74, 75, 74, 75, 74, 74]\n"
          ]
        }
      ],
      "source": [
        "\n",
        "def detect_outliers_zscore(data): #function to extract outliers\n",
        "    outliers = []\n",
        "    thres = 3\n",
        "    mean = np.mean(data)\n",
        "    std = np.std(data)\n",
        "    # print(mean, std)\n",
        "    for i in data:\n",
        "        z_score = (i-mean)/std\n",
        "        if (np.abs(z_score) > thres):\n",
        "            outliers.append(i)\n",
        "    return outliers# Driver code\n",
        "sample_outliers_age = detect_outliers_zscore(df.Primary_applicant_age_in_years)\n",
        "print(\"Applicant age outliers from Z-scores method: \", sample_outliers_age)"
      ]
    },
    {
      "cell_type": "code",
      "source": [
        "sns.boxplot(df.Months_loan_taken_for)\n",
        "plt.title('Distribution of Loan Duration')\n",
        "plt.show()"
      ],
      "metadata": {
        "colab": {
          "base_uri": "https://localhost:8080/",
          "height": 296
        },
        "id": "POtRqnx6cTqC",
        "outputId": "5ee04bf2-9c85-4d89-eb05-76a69e8d386a"
      },
      "execution_count": 154,
      "outputs": [
        {
          "output_type": "display_data",
          "data": {
            "text/plain": [
              "<Figure size 432x288 with 1 Axes>"
            ],
            "image/png": "[encoded data removed]"
          },
          "metadata": {
            "needs_background": "light"
          }
        }
      ]
    },
    {
      "cell_type": "code",
      "source": [
        "sample_outliers_months = detect_outliers_zscore(df.Months_loan_taken_for) #storing outliers in a new list\n",
        "print(\"Applicant age outliers from Z-scores method: \", sample_outliers_months)"
      ],
      "metadata": {
        "colab": {
          "base_uri": "https://localhost:8080/"
        },
        "id": "cEk2R9H5dTjB",
        "outputId": "e1c290ed-432a-4961-96af-e0037871cf57"
      },
      "execution_count": 162,
      "outputs": [
        {
          "output_type": "stream",
          "name": "stdout",
          "text": [
            "Applicant age outliers from Z-scores method:  [60, 60, 60, 60, 60, 60, 60, 60, 60, 72, 60, 60, 60, 60]\n"
          ]
        }
      ]
    },
    {
      "cell_type": "code",
      "source": [
        "sns.boxplot(df.Principal_loan_amount ) \n",
        "plt.title('Distribution of Loan Amount')\n",
        "plt.show()"
      ],
      "metadata": {
        "colab": {
          "base_uri": "https://localhost:8080/",
          "height": 296
        },
        "id": "2hI93inuclhf",
        "outputId": "1af6041b-8946-4044-b2ad-92f41c2656fd"
      },
      "execution_count": 158,
      "outputs": [
        {
          "output_type": "display_data",
          "data": {
            "text/plain": [
              "<Figure size 432x288 with 1 Axes>"
            ],
            "image/png": "[encoded data removed]"
          },
          "metadata": {
            "needs_background": "light"
          }
        }
      ]
    },
    {
      "cell_type": "code",
      "source": [
        "sample_outliers_amount = detect_outliers_zscore(df.Principal_loan_amount ) #storing outliers in a new list\n",
        "print(\"Applicant age outliers from Z-scores method: \", sample_outliers_amount)"
      ],
      "metadata": {
        "colab": {
          "base_uri": "https://localhost:8080/"
        },
        "id": "krvUSe__dvE3",
        "outputId": "ed27e324-ec62-49f6-b4db-07b1cb72c5e6"
      },
      "execution_count": 163,
      "outputs": [
        {
          "output_type": "stream",
          "name": "stdout",
          "text": [
            "Applicant age outliers from Z-scores method:  [12579000, 14421000, 12612000, 15945000, 11938000, 14555000, 12169000, 11998000, 13756000, 14782000, 14318000, 12976000, 11760000, 12389000, 12204000, 15653000, 14027000, 14179000, 12680000, 15857000, 11816000, 15672000, 18424000, 14896000, 12749000]\n"
          ]
        }
      ]
    },
    {
      "cell_type": "markdown",
      "source": [
        "we will not remove outliears are they are outliears for individual applicant age, loan amount and loan duration. Since these outliers occur due to natural variations in the population demographics, and their spending habit as well as borrowing habits, they will be left as is within this dataset."
      ],
      "metadata": {
        "id": "1gnln8Cvdrkx"
      }
    },
    {
      "cell_type": "markdown",
      "source": [
        "**4.1 Univariate Analysis**"
      ],
      "metadata": {
        "id": "6ILr5Am5me6U"
      }
    },
    {
      "cell_type": "code",
      "execution_count": null,
      "metadata": {
        "colab": {
          "base_uri": "https://localhost:8080/",
          "height": 280
        },
        "id": "G-8qLnMouvah",
        "outputId": "dd64d411-5e2f-46dd-8e17-801d7f38eb6b"
      },
      "outputs": [
        {
          "output_type": "display_data",
          "data": {
            "text/plain": [
              "<Figure size 432x288 with 1 Axes>"
            ],
            "image/png": "[encoded data removed]"
          },
          "metadata": {
            "needs_background": "light"
          }
        }
      ],
      "source": [
        "sns.countplot(df.high_risk_applicant,data=df,palette = \"rainbow\")\n",
        "plt.show()"
      ]
    },
    {
      "cell_type": "markdown",
      "source": [
        "Number of Low risk applicants are significantly more than number of high risk applicants"
      ],
      "metadata": {
        "id": "y0yM3jWDmlrS"
      }
    },
    {
      "cell_type": "code",
      "execution_count": null,
      "metadata": {
        "colab": {
          "base_uri": "https://localhost:8080/",
          "height": 280
        },
        "id": "jY-efGncwzJL",
        "outputId": "afda3b34-c687-4ee7-b948-94a0784824dc"
      },
      "outputs": [
        {
          "output_type": "display_data",
          "data": {
            "text/plain": [
              "<Figure size 432x288 with 1 Axes>"
            ],
            "image/png": "[encoded data removed]"
          },
          "metadata": {
            "needs_background": "light"
          }
        }
      ],
      "source": [
        "sns.countplot(df.Years_at_current_residence ,data=df,palette = \"rainbow\")\n",
        "plt.show()"
      ]
    },
    {
      "cell_type": "markdown",
      "source": [
        "Most of the applicants have stayed in their current residence for 4 years, followed by 2 years."
      ],
      "metadata": {
        "id": "MX0gAlYYmryw"
      }
    },
    {
      "cell_type": "code",
      "execution_count": null,
      "metadata": {
        "colab": {
          "base_uri": "https://localhost:8080/",
          "height": 279
        },
        "id": "leRQGF18fWwM",
        "outputId": "ec6cb31f-f5b3-46ff-a0e2-dfde3cf3af1d"
      },
      "outputs": [
        {
          "output_type": "display_data",
          "data": {
            "text/plain": [
              "<Figure size 432x288 with 1 Axes>"
            ],
            "image/png": "[encoded data removed]"
          },
          "metadata": {
            "needs_background": "light"
          }
        }
      ],
      "source": [
        "sns.countplot(df.Gender ,data=df,palette = \"rainbow\")\n",
        "plt.show()"
      ]
    },
    {
      "cell_type": "markdown",
      "source": [
        "Males signifcantly outweigh Females for loan applications"
      ],
      "metadata": {
        "id": "TOdqsoZTm121"
      }
    },
    {
      "cell_type": "code",
      "execution_count": null,
      "metadata": {
        "colab": {
          "base_uri": "https://localhost:8080/",
          "height": 498
        },
        "id": "Rv4C2DaggfaR",
        "outputId": "2225bba0-e5b1-4c91-9dad-41cf6136bc1a"
      },
      "outputs": [
        {
          "output_type": "display_data",
          "data": {
            "text/plain": [
              "<Figure size 648x576 with 1 Axes>"
            ],
            "image/png": "[encoded data removed]"
          },
          "metadata": {
            "needs_background": "light"
          }
        }
      ],
      "source": [
        "plt.figure(figsize=(9,8))\n",
        "sns.countplot(df.Marital_status ,data=df,palette = \"rainbow\")\n",
        "plt.show()"
      ]
    },
    {
      "cell_type": "markdown",
      "source": [
        "Most of the loan applicants are Single. Applicants who fall into 'Divorced or seperated' categories post fewer applications"
      ],
      "metadata": {
        "id": "FtgyyQrDnUdJ"
      }
    },
    {
      "cell_type": "code",
      "execution_count": null,
      "metadata": {
        "colab": {
          "base_uri": "https://localhost:8080/",
          "height": 280
        },
        "id": "EeWHu9BFgxvv",
        "outputId": "d64ef425-f672-4209-db68-3798035881e3"
      },
      "outputs": [
        {
          "output_type": "display_data",
          "data": {
            "text/plain": [
              "<Figure size 432x288 with 1 Axes>"
            ],
            "image/png": "[encoded data removed]"
          },
          "metadata": {
            "needs_background": "light"
          }
        }
      ],
      "source": [
        "sns.countplot(df.Number_of_dependents ,data=df,palette = \"rainbow\")\n",
        "plt.show()"
      ]
    },
    {
      "cell_type": "markdown",
      "source": [
        "Most of the applicants have atleast one depedent."
      ],
      "metadata": {
        "id": "QTSHSyiqnZj2"
      }
    },
    {
      "cell_type": "code",
      "execution_count": null,
      "metadata": {
        "colab": {
          "base_uri": "https://localhost:8080/",
          "height": 279
        },
        "id": "Jl49L2pog8GK",
        "outputId": "5a7cab8a-3cb0-4d01-afa2-43d718d70d92"
      },
      "outputs": [
        {
          "output_type": "display_data",
          "data": {
            "text/plain": [
              "<Figure size 432x288 with 1 Axes>"
            ],
            "image/png": "[encoded data removed]"
          },
          "metadata": {
            "needs_background": "light"
          }
        }
      ],
      "source": [
        "sns.countplot(df.Housing,data=df,palette = \"rainbow\")\n",
        "plt.show()"
      ]
    },
    {
      "cell_type": "markdown",
      "source": [
        "Most of the applicants have their own house."
      ],
      "metadata": {
        "id": "MatGHF6onfwJ"
      }
    },
    {
      "cell_type": "code",
      "execution_count": null,
      "metadata": {
        "colab": {
          "base_uri": "https://localhost:8080/",
          "height": 815
        },
        "id": "VK2yQrmehJsE",
        "outputId": "6658e54e-6d6c-4634-e522-7c2fdc799007"
      },
      "outputs": [
        {
          "output_type": "display_data",
          "data": {
            "text/plain": [
              "<Figure size 432x576 with 1 Axes>"
            ],
            "image/png": "[encoded data removed]"
          },
          "metadata": {
            "needs_background": "light"
          }
        }
      ],
      "source": [
        "plt.figure(figsize=(6,8))\n",
        "sns.countplot(df.Employment_status,data=df,palette= 'rainbow')\n",
        "plt.xticks(rotation=90)\n",
        "plt.show()"
      ]
    },
    {
      "cell_type": "markdown",
      "source": [
        "Skilled employes tend to apply more compared to Unskilled employees. Self employed people are less likely to apply for a loan."
      ],
      "metadata": {
        "id": "GNHhiSU3nyxR"
      }
    },
    {
      "cell_type": "code",
      "execution_count": null,
      "metadata": {
        "colab": {
          "base_uri": "https://localhost:8080/",
          "height": 280
        },
        "id": "TcR4siK4hq45",
        "outputId": "b65dd102-89b9-4c59-f67e-64f86e9b9b70"
      },
      "outputs": [
        {
          "output_type": "display_data",
          "data": {
            "text/plain": [
              "<Figure size 432x288 with 1 Axes>"
            ],
            "image/png": "[encoded data removed]"
          },
          "metadata": {
            "needs_background": "light"
          }
        }
      ],
      "source": [
        "\n",
        "sns.countplot(df.Has_been_employed_for_at_least,data=df,palette= 'rainbow')\n",
        "plt.show()"
      ]
    },
    {
      "cell_type": "markdown",
      "source": [
        "Most of the applicants have been employed for atleast a year. Applicants with long employment history are second most significant group."
      ],
      "metadata": {
        "id": "mk5Y6AYHoKcJ"
      }
    },
    {
      "cell_type": "code",
      "execution_count": null,
      "metadata": {
        "colab": {
          "base_uri": "https://localhost:8080/",
          "height": 280
        },
        "id": "YkaMW4nlkOo-",
        "outputId": "51d53938-db71-4261-cb7b-db8c3c70502b"
      },
      "outputs": [
        {
          "output_type": "display_data",
          "data": {
            "text/plain": [
              "<Figure size 432x288 with 1 Axes>"
            ],
            "image/png": "[encoded data removed]"
          },
          "metadata": {
            "needs_background": "light"
          }
        }
      ],
      "source": [
        "sns.countplot(df.Has_been_employed_for_at_most,data=df,palette= 'rainbow')\n",
        "plt.show()"
      ]
    },
    {
      "cell_type": "markdown",
      "source": [
        "Applicants who have been employed for at most 4 years also represent the majority of applicants. The above two graphs imply that professional experience of majority of applicants range from 1-4 years."
      ],
      "metadata": {
        "id": "Q9R3Y0xDoYjD"
      }
    },
    {
      "cell_type": "code",
      "execution_count": null,
      "metadata": {
        "colab": {
          "base_uri": "https://localhost:8080/"
        },
        "id": "elE6ufvnkhaL",
        "outputId": "13db6075-fca6-44d4-f1bf-c404750fb7b7"
      },
      "outputs": [
        {
          "output_type": "execute_result",
          "data": {
            "text/plain": [
              "1    963\n",
              "0     37\n",
              "Name: Foreign_worker, dtype: int64"
            ]
          },
          "metadata": {},
          "execution_count": 40
        }
      ],
      "source": [
        "df.Foreign_worker.value_counts()"
      ]
    },
    {
      "cell_type": "code",
      "execution_count": null,
      "metadata": {
        "colab": {
          "base_uri": "https://localhost:8080/",
          "height": 282
        },
        "id": "f0pH92G_kVIC",
        "outputId": "99dcc69c-109d-43db-c109-37f9abcea36c"
      },
      "outputs": [
        {
          "output_type": "display_data",
          "data": {
            "text/plain": [
              "<Figure size 432x288 with 1 Axes>"
            ],
            "image/png": "[encoded data removed]"
          },
          "metadata": {
            "needs_background": "light"
          }
        }
      ],
      "source": [
        "sns.countplot(df.Foreign_worker ,data=df,palette= 'rainbow')\n",
        "plt.show()"
      ]
    },
    {
      "cell_type": "markdown",
      "source": [
        "Most of the applicants tend to be foreign workers."
      ],
      "metadata": {
        "id": "GfCDP-7oov7j"
      }
    },
    {
      "cell_type": "code",
      "execution_count": null,
      "metadata": {
        "colab": {
          "base_uri": "https://localhost:8080/"
        },
        "id": "7Wgm-P9pkz62",
        "outputId": "68be8d93-6c1e-467a-89f4-0498f699822b"
      },
      "outputs": [
        {
          "output_type": "execute_result",
          "data": {
            "text/plain": [
              "Low          786\n",
              "Medium       103\n",
              "High          63\n",
              "Very high     48\n",
              "Name: Savings_account_balance, dtype: int64"
            ]
          },
          "metadata": {},
          "execution_count": 42
        }
      ],
      "source": [
        "df.Savings_account_balance.value_counts()"
      ]
    },
    {
      "cell_type": "code",
      "execution_count": null,
      "metadata": {
        "colab": {
          "base_uri": "https://localhost:8080/",
          "height": 280
        },
        "id": "GfDwHttSlGgi",
        "outputId": "f4c292fe-05c8-4d8f-fc81-4cb9c3bbde67"
      },
      "outputs": [
        {
          "output_type": "display_data",
          "data": {
            "text/plain": [
              "<Figure size 432x288 with 1 Axes>"
            ],
            "image/png": "[encoded data removed]"
          },
          "metadata": {
            "needs_background": "light"
          }
        }
      ],
      "source": [
        "sns.countplot(df.Savings_account_balance ,data=df,palette= 'rainbow')\n",
        "plt.show()"
      ]
    },
    {
      "cell_type": "markdown",
      "source": [
        "Most of the applicants have low savings account balance. Applicants with high and very high savings balance are miniscule."
      ],
      "metadata": {
        "id": "isz__p_qo1A-"
      }
    },
    {
      "cell_type": "code",
      "execution_count": null,
      "metadata": {
        "colab": {
          "base_uri": "https://localhost:8080/"
        },
        "id": "BpaP2YqklPQC",
        "outputId": "f9d239af-afe7-4d86-a9f0-ebe356034293"
      },
      "outputs": [
        {
          "output_type": "execute_result",
          "data": {
            "text/plain": [
              "count    1000.000000\n",
              "mean       20.903000\n",
              "std        12.058814\n",
              "min         4.000000\n",
              "25%        12.000000\n",
              "50%        18.000000\n",
              "75%        24.000000\n",
              "max        72.000000\n",
              "Name: Months_loan_taken_for, dtype: float64"
            ]
          },
          "metadata": {},
          "execution_count": 44
        }
      ],
      "source": [
        "df.Months_loan_taken_for.describe()"
      ]
    },
    {
      "cell_type": "code",
      "execution_count": null,
      "metadata": {
        "colab": {
          "base_uri": "https://localhost:8080/",
          "height": 498
        },
        "id": "-xpNXMdglS62",
        "outputId": "48338e80-a5c6-4e5d-951d-5f86043368d3"
      },
      "outputs": [
        {
          "output_type": "display_data",
          "data": {
            "text/plain": [
              "<Figure size 648x576 with 1 Axes>"
            ],
            "image/png": "[encoded data removed]"
          },
          "metadata": {
            "needs_background": "light"
          }
        }
      ],
      "source": [
        "plt.figure(figsize=(9,8))\n",
        "sns.distplot(df.Months_loan_taken_for)\n",
        "plt.show()"
      ]
    },
    {
      "cell_type": "code",
      "execution_count": null,
      "metadata": {
        "colab": {
          "base_uri": "https://localhost:8080/"
        },
        "id": "d4I1q55ylffW",
        "outputId": "5d0d1bbf-2c44-4987-fabb-fa37a7726f72"
      },
      "outputs": [
        {
          "output_type": "execute_result",
          "data": {
            "text/plain": [
              "electronic equipment    280\n",
              "new vehicle             234\n",
              "FF&E                    181\n",
              "used vehicle            103\n",
              "business                 97\n",
              "education                50\n",
              "repair costs             22\n",
              "domestic appliances      12\n",
              "career development        9\n",
              "Name: Purpose, dtype: int64"
            ]
          },
          "metadata": {},
          "execution_count": 46
        }
      ],
      "source": [
        "df.Purpose.value_counts()"
      ]
    },
    {
      "cell_type": "code",
      "execution_count": null,
      "metadata": {
        "colab": {
          "base_uri": "https://localhost:8080/",
          "height": 497
        },
        "id": "H5TI3cxomDAc",
        "outputId": "949bfec1-e90e-49fb-cb4e-017e6c569ea2"
      },
      "outputs": [
        {
          "output_type": "display_data",
          "data": {
            "text/plain": [
              "<Figure size 1008x576 with 1 Axes>"
            ],
            "image/png": "[encoded data removed]"
          },
          "metadata": {
            "needs_background": "light"
          }
        }
      ],
      "source": [
        "plt.figure(figsize=(14,8))\n",
        "sns.countplot(df.Purpose,data=df,palette='rainbow')\n",
        "plt.show()"
      ]
    },
    {
      "cell_type": "markdown",
      "source": [
        "Applicants tend to borrow money for the purpose of purchasing Electronic goods, new vehicles and furniture. Some applicants borrow to start new business, purchase used vehicles and support their education. Very few do for purchasing domestic appliances, repairing and career development."
      ],
      "metadata": {
        "id": "nNGQBwMhpDq-"
      }
    },
    {
      "cell_type": "markdown",
      "source": [
        "**4.1.1 Binning continuous variables for better understanding**"
      ],
      "metadata": {
        "id": "bHpXkTqXpqRM"
      }
    },
    {
      "cell_type": "code",
      "execution_count": null,
      "metadata": {
        "colab": {
          "base_uri": "https://localhost:8080/"
        },
        "id": "3tJj8HtOmmpx",
        "outputId": "6f446344-dcd7-46e2-e683-fd7c36c38b39"
      },
      "outputs": [
        {
          "output_type": "execute_result",
          "data": {
            "text/plain": [
              "count    1.000000e+03\n",
              "mean     3.271258e+06\n",
              "std      2.822737e+06\n",
              "min      2.500000e+05\n",
              "25%      1.365500e+06\n",
              "50%      2.319500e+06\n",
              "75%      3.972250e+06\n",
              "max      1.842400e+07\n",
              "Name: Principal_loan_amount, dtype: float64"
            ]
          },
          "metadata": {},
          "execution_count": 48
        }
      ],
      "source": [
        "df.Principal_loan_amount.describe() #checking range of Loan Amount column"
      ]
    },
    {
      "cell_type": "code",
      "execution_count": null,
      "metadata": {
        "id": "OowLN_q4maFx"
      },
      "outputs": [],
      "source": [
        "bins = [0,350000,700000,1000000] #defining range \n",
        "slots = ['Low','Medium','High'] #labelling range\n",
        "\n",
        "df['Loan_amount_range']=pd.cut(df['Principal_loan_amount'],bins=bins,labels=slots) #creating new column for range"
      ]
    },
    {
      "cell_type": "code",
      "execution_count": null,
      "metadata": {
        "colab": {
          "base_uri": "https://localhost:8080/"
        },
        "id": "ZKUnTDxQ-Tz0",
        "outputId": "ed0c891c-39d0-4d0c-d003-8638f2138632"
      },
      "outputs": [
        {
          "output_type": "execute_result",
          "data": {
            "text/plain": [
              "count    1000.000000\n",
              "mean       35.546000\n",
              "std        11.375469\n",
              "min        19.000000\n",
              "25%        27.000000\n",
              "50%        33.000000\n",
              "75%        42.000000\n",
              "max        75.000000\n",
              "Name: Primary_applicant_age_in_years, dtype: float64"
            ]
          },
          "metadata": {},
          "execution_count": 51
        }
      ],
      "source": [
        "df.Primary_applicant_age_in_years.describe() #checking age distribution"
      ]
    },
    {
      "cell_type": "code",
      "execution_count": null,
      "metadata": {
        "id": "buaxx_Gq9uZG"
      },
      "outputs": [],
      "source": [
        "bins = [0,10,20,30,40,50,60,70,80,90] #defining range\n",
        "slot = ['0-10','10-20','20-30','30-40','40-50','50-60','60-70','70-80','80-90'] #Range slots\n",
        "\n",
        "df['applicant_age_range']=pd.cut(df['Primary_applicant_age_in_years'],bins,labels=slot)"
      ]
    },
    {
      "cell_type": "code",
      "execution_count": null,
      "metadata": {
        "colab": {
          "base_uri": "https://localhost:8080/"
        },
        "id": "2KLIucstnf8r",
        "outputId": "6cb38c5d-604d-4ca1-8e27-bdd701177c5c"
      },
      "outputs": [
        {
          "output_type": "execute_result",
          "data": {
            "text/plain": [
              "4    476\n",
              "2    231\n",
              "3    157\n",
              "1    136\n",
              "Name: EMI_rate_in_percentage_of_disposable_income, dtype: int64"
            ]
          },
          "metadata": {},
          "execution_count": 53
        }
      ],
      "source": [
        "df.EMI_rate_in_percentage_of_disposable_income.value_counts() #counting the values of categorical variable"
      ]
    },
    {
      "cell_type": "code",
      "execution_count": null,
      "metadata": {
        "colab": {
          "base_uri": "https://localhost:8080/",
          "height": 280
        },
        "id": "6NKJXWiNnsL7",
        "outputId": "01d71aff-cb28-42b6-c40d-6cb2451d2846"
      },
      "outputs": [
        {
          "output_type": "display_data",
          "data": {
            "text/plain": [
              "<Figure size 432x288 with 1 Axes>"
            ],
            "image/png": "[encoded data removed]"
          },
          "metadata": {
            "needs_background": "light"
          }
        }
      ],
      "source": [
        "sns.countplot(df.EMI_rate_in_percentage_of_disposable_income,data=df,palette='rainbow')\n",
        "plt.show()"
      ]
    },
    {
      "cell_type": "markdown",
      "source": [
        "Most of the applicants tend to borrow at 4% of their disposable income"
      ],
      "metadata": {
        "id": "S1ing6mJ6x5G"
      }
    },
    {
      "cell_type": "code",
      "execution_count": null,
      "metadata": {
        "colab": {
          "base_uri": "https://localhost:8080/"
        },
        "id": "K4p3_RuyoyIG",
        "outputId": "e1471722-f68e-477b-c70b-09429c272bd6"
      },
      "outputs": [
        {
          "output_type": "execute_result",
          "data": {
            "text/plain": [
              "car or other                                         486\n",
              "real estate                                          282\n",
              "building society savings agreement/life insurance    232\n",
              "Name: Property, dtype: int64"
            ]
          },
          "metadata": {},
          "execution_count": 55
        }
      ],
      "source": [
        "df.Property.value_counts()"
      ]
    },
    {
      "cell_type": "code",
      "execution_count": null,
      "metadata": {
        "colab": {
          "base_uri": "https://localhost:8080/",
          "height": 388
        },
        "id": "7sJIs5cJo4xU",
        "outputId": "f07ad333-9a99-459e-bb40-e2826ebfa2d5"
      },
      "outputs": [
        {
          "output_type": "display_data",
          "data": {
            "text/plain": [
              "<Figure size 720x432 with 1 Axes>"
            ],
            "image/png": "[encoded data removed]"
          },
          "metadata": {
            "needs_background": "light"
          }
        }
      ],
      "source": [
        "plt.figure(figsize=(10,6))\n",
        "sns.countplot(df.Property,data=df,palette='rainbow')\n",
        "plt.show()"
      ]
    },
    {
      "cell_type": "markdown",
      "source": [
        "Most of the applicants own Cars, many own some form of real estate and least number of applicants have savings or life insurance accounts."
      ],
      "metadata": {
        "id": "hP7tYEID7P8G"
      }
    },
    {
      "cell_type": "code",
      "execution_count": null,
      "metadata": {
        "colab": {
          "base_uri": "https://localhost:8080/"
        },
        "id": "IUEkGn-vpC7e",
        "outputId": "593f90f0-36b0-4269-92b6-3648e0738b9a"
      },
      "outputs": [
        {
          "output_type": "execute_result",
          "data": {
            "text/plain": [
              "0    959\n",
              "1     41\n",
              "Name: Has_coapplicant, dtype: int64"
            ]
          },
          "metadata": {},
          "execution_count": 57
        }
      ],
      "source": [
        "df.Has_coapplicant.value_counts()"
      ]
    },
    {
      "cell_type": "code",
      "execution_count": null,
      "metadata": {
        "colab": {
          "base_uri": "https://localhost:8080/",
          "height": 283
        },
        "id": "wFT7HnEmpXi1",
        "outputId": "2647a96f-cfac-40c0-f664-886ed974ec91"
      },
      "outputs": [
        {
          "output_type": "display_data",
          "data": {
            "text/plain": [
              "<Figure size 432x288 with 1 Axes>"
            ],
            "image/png": "[encoded data removed]"
          },
          "metadata": {
            "needs_background": "light"
          }
        }
      ],
      "source": [
        "sns.countplot(df.Has_coapplicant,data=df,palette='rainbow')\n",
        "plt.show()"
      ]
    },
    {
      "cell_type": "markdown",
      "source": [
        "Most are solo applicants."
      ],
      "metadata": {
        "id": "3NTcVkob7WOG"
      }
    },
    {
      "cell_type": "markdown",
      "source": [],
      "metadata": {
        "id": "yX_DK5T97UmL"
      }
    },
    {
      "cell_type": "code",
      "execution_count": null,
      "metadata": {
        "colab": {
          "base_uri": "https://localhost:8080/"
        },
        "id": "9TcFLZVopz6S",
        "outputId": "ef136df7-8f16-40a8-8906-9097335e1b08"
      },
      "outputs": [
        {
          "output_type": "execute_result",
          "data": {
            "text/plain": [
              "0    948\n",
              "1     52\n",
              "Name: Has_guarantor, dtype: int64"
            ]
          },
          "metadata": {},
          "execution_count": 59
        }
      ],
      "source": [
        "df.Has_guarantor.value_counts()"
      ]
    },
    {
      "cell_type": "code",
      "execution_count": null,
      "metadata": {
        "colab": {
          "base_uri": "https://localhost:8080/",
          "height": 280
        },
        "id": "x_Opuz76sIW5",
        "outputId": "9143236d-260b-4fb3-b1df-a0706cb5cde4"
      },
      "outputs": [
        {
          "output_type": "display_data",
          "data": {
            "text/plain": [
              "<Figure size 432x288 with 1 Axes>"
            ],
            "image/png": "[encoded data removed]"
          },
          "metadata": {
            "needs_background": "light"
          }
        }
      ],
      "source": [
        "sns.countplot(df.Has_guarantor,data=df,palette='rainbow')\n",
        "plt.show()"
      ]
    },
    {
      "cell_type": "markdown",
      "source": [
        "Most applicants do not have a Gurantor"
      ],
      "metadata": {
        "id": "4ji8YMww7iKf"
      }
    },
    {
      "cell_type": "markdown",
      "source": [
        ":"
      ],
      "metadata": {
        "id": "36EaIvis7YpN"
      }
    },
    {
      "cell_type": "code",
      "execution_count": null,
      "metadata": {
        "colab": {
          "base_uri": "https://localhost:8080/"
        },
        "id": "3KedcbDaryAx",
        "outputId": "5b98376f-15ca-4531-a9de-e9e07100b3db"
      },
      "outputs": [
        {
          "output_type": "execute_result",
          "data": {
            "text/plain": [
              "1    633\n",
              "2    333\n",
              "3     28\n",
              "4      6\n",
              "Name: Number_of_existing_loans_at_this_bank, dtype: int64"
            ]
          },
          "metadata": {},
          "execution_count": 61
        }
      ],
      "source": [
        "df.Number_of_existing_loans_at_this_bank.value_counts()"
      ]
    },
    {
      "cell_type": "code",
      "execution_count": null,
      "metadata": {
        "colab": {
          "base_uri": "https://localhost:8080/",
          "height": 280
        },
        "id": "k1AxAyoUsIzR",
        "outputId": "2bdb3974-86cc-4983-8bb6-3450f69d9896"
      },
      "outputs": [
        {
          "output_type": "display_data",
          "data": {
            "text/plain": [
              "<Figure size 432x288 with 1 Axes>"
            ],
            "image/png": "[encoded data removed]"
          },
          "metadata": {
            "needs_background": "light"
          }
        }
      ],
      "source": [
        "sns.countplot(df.Number_of_existing_loans_at_this_bank,data=df,palette='rainbow')\n",
        "plt.show()"
      ]
    },
    {
      "cell_type": "markdown",
      "source": [
        "All the applicants have atleast one existing loan at this bank. Majority of them have at one loan and very miniscule number have 4 loans."
      ],
      "metadata": {
        "id": "g-l52UX97u96"
      }
    },
    {
      "cell_type": "code",
      "execution_count": null,
      "metadata": {
        "colab": {
          "base_uri": "https://localhost:8080/"
        },
        "id": "9NVkwSDNr7cB",
        "outputId": "feaf89af-3810-4ab5-d98d-dcc9d3048103"
      },
      "outputs": [
        {
          "output_type": "execute_result",
          "data": {
            "text/plain": [
              "existing loans paid back duly till now     530\n",
              "critical/pending loans at other banks      293\n",
              "delay in paying off loans in the past       88\n",
              "all loans at this bank paid back duly       49\n",
              "no loans taken/all loans paid back duly     40\n",
              "Name: Loan_history, dtype: int64"
            ]
          },
          "metadata": {},
          "execution_count": 63
        }
      ],
      "source": [
        "df.Loan_history.value_counts()"
      ]
    },
    {
      "cell_type": "code",
      "execution_count": null,
      "metadata": {
        "colab": {
          "base_uri": "https://localhost:8080/",
          "height": 573
        },
        "id": "G7gDlIwJsFlW",
        "outputId": "5c2a0e9d-ee91-4c5a-828b-f63ede74cfa7"
      },
      "outputs": [
        {
          "output_type": "display_data",
          "data": {
            "text/plain": [
              "<Figure size 432x432 with 1 Axes>"
            ],
            "image/png": "[encoded data removed]"
          },
          "metadata": {
            "needs_background": "light"
          }
        }
      ],
      "source": [
        "plt.figure(figsize=(6,6))\n",
        "sns.countplot(df.Loan_history,data=df,palette='rainbow')\n",
        "plt.xticks(rotation = 90)\n",
        "plt.show()\n"
      ]
    },
    {
      "cell_type": "markdown",
      "source": [
        "Most applicants tend to pay off their loans on time. Some applicants have exisitng loans at other banks"
      ],
      "metadata": {
        "id": "ERfq8kl67-Rq"
      }
    },
    {
      "cell_type": "code",
      "execution_count": null,
      "metadata": {
        "colab": {
          "base_uri": "https://localhost:8080/"
        },
        "id": "jDwkDr5gtTxe",
        "outputId": "2d2678f3-213f-4882-bffd-d12d76001fc1"
      },
      "outputs": [
        {
          "output_type": "execute_result",
          "data": {
            "text/plain": [
              "0    70.0\n",
              "1    30.0\n",
              "Name: high_risk_applicant, dtype: float64"
            ]
          },
          "metadata": {},
          "execution_count": 65
        }
      ],
      "source": [
        "100*(df.high_risk_applicant.value_counts())/ (len(df))"
      ]
    },
    {
      "cell_type": "code",
      "execution_count": null,
      "metadata": {
        "colab": {
          "base_uri": "https://localhost:8080/",
          "height": 280
        },
        "id": "GKYM3sQh8C-0",
        "outputId": "01d8d142-1ebc-470d-eff1-5310ff44f965"
      },
      "outputs": [
        {
          "output_type": "display_data",
          "data": {
            "text/plain": [
              "<Figure size 432x288 with 1 Axes>"
            ],
            "image/png": "[encoded data removed]"
          },
          "metadata": {
            "needs_background": "light"
          }
        }
      ],
      "source": [
        "sns.countplot(df.high_risk_applicant,data=df,palette='rainbow')\n",
        "plt.show()"
      ]
    },
    {
      "cell_type": "markdown",
      "source": [
        "70% applicants have low credit risk."
      ],
      "metadata": {
        "id": "srX6Y9Dv8LOM"
      }
    },
    {
      "cell_type": "markdown",
      "source": [
        "**4.2 Univariate Analysis for High Risk and Low Risk variables**"
      ],
      "metadata": {
        "id": "u64tUgwH8kPG"
      }
    },
    {
      "cell_type": "code",
      "execution_count": null,
      "metadata": {
        "id": "I0Nb0L-18MiC"
      },
      "outputs": [],
      "source": [
        "high_risk = df[df['high_risk_applicant']==1] #splitting into two columns\n",
        "low_risk = df[df['high_risk_applicant']==0]"
      ]
    },
    {
      "cell_type": "code",
      "execution_count": null,
      "metadata": {
        "colab": {
          "base_uri": "https://localhost:8080/",
          "height": 508
        },
        "id": "P2IXPyn-8Zw0",
        "outputId": "b2bf78fa-8619-481f-8d6e-0ab89eef0907"
      },
      "outputs": [
        {
          "output_type": "execute_result",
          "data": {
            "text/plain": [
              "    applicant_id  Primary_applicant_age_in_years  Gender  \\\n",
              "1        1203873                              22  female   \n",
              "4        1674436                              53    male   \n",
              "9        1722991                              28    male   \n",
              "10       1719964                              25  female   \n",
              "11       1818043                              24  female   \n",
              "\n",
              "                Marital_status Number_of_dependents   Housing  \\\n",
              "1   divorced/separated/married                    1       own   \n",
              "4                       single                    2  for free   \n",
              "9              married/widowed                    1       own   \n",
              "10  divorced/separated/married                    1      rent   \n",
              "11  divorced/separated/married                    1      rent   \n",
              "\n",
              "   Years_at_current_residence  \\\n",
              "1                           2   \n",
              "4                           4   \n",
              "9                           2   \n",
              "10                          1   \n",
              "11                          4   \n",
              "\n",
              "                                    Employment_status  \\\n",
              "1                         skilled employee / official   \n",
              "4                         skilled employee / official   \n",
              "9   management / self-employed / highly qualified ...   \n",
              "10                        skilled employee / official   \n",
              "11                        skilled employee / official   \n",
              "\n",
              "   Has_been_employed_for_at_least Has_been_employed_for_at_most  ...  \\\n",
              "1                          1 year                       4 years  ...   \n",
              "4                          1 year                       4 years  ...   \n",
              "9                          1 year                        0 year  ...   \n",
              "10                         0 year                        1 year  ...   \n",
              "11                         0 year                        1 year  ...   \n",
              "\n",
              "   Principal_loan_amount EMI_rate_in_percentage_of_disposable_income  \\\n",
              "1                5951000                                           2   \n",
              "4                4870000                                           3   \n",
              "9                5234000                                           4   \n",
              "10               1295000                                           3   \n",
              "11               4308000                                           3   \n",
              "\n",
              "                                             Property Has_coapplicant  \\\n",
              "1                                         real estate               0   \n",
              "4                                        car or other               0   \n",
              "9                                        car or other               0   \n",
              "10                                       car or other               0   \n",
              "11  building society savings agreement/life insurance               0   \n",
              "\n",
              "    Has_guarantor Number_of_existing_loans_at_this_bank  \\\n",
              "1               0                                     1   \n",
              "4               0                                     2   \n",
              "9               0                                     2   \n",
              "10              0                                     1   \n",
              "11              0                                     1   \n",
              "\n",
              "                              Loan_history high_risk_applicant  \\\n",
              "1   existing loans paid back duly till now                   1   \n",
              "4    delay in paying off loans in the past                   1   \n",
              "9    critical/pending loans at other banks                   1   \n",
              "10  existing loans paid back duly till now                   1   \n",
              "11  existing loans paid back duly till now                   1   \n",
              "\n",
              "   Loan_amount_range applicant_age_range  \n",
              "1                NaN               20-30  \n",
              "4                NaN               50-60  \n",
              "9                NaN               20-30  \n",
              "10               NaN               20-30  \n",
              "11               NaN               20-30  \n",
              "\n",
              "[5 rows x 24 columns]"
            ],
            "text/html": [
              "\n",
              "  <div id=\"df-7f7576d8-0404-4202-9424-70eeb01db816\">\n",
              "    <div class=\"colab-df-container\">\n",
              "      <div>\n",
              "<style scoped>\n",
              "    .dataframe tbody tr th:only-of-type {\n",
              "        vertical-align: middle;\n",
              "    }\n",
              "\n",
              "    .dataframe tbody tr th {\n",
              "        vertical-align: top;\n",
              "    }\n",
              "\n",
              "    .dataframe thead th {\n",
              "        text-align: right;\n",
              "    }\n",
              "</style>\n",
              "<table border=\"1\" class=\"dataframe\">\n",
              "  <thead>\n",
              "    <tr style=\"text-align: right;\">\n",
              "      <th></th>\n",
              "      <th>applicant_id</th>\n",
              "      <th>Primary_applicant_age_in_years</th>\n",
              "      <th>Gender</th>\n",
              "      <th>Marital_status</th>\n",
              "      <th>Number_of_dependents</th>\n",
              "      <th>Housing</th>\n",
              "      <th>Years_at_current_residence</th>\n",
              "      <th>Employment_status</th>\n",
              "      <th>Has_been_employed_for_at_least</th>\n",
              "      <th>Has_been_employed_for_at_most</th>\n",
              "      <th>...</th>\n",
              "      <th>Principal_loan_amount</th>\n",
              "      <th>EMI_rate_in_percentage_of_disposable_income</th>\n",
              "      <th>Property</th>\n",
              "      <th>Has_coapplicant</th>\n",
              "      <th>Has_guarantor</th>\n",
              "      <th>Number_of_existing_loans_at_this_bank</th>\n",
              "      <th>Loan_history</th>\n",
              "      <th>high_risk_applicant</th>\n",
              "      <th>Loan_amount_range</th>\n",
              "      <th>applicant_age_range</th>\n",
              "    </tr>\n",
              "  </thead>\n",
              "  <tbody>\n",
              "    <tr>\n",
              "      <th>1</th>\n",
              "      <td>1203873</td>\n",
              "      <td>22</td>\n",
              "      <td>female</td>\n",
              "      <td>divorced/separated/married</td>\n",
              "      <td>1</td>\n",
              "      <td>own</td>\n",
              "      <td>2</td>\n",
              "      <td>skilled employee / official</td>\n",
              "      <td>1 year</td>\n",
              "      <td>4 years</td>\n",
              "      <td>...</td>\n",
              "      <td>5951000</td>\n",
              "      <td>2</td>\n",
              "      <td>real estate</td>\n",
              "      <td>0</td>\n",
              "      <td>0</td>\n",
              "      <td>1</td>\n",
              "      <td>existing loans paid back duly till now</td>\n",
              "      <td>1</td>\n",
              "      <td>NaN</td>\n",
              "      <td>20-30</td>\n",
              "    </tr>\n",
              "    <tr>\n",
              "      <th>4</th>\n",
              "      <td>1674436</td>\n",
              "      <td>53</td>\n",
              "      <td>male</td>\n",
              "      <td>single</td>\n",
              "      <td>2</td>\n",
              "      <td>for free</td>\n",
              "      <td>4</td>\n",
              "      <td>skilled employee / official</td>\n",
              "      <td>1 year</td>\n",
              "      <td>4 years</td>\n",
              "      <td>...</td>\n",
              "      <td>4870000</td>\n",
              "      <td>3</td>\n",
              "      <td>car or other</td>\n",
              "      <td>0</td>\n",
              "      <td>0</td>\n",
              "      <td>2</td>\n",
              "      <td>delay in paying off loans in the past</td>\n",
              "      <td>1</td>\n",
              "      <td>NaN</td>\n",
              "      <td>50-60</td>\n",
              "    </tr>\n",
              "    <tr>\n",
              "      <th>9</th>\n",
              "      <td>1722991</td>\n",
              "      <td>28</td>\n",
              "      <td>male</td>\n",
              "      <td>married/widowed</td>\n",
              "      <td>1</td>\n",
              "      <td>own</td>\n",
              "      <td>2</td>\n",
              "      <td>management / self-employed / highly qualified ...</td>\n",
              "      <td>1 year</td>\n",
              "      <td>0 year</td>\n",
              "      <td>...</td>\n",
              "      <td>5234000</td>\n",
              "      <td>4</td>\n",
              "      <td>car or other</td>\n",
              "      <td>0</td>\n",
              "      <td>0</td>\n",
              "      <td>2</td>\n",
              "      <td>critical/pending loans at other banks</td>\n",
              "      <td>1</td>\n",
              "      <td>NaN</td>\n",
              "      <td>20-30</td>\n",
              "    </tr>\n",
              "    <tr>\n",
              "      <th>10</th>\n",
              "      <td>1719964</td>\n",
              "      <td>25</td>\n",
              "      <td>female</td>\n",
              "      <td>divorced/separated/married</td>\n",
              "      <td>1</td>\n",
              "      <td>rent</td>\n",
              "      <td>1</td>\n",
              "      <td>skilled employee / official</td>\n",
              "      <td>0 year</td>\n",
              "      <td>1 year</td>\n",
              "      <td>...</td>\n",
              "      <td>1295000</td>\n",
              "      <td>3</td>\n",
              "      <td>car or other</td>\n",
              "      <td>0</td>\n",
              "      <td>0</td>\n",
              "      <td>1</td>\n",
              "      <td>existing loans paid back duly till now</td>\n",
              "      <td>1</td>\n",
              "      <td>NaN</td>\n",
              "      <td>20-30</td>\n",
              "    </tr>\n",
              "    <tr>\n",
              "      <th>11</th>\n",
              "      <td>1818043</td>\n",
              "      <td>24</td>\n",
              "      <td>female</td>\n",
              "      <td>divorced/separated/married</td>\n",
              "      <td>1</td>\n",
              "      <td>rent</td>\n",
              "      <td>4</td>\n",
              "      <td>skilled employee / official</td>\n",
              "      <td>0 year</td>\n",
              "      <td>1 year</td>\n",
              "      <td>...</td>\n",
              "      <td>4308000</td>\n",
              "      <td>3</td>\n",
              "      <td>building society savings agreement/life insurance</td>\n",
              "      <td>0</td>\n",
              "      <td>0</td>\n",
              "      <td>1</td>\n",
              "      <td>existing loans paid back duly till now</td>\n",
              "      <td>1</td>\n",
              "      <td>NaN</td>\n",
              "      <td>20-30</td>\n",
              "    </tr>\n",
              "  </tbody>\n",
              "</table>\n",
              "<p>5 rows × 24 columns</p>\n",
              "</div>\n",
              "      <button class=\"colab-df-convert\" onclick=\"convertToInteractive('df-7f7576d8-0404-4202-9424-70eeb01db816')\"\n",
              "              title=\"Convert this dataframe to an interactive table.\"\n",
              "              style=\"display:none;\">\n",
              "        \n",
              "  <svg xmlns=\"http://www.w3.org/2000/svg\" height=\"24px\"viewBox=\"0 0 24 24\"\n",
              "       width=\"24px\">\n",
              "    <path d=\"M0 0h24v24H0V0z\" fill=\"none\"/>\n",
              "    <path d=\"M18.56 5.44l.94 2.06.94-2.06 2.06-.94-2.06-.94-.94-2.06-.94 2.06-2.06.94zm-11 1L8.5 8.5l.94-2.06 2.06-.94-2.06-.94L8.5 2.5l-.94 2.06-2.06.94zm10 10l.94 2.06.94-2.06 2.06-.94-2.06-.94-.94-2.06-.94 2.06-2.06.94z\"/><path d=\"M17.41 7.96l-1.37-1.37c-.4-.4-.92-.59-1.43-.59-.52 0-1.04.2-1.43.59L10.3 9.45l-7.72 7.72c-.78.78-.78 2.05 0 2.83L4 21.41c.39.39.9.59 1.41.59.51 0 1.02-.2 1.41-.59l7.78-7.78 2.81-2.81c.8-.78.8-2.07 0-2.86zM5.41 20L4 18.59l7.72-7.72 1.47 1.35L5.41 20z\"/>\n",
              "  </svg>\n",
              "      </button>\n",
              "      \n",
              "  <style>\n",
              "    .colab-df-container {\n",
              "      display:flex;\n",
              "      flex-wrap:wrap;\n",
              "      gap: 12px;\n",
              "    }\n",
              "\n",
              "    .colab-df-convert {\n",
              "      background-color: #E8F0FE;\n",
              "      border: none;\n",
              "      border-radius: 50%;\n",
              "      cursor: pointer;\n",
              "      display: none;\n",
              "      fill: #1967D2;\n",
              "      height: 32px;\n",
              "      padding: 0 0 0 0;\n",
              "      width: 32px;\n",
              "    }\n",
              "\n",
              "    .colab-df-convert:hover {\n",
              "      background-color: #E2EBFA;\n",
              "      box-shadow: 0px 1px 2px rgba(60, 64, 67, 0.3), 0px 1px 3px 1px rgba(60, 64, 67, 0.15);\n",
              "      fill: #174EA6;\n",
              "    }\n",
              "\n",
              "    [theme=dark] .colab-df-convert {\n",
              "      background-color: #3B4455;\n",
              "      fill: #D2E3FC;\n",
              "    }\n",
              "\n",
              "    [theme=dark] .colab-df-convert:hover {\n",
              "      background-color: #434B5C;\n",
              "      box-shadow: 0px 1px 3px 1px rgba(0, 0, 0, 0.15);\n",
              "      filter: drop-shadow(0px 1px 2px rgba(0, 0, 0, 0.3));\n",
              "      fill: #FFFFFF;\n",
              "    }\n",
              "  </style>\n",
              "\n",
              "      <script>\n",
              "        const buttonEl =\n",
              "          document.querySelector('#df-7f7576d8-0404-4202-9424-70eeb01db816 button.colab-df-convert');\n",
              "        buttonEl.style.display =\n",
              "          google.colab.kernel.accessAllowed ? 'block' : 'none';\n",
              "\n",
              "        async function convertToInteractive(key) {\n",
              "          const element = document.querySelector('#df-7f7576d8-0404-4202-9424-70eeb01db816');\n",
              "          const dataTable =\n",
              "            await google.colab.kernel.invokeFunction('convertToInteractive',\n",
              "                                                     [key], {});\n",
              "          if (!dataTable) return;\n",
              "\n",
              "          const docLinkHtml = 'Like what you see? Visit the ' +\n",
              "            '<a target=\"_blank\" href=https://colab.research.google.com/notebooks/data_table.ipynb>data table notebook</a>'\n",
              "            + ' to learn more about interactive tables.';\n",
              "          element.innerHTML = '';\n",
              "          dataTable['output_type'] = 'display_data';\n",
              "          await google.colab.output.renderOutput(dataTable, element);\n",
              "          const docLink = document.createElement('div');\n",
              "          docLink.innerHTML = docLinkHtml;\n",
              "          element.appendChild(docLink);\n",
              "        }\n",
              "      </script>\n",
              "    </div>\n",
              "  </div>\n",
              "  "
            ]
          },
          "metadata": {},
          "execution_count": 68
        }
      ],
      "source": [
        "high_risk.head()"
      ]
    },
    {
      "cell_type": "code",
      "execution_count": null,
      "metadata": {
        "colab": {
          "base_uri": "https://localhost:8080/",
          "height": 542
        },
        "id": "wMJz3dN98dPg",
        "outputId": "c0bbc276-e6ba-4346-e4e9-b2d68452393d"
      },
      "outputs": [
        {
          "output_type": "execute_result",
          "data": {
            "text/plain": [
              "   applicant_id  Primary_applicant_age_in_years Gender Marital_status  \\\n",
              "0       1469590                              67   male         single   \n",
              "2       1432761                              49   male         single   \n",
              "3       1207582                              45   male         single   \n",
              "5       1213971                              35   male         single   \n",
              "6       1428822                              53   male         single   \n",
              "\n",
              "  Number_of_dependents   Housing Years_at_current_residence  \\\n",
              "0                    1       own                          4   \n",
              "2                    2       own                          3   \n",
              "3                    2  for free                          4   \n",
              "5                    2  for free                          4   \n",
              "6                    1       own                          4   \n",
              "\n",
              "             Employment_status Has_been_employed_for_at_least  \\\n",
              "0  skilled employee / official                        7 years   \n",
              "2         unskilled - resident                        4 years   \n",
              "3  skilled employee / official                        4 years   \n",
              "5         unskilled - resident                         1 year   \n",
              "6  skilled employee / official                        7 years   \n",
              "\n",
              "  Has_been_employed_for_at_most  ... Principal_loan_amount  \\\n",
              "0                       4 years  ...               1169000   \n",
              "2                       7 years  ...               2096000   \n",
              "3                       7 years  ...               7882000   \n",
              "5                       4 years  ...               9055000   \n",
              "6                       4 years  ...               2835000   \n",
              "\n",
              "  EMI_rate_in_percentage_of_disposable_income  \\\n",
              "0                                           4   \n",
              "2                                           2   \n",
              "3                                           2   \n",
              "5                                           2   \n",
              "6                                           3   \n",
              "\n",
              "                                            Property Has_coapplicant  \\\n",
              "0                                        real estate               0   \n",
              "2                                        real estate               0   \n",
              "3  building society savings agreement/life insurance               0   \n",
              "5                                       car or other               0   \n",
              "6  building society savings agreement/life insurance               0   \n",
              "\n",
              "   Has_guarantor Number_of_existing_loans_at_this_bank  \\\n",
              "0              0                                     2   \n",
              "2              0                                     1   \n",
              "3              1                                     1   \n",
              "5              0                                     1   \n",
              "6              0                                     1   \n",
              "\n",
              "                             Loan_history high_risk_applicant  \\\n",
              "0   critical/pending loans at other banks                   0   \n",
              "2   critical/pending loans at other banks                   0   \n",
              "3  existing loans paid back duly till now                   0   \n",
              "5  existing loans paid back duly till now                   0   \n",
              "6  existing loans paid back duly till now                   0   \n",
              "\n",
              "  Loan_amount_range applicant_age_range  \n",
              "0               NaN               60-70  \n",
              "2               NaN               40-50  \n",
              "3               NaN               40-50  \n",
              "5               NaN               30-40  \n",
              "6               NaN               50-60  \n",
              "\n",
              "[5 rows x 24 columns]"
            ],
            "text/html": [
              "\n",
              "  <div id=\"df-0c266c3e-5fd9-4eb1-8fd2-be98943868f4\">\n",
              "    <div class=\"colab-df-container\">\n",
              "      <div>\n",
              "<style scoped>\n",
              "    .dataframe tbody tr th:only-of-type {\n",
              "        vertical-align: middle;\n",
              "    }\n",
              "\n",
              "    .dataframe tbody tr th {\n",
              "        vertical-align: top;\n",
              "    }\n",
              "\n",
              "    .dataframe thead th {\n",
              "        text-align: right;\n",
              "    }\n",
              "</style>\n",
              "<table border=\"1\" class=\"dataframe\">\n",
              "  <thead>\n",
              "    <tr style=\"text-align: right;\">\n",
              "      <th></th>\n",
              "      <th>applicant_id</th>\n",
              "      <th>Primary_applicant_age_in_years</th>\n",
              "      <th>Gender</th>\n",
              "      <th>Marital_status</th>\n",
              "      <th>Number_of_dependents</th>\n",
              "      <th>Housing</th>\n",
              "      <th>Years_at_current_residence</th>\n",
              "      <th>Employment_status</th>\n",
              "      <th>Has_been_employed_for_at_least</th>\n",
              "      <th>Has_been_employed_for_at_most</th>\n",
              "      <th>...</th>\n",
              "      <th>Principal_loan_amount</th>\n",
              "      <th>EMI_rate_in_percentage_of_disposable_income</th>\n",
              "      <th>Property</th>\n",
              "      <th>Has_coapplicant</th>\n",
              "      <th>Has_guarantor</th>\n",
              "      <th>Number_of_existing_loans_at_this_bank</th>\n",
              "      <th>Loan_history</th>\n",
              "      <th>high_risk_applicant</th>\n",
              "      <th>Loan_amount_range</th>\n",
              "      <th>applicant_age_range</th>\n",
              "    </tr>\n",
              "  </thead>\n",
              "  <tbody>\n",
              "    <tr>\n",
              "      <th>0</th>\n",
              "      <td>1469590</td>\n",
              "      <td>67</td>\n",
              "      <td>male</td>\n",
              "      <td>single</td>\n",
              "      <td>1</td>\n",
              "      <td>own</td>\n",
              "      <td>4</td>\n",
              "      <td>skilled employee / official</td>\n",
              "      <td>7 years</td>\n",
              "      <td>4 years</td>\n",
              "      <td>...</td>\n",
              "      <td>1169000</td>\n",
              "      <td>4</td>\n",
              "      <td>real estate</td>\n",
              "      <td>0</td>\n",
              "      <td>0</td>\n",
              "      <td>2</td>\n",
              "      <td>critical/pending loans at other banks</td>\n",
              "      <td>0</td>\n",
              "      <td>NaN</td>\n",
              "      <td>60-70</td>\n",
              "    </tr>\n",
              "    <tr>\n",
              "      <th>2</th>\n",
              "      <td>1432761</td>\n",
              "      <td>49</td>\n",
              "      <td>male</td>\n",
              "      <td>single</td>\n",
              "      <td>2</td>\n",
              "      <td>own</td>\n",
              "      <td>3</td>\n",
              "      <td>unskilled - resident</td>\n",
              "      <td>4 years</td>\n",
              "      <td>7 years</td>\n",
              "      <td>...</td>\n",
              "      <td>2096000</td>\n",
              "      <td>2</td>\n",
              "      <td>real estate</td>\n",
              "      <td>0</td>\n",
              "      <td>0</td>\n",
              "      <td>1</td>\n",
              "      <td>critical/pending loans at other banks</td>\n",
              "      <td>0</td>\n",
              "      <td>NaN</td>\n",
              "      <td>40-50</td>\n",
              "    </tr>\n",
              "    <tr>\n",
              "      <th>3</th>\n",
              "      <td>1207582</td>\n",
              "      <td>45</td>\n",
              "      <td>male</td>\n",
              "      <td>single</td>\n",
              "      <td>2</td>\n",
              "      <td>for free</td>\n",
              "      <td>4</td>\n",
              "      <td>skilled employee / official</td>\n",
              "      <td>4 years</td>\n",
              "      <td>7 years</td>\n",
              "      <td>...</td>\n",
              "      <td>7882000</td>\n",
              "      <td>2</td>\n",
              "      <td>building society savings agreement/life insurance</td>\n",
              "      <td>0</td>\n",
              "      <td>1</td>\n",
              "      <td>1</td>\n",
              "      <td>existing loans paid back duly till now</td>\n",
              "      <td>0</td>\n",
              "      <td>NaN</td>\n",
              "      <td>40-50</td>\n",
              "    </tr>\n",
              "    <tr>\n",
              "      <th>5</th>\n",
              "      <td>1213971</td>\n",
              "      <td>35</td>\n",
              "      <td>male</td>\n",
              "      <td>single</td>\n",
              "      <td>2</td>\n",
              "      <td>for free</td>\n",
              "      <td>4</td>\n",
              "      <td>unskilled - resident</td>\n",
              "      <td>1 year</td>\n",
              "      <td>4 years</td>\n",
              "      <td>...</td>\n",
              "      <td>9055000</td>\n",
              "      <td>2</td>\n",
              "      <td>car or other</td>\n",
              "      <td>0</td>\n",
              "      <td>0</td>\n",
              "      <td>1</td>\n",
              "      <td>existing loans paid back duly till now</td>\n",
              "      <td>0</td>\n",
              "      <td>NaN</td>\n",
              "      <td>30-40</td>\n",
              "    </tr>\n",
              "    <tr>\n",
              "      <th>6</th>\n",
              "      <td>1428822</td>\n",
              "      <td>53</td>\n",
              "      <td>male</td>\n",
              "      <td>single</td>\n",
              "      <td>1</td>\n",
              "      <td>own</td>\n",
              "      <td>4</td>\n",
              "      <td>skilled employee / official</td>\n",
              "      <td>7 years</td>\n",
              "      <td>4 years</td>\n",
              "      <td>...</td>\n",
              "      <td>2835000</td>\n",
              "      <td>3</td>\n",
              "      <td>building society savings agreement/life insurance</td>\n",
              "      <td>0</td>\n",
              "      <td>0</td>\n",
              "      <td>1</td>\n",
              "      <td>existing loans paid back duly till now</td>\n",
              "      <td>0</td>\n",
              "      <td>NaN</td>\n",
              "      <td>50-60</td>\n",
              "    </tr>\n",
              "  </tbody>\n",
              "</table>\n",
              "<p>5 rows × 24 columns</p>\n",
              "</div>\n",
              "      <button class=\"colab-df-convert\" onclick=\"convertToInteractive('df-0c266c3e-5fd9-4eb1-8fd2-be98943868f4')\"\n",
              "              title=\"Convert this dataframe to an interactive table.\"\n",
              "              style=\"display:none;\">\n",
              "        \n",
              "  <svg xmlns=\"http://www.w3.org/2000/svg\" height=\"24px\"viewBox=\"0 0 24 24\"\n",
              "       width=\"24px\">\n",
              "    <path d=\"M0 0h24v24H0V0z\" fill=\"none\"/>\n",
              "    <path d=\"M18.56 5.44l.94 2.06.94-2.06 2.06-.94-2.06-.94-.94-2.06-.94 2.06-2.06.94zm-11 1L8.5 8.5l.94-2.06 2.06-.94-2.06-.94L8.5 2.5l-.94 2.06-2.06.94zm10 10l.94 2.06.94-2.06 2.06-.94-2.06-.94-.94-2.06-.94 2.06-2.06.94z\"/><path d=\"M17.41 7.96l-1.37-1.37c-.4-.4-.92-.59-1.43-.59-.52 0-1.04.2-1.43.59L10.3 9.45l-7.72 7.72c-.78.78-.78 2.05 0 2.83L4 21.41c.39.39.9.59 1.41.59.51 0 1.02-.2 1.41-.59l7.78-7.78 2.81-2.81c.8-.78.8-2.07 0-2.86zM5.41 20L4 18.59l7.72-7.72 1.47 1.35L5.41 20z\"/>\n",
              "  </svg>\n",
              "      </button>\n",
              "      \n",
              "  <style>\n",
              "    .colab-df-container {\n",
              "      display:flex;\n",
              "      flex-wrap:wrap;\n",
              "      gap: 12px;\n",
              "    }\n",
              "\n",
              "    .colab-df-convert {\n",
              "      background-color: #E8F0FE;\n",
              "      border: none;\n",
              "      border-radius: 50%;\n",
              "      cursor: pointer;\n",
              "      display: none;\n",
              "      fill: #1967D2;\n",
              "      height: 32px;\n",
              "      padding: 0 0 0 0;\n",
              "      width: 32px;\n",
              "    }\n",
              "\n",
              "    .colab-df-convert:hover {\n",
              "      background-color: #E2EBFA;\n",
              "      box-shadow: 0px 1px 2px rgba(60, 64, 67, 0.3), 0px 1px 3px 1px rgba(60, 64, 67, 0.15);\n",
              "      fill: #174EA6;\n",
              "    }\n",
              "\n",
              "    [theme=dark] .colab-df-convert {\n",
              "      background-color: #3B4455;\n",
              "      fill: #D2E3FC;\n",
              "    }\n",
              "\n",
              "    [theme=dark] .colab-df-convert:hover {\n",
              "      background-color: #434B5C;\n",
              "      box-shadow: 0px 1px 3px 1px rgba(0, 0, 0, 0.15);\n",
              "      filter: drop-shadow(0px 1px 2px rgba(0, 0, 0, 0.3));\n",
              "      fill: #FFFFFF;\n",
              "    }\n",
              "  </style>\n",
              "\n",
              "      <script>\n",
              "        const buttonEl =\n",
              "          document.querySelector('#df-0c266c3e-5fd9-4eb1-8fd2-be98943868f4 button.colab-df-convert');\n",
              "        buttonEl.style.display =\n",
              "          google.colab.kernel.accessAllowed ? 'block' : 'none';\n",
              "\n",
              "        async function convertToInteractive(key) {\n",
              "          const element = document.querySelector('#df-0c266c3e-5fd9-4eb1-8fd2-be98943868f4');\n",
              "          const dataTable =\n",
              "            await google.colab.kernel.invokeFunction('convertToInteractive',\n",
              "                                                     [key], {});\n",
              "          if (!dataTable) return;\n",
              "\n",
              "          const docLinkHtml = 'Like what you see? Visit the ' +\n",
              "            '<a target=\"_blank\" href=https://colab.research.google.com/notebooks/data_table.ipynb>data table notebook</a>'\n",
              "            + ' to learn more about interactive tables.';\n",
              "          element.innerHTML = '';\n",
              "          dataTable['output_type'] = 'display_data';\n",
              "          await google.colab.output.renderOutput(dataTable, element);\n",
              "          const docLink = document.createElement('div');\n",
              "          docLink.innerHTML = docLinkHtml;\n",
              "          element.appendChild(docLink);\n",
              "        }\n",
              "      </script>\n",
              "    </div>\n",
              "  </div>\n",
              "  "
            ]
          },
          "metadata": {},
          "execution_count": 69
        }
      ],
      "source": [
        "low_risk.head()"
      ]
    },
    {
      "cell_type": "code",
      "execution_count": null,
      "metadata": {
        "colab": {
          "base_uri": "https://localhost:8080/",
          "height": 276
        },
        "id": "ilu8Wi6A8iIi",
        "outputId": "2b2c8e98-8e61-4196-e9ca-4efb30055fb9"
      },
      "outputs": [
        {
          "output_type": "display_data",
          "data": {
            "text/plain": [
              "<Figure size 1080x576 with 2 Axes>"
            ],
            "image/png": "[encoded data removed]"
          },
          "metadata": {
            "needs_background": "light"
          }
        }
      ],
      "source": [
        "plt.figure(figsize = (15, 8))\n",
        "plt.subplot(2, 2, 1)\n",
        "plt.ylim(0,300)\n",
        "plt.title('Low Risk : Age- Applicant Risk')\n",
        "sns.countplot(low_risk['applicant_age_range'])\n",
        "\n",
        "# subplot 2\n",
        "plt.subplot(2, 2, 2)\n",
        "plt.title('High Risk : Age- Applicant Risk')\n",
        "plt.ylim(0,300)\n",
        "sns.countplot(high_risk['applicant_age_range'])\n",
        "plt.show()"
      ]
    },
    {
      "cell_type": "markdown",
      "source": [
        "Applicants belonging to 20-30 age group represent both high  and low credit risk. However, candidates belonging to 30-40 age group have low credit risk. The age distribution for both the variables trends similar.  "
      ],
      "metadata": {
        "id": "BwubxKvh8vq7"
      }
    },
    {
      "cell_type": "code",
      "execution_count": null,
      "metadata": {
        "colab": {
          "base_uri": "https://localhost:8080/",
          "height": 276
        },
        "id": "UAPmyvOJ9LGX",
        "outputId": "99fd457e-eeb1-45a5-8629-84f11914d3f3"
      },
      "outputs": [
        {
          "output_type": "display_data",
          "data": {
            "text/plain": [
              "<Figure size 1080x576 with 2 Axes>"
            ],
            "image/png": "[encoded data removed]"
          },
          "metadata": {
            "needs_background": "light"
          }
        }
      ],
      "source": [
        "\n",
        "\n",
        "plt.figure(figsize = (15, 8))\n",
        "plt.subplot(2, 2, 1)\n",
        "plt.ylim(0,300)\n",
        "plt.title(' Loan Amount- Low Risk')\n",
        "sns.countplot(low_risk['Loan_amount_range'])\n",
        "\n",
        "# subplot 2\n",
        "plt.subplot(2, 2, 2)\n",
        "plt.title('Loan Amount- High Risk ')\n",
        "plt.ylim(0,300)\n",
        "sns.countplot(high_risk['Loan_amount_range'])\n",
        "plt.show()"
      ]
    },
    {
      "cell_type": "markdown",
      "source": [
        "Loan amount borrowed is high for both Low risk and high risk candidates."
      ],
      "metadata": {
        "id": "UhiiYZdz9Zcj"
      }
    },
    {
      "cell_type": "code",
      "execution_count": null,
      "metadata": {
        "colab": {
          "base_uri": "https://localhost:8080/",
          "height": 426
        },
        "id": "R8t4hFjhCI7O",
        "outputId": "653488b6-c8a3-4e23-a318-e660485511e1"
      },
      "outputs": [
        {
          "output_type": "display_data",
          "data": {
            "text/plain": [
              "<Figure size 1080x432 with 2 Axes>"
            ],
            "image/png": "[encoded data removed]"
          },
          "metadata": {
            "needs_background": "light"
          }
        }
      ],
      "source": [
        "plt.figure(figsize = (15,6))\n",
        "plt.subplot(1, 2, 1)\n",
        "\n",
        "\n",
        "\n",
        "sns.countplot(low_risk['Gender'])\n",
        "plt.title('Low Risk : Gender- More creditworthy')\n",
        "plt.ylim(0,1000)\n",
        "plt.xticks(rotation = 45)\n",
        "\n",
        "\n",
        "# subplot 2\n",
        "plt.subplot(1, 2, 2)\n",
        "\n",
        "sns.countplot(high_risk['Gender'])\n",
        "plt.title('High Risk : Gender- Less creditworthy')\n",
        "plt.ylim(0,1000)\n",
        "plt.xticks(rotation = 45)\n",
        "plt.show()"
      ]
    },
    {
      "cell_type": "markdown",
      "source": [
        "Males are signifcantly more creditworthy. For High risk applicants, males are slightly higher in number compared to females."
      ],
      "metadata": {
        "id": "nn4JHe7y9lc5"
      }
    },
    {
      "cell_type": "code",
      "execution_count": null,
      "metadata": {
        "colab": {
          "base_uri": "https://localhost:8080/",
          "height": 501
        },
        "id": "jbwdsWNGE2a0",
        "outputId": "f372e740-9e79-4bfe-8a8a-04096c13b6cf"
      },
      "outputs": [
        {
          "output_type": "display_data",
          "data": {
            "text/plain": [
              "<Figure size 1080x432 with 2 Axes>"
            ],
            "image/png": "[encoded data removed]"
          },
          "metadata": {
            "needs_background": "light"
          }
        }
      ],
      "source": [
        "plt.figure(figsize = (15,6))\n",
        "plt.subplot(1, 2, 1)\n",
        "\n",
        "\n",
        "\n",
        "sns.countplot(low_risk['Marital_status'])\n",
        "plt.title('Low Risk : Marital_status - More creditworthy')\n",
        "plt.ylim(0,1000)\n",
        "plt.xticks(rotation = 45)\n",
        "\n",
        "\n",
        "# subplot 2\n",
        "plt.subplot(1, 2, 2)\n",
        "\n",
        "sns.countplot(high_risk['Marital_status'])\n",
        "plt.title('High Risk : Marital_status - Less creditworthy')\n",
        "plt.ylim(0,1000)\n",
        "plt.xticks(rotation = 45)\n",
        "plt.show()"
      ]
    },
    {
      "cell_type": "markdown",
      "source": [
        "Single applicants reperesent major share in Low risk applicants. Divorced candidates are second most represented group in both target variables"
      ],
      "metadata": {
        "id": "hEpDu7v29zPs"
      }
    },
    {
      "cell_type": "markdown",
      "source": [
        "**4.3 Analysis of  continuous parameters with respect to the target variable**"
      ],
      "metadata": {
        "id": "0Kn79a0M-UTi"
      }
    },
    {
      "cell_type": "code",
      "execution_count": null,
      "metadata": {
        "colab": {
          "base_uri": "https://localhost:8080/",
          "height": 296
        },
        "id": "SNXfpBaiVCML",
        "outputId": "f410a19a-f69a-45d6-8450-d27888060524"
      },
      "outputs": [
        {
          "output_type": "display_data",
          "data": {
            "text/plain": [
              "<Figure size 432x288 with 1 Axes>"
            ],
            "image/png": "[encoded data removed]"
          },
          "metadata": {
            "needs_background": "light"
          }
        }
      ],
      "source": [
        "sns.distplot(low_risk['Principal_loan_amount'], hist = False,color='g' ,label=\"Good\") #distplot parameters \n",
        "sns.distplot(high_risk['Principal_loan_amount'], hist = False, color='r',label='Bad')\n",
        "plt.title('Principal loan amount') #title\n",
        "plt.grid(color='black', linestyle='-', linewidth=0.25, alpha=0.5) #setting grid size\n",
        "plt.show()"
      ]
    },
    {
      "cell_type": "code",
      "execution_count": null,
      "metadata": {
        "colab": {
          "base_uri": "https://localhost:8080/",
          "height": 296
        },
        "id": "eIe962_TvcWj",
        "outputId": "6430dbce-1a72-4cab-d2be-aa351b1df354"
      },
      "outputs": [
        {
          "output_type": "display_data",
          "data": {
            "text/plain": [
              "<Figure size 432x288 with 1 Axes>"
            ],
            "image/png": "[encoded data removed]"
          },
          "metadata": {
            "needs_background": "light"
          }
        }
      ],
      "source": [
        "\n",
        "sns.distplot(low_risk['Years_at_current_residence'], hist = False,color=\"g\", label='Good')\n",
        "sns.distplot(high_risk['Years_at_current_residence'], hist = False,color=\"r\", label='Bad')\n",
        "plt.title('Years at current residence')\n",
        "plt.grid(color='black', linestyle='-', linewidth=0.25, alpha=0.5) \n",
        "plt.show()"
      ]
    },
    {
      "cell_type": "code",
      "execution_count": null,
      "metadata": {
        "colab": {
          "base_uri": "https://localhost:8080/",
          "height": 296
        },
        "id": "95gKCQVNwu-4",
        "outputId": "b0348b89-5a35-4fa3-b0c0-e2eb7629c48c"
      },
      "outputs": [
        {
          "output_type": "display_data",
          "data": {
            "text/plain": [
              "<Figure size 432x288 with 1 Axes>"
            ],
            "image/png": "[encoded data removed]"
          },
          "metadata": {
            "needs_background": "light"
          }
        }
      ],
      "source": [
        "\n",
        "sns.distplot(low_risk['Months_loan_taken_for'], hist = False,color=\"g\", label='Good')\n",
        "sns.distplot(high_risk['Months_loan_taken_for'], hist = False,color=\"r\", label='Bad')\n",
        "plt.title('Loan Period in Months')\n",
        "plt.grid(color='black', linestyle='-', linewidth=0.25, alpha=0.5) \n",
        "plt.show()\n"
      ]
    },
    {
      "cell_type": "markdown",
      "source": [
        "**4.4 Analysis of  categorical parameters with respect to the target variable**"
      ],
      "metadata": {
        "id": "ylV4N8MN0vCz"
      }
    },
    {
      "cell_type": "code",
      "execution_count": null,
      "metadata": {
        "colab": {
          "base_uri": "https://localhost:8080/",
          "height": 301
        },
        "id": "QZR3NNy3yvJe",
        "outputId": "c07845e7-8881-49e6-b7a5-bd6a9c5bcabb"
      },
      "outputs": [
        {
          "output_type": "display_data",
          "data": {
            "text/plain": [
              "<Figure size 432x288 with 1 Axes>"
            ],
            "image/png": "[encoded data removed]"
          },
          "metadata": {
            "needs_background": "light"
          }
        }
      ],
      "source": [
        "\n",
        "sns.countplot(x ='Gender' , hue = 'high_risk_applicant', data = df)\n",
        "plt.xticks(rotation = 45)\n",
        "plt.show()\n"
      ]
    },
    {
      "cell_type": "code",
      "execution_count": null,
      "metadata": {
        "colab": {
          "base_uri": "https://localhost:8080/",
          "height": 376
        },
        "id": "Ig35fLN952l5",
        "outputId": "a900e754-afaa-4efc-eb77-df28630f2813"
      },
      "outputs": [
        {
          "output_type": "display_data",
          "data": {
            "text/plain": [
              "<Figure size 432x288 with 1 Axes>"
            ],
            "image/png": "[encoded data removed]"
          },
          "metadata": {
            "needs_background": "light"
          }
        }
      ],
      "source": [
        "sns.countplot(x ='Marital_status' , hue = 'high_risk_applicant', data = df)\n",
        "plt.xticks(rotation = 45)\n",
        "plt.show()"
      ]
    },
    {
      "cell_type": "code",
      "execution_count": null,
      "metadata": {
        "colab": {
          "base_uri": "https://localhost:8080/",
          "height": 282
        },
        "id": "qFFH5hKH53cz",
        "outputId": "94469b7d-7ad4-4752-f312-0a41ab51a054"
      },
      "outputs": [
        {
          "output_type": "display_data",
          "data": {
            "text/plain": [
              "<Figure size 432x288 with 1 Axes>"
            ],
            "image/png": "[encoded data removed]"
          },
          "metadata": {
            "needs_background": "light"
          }
        }
      ],
      "source": [
        "sns.countplot(x ='Number_of_dependents' , hue = 'high_risk_applicant', data = df)\n",
        "plt.xticks(rotation = 45)\n",
        "plt.show()"
      ]
    },
    {
      "cell_type": "code",
      "execution_count": null,
      "metadata": {
        "colab": {
          "base_uri": "https://localhost:8080/",
          "height": 376
        },
        "id": "b7wkw7wg54Ft",
        "outputId": "628d4619-cc6f-41bb-902d-28cbec0a1fb7"
      },
      "outputs": [
        {
          "output_type": "display_data",
          "data": {
            "text/plain": [
              "<Figure size 432x288 with 1 Axes>"
            ],
            "image/png": "[encoded data removed]"
          },
          "metadata": {
            "needs_background": "light"
          }
        }
      ],
      "source": [
        "sns.countplot(x ='Purpose' , hue = 'high_risk_applicant', data = df)\n",
        "plt.xticks(rotation = 90)\n",
        "plt.show()"
      ]
    },
    {
      "cell_type": "code",
      "execution_count": null,
      "metadata": {
        "colab": {
          "base_uri": "https://localhost:8080/",
          "height": 282
        },
        "id": "-iWrvB0o541T",
        "outputId": "6b3a36ae-8cdc-40bd-ca79-5f92e6c6035c"
      },
      "outputs": [
        {
          "output_type": "display_data",
          "data": {
            "text/plain": [
              "<Figure size 432x288 with 1 Axes>"
            ],
            "image/png": "[encoded data removed]"
          },
          "metadata": {
            "needs_background": "light"
          }
        }
      ],
      "source": [
        "sns.countplot(x ='EMI_rate_in_percentage_of_disposable_income' , hue = 'high_risk_applicant', data = df)\n",
        "plt.xticks(rotation = 45)\n",
        "plt.show()"
      ]
    },
    {
      "cell_type": "code",
      "execution_count": null,
      "metadata": {
        "colab": {
          "base_uri": "https://localhost:8080/",
          "height": 518
        },
        "id": "cR1CBxP0576O",
        "outputId": "d4975772-fef6-498d-d5bf-b4c43e9a2662"
      },
      "outputs": [
        {
          "output_type": "display_data",
          "data": {
            "text/plain": [
              "<Figure size 432x288 with 1 Axes>"
            ],
            "image/png": "[encoded data removed]"
          },
          "metadata": {
            "needs_background": "light"
          }
        }
      ],
      "source": [
        "sns.countplot(x ='Property' , hue = 'high_risk_applicant', data = df)\n",
        "plt.xticks(rotation = 90)\n",
        "plt.show()"
      ]
    },
    {
      "cell_type": "code",
      "execution_count": null,
      "metadata": {
        "colab": {
          "base_uri": "https://localhost:8080/",
          "height": 283
        },
        "id": "Zc_g0PZ656_f",
        "outputId": "bde96cec-7056-41bc-9a1c-37431be890b9"
      },
      "outputs": [
        {
          "output_type": "display_data",
          "data": {
            "text/plain": [
              "<Figure size 432x288 with 1 Axes>"
            ],
            "image/png": "[encoded data removed]"
          },
          "metadata": {
            "needs_background": "light"
          }
        }
      ],
      "source": [
        "sns.countplot(x ='Has_coapplicant' , hue = 'high_risk_applicant', data = df)\n",
        "plt.xticks(rotation = 45)\n",
        "plt.show()"
      ]
    },
    {
      "cell_type": "code",
      "execution_count": null,
      "metadata": {
        "colab": {
          "base_uri": "https://localhost:8080/",
          "height": 282
        },
        "id": "-USCOkvL56GI",
        "outputId": "6b4f1fd2-830d-4bf6-969a-4fdbccd28de2"
      },
      "outputs": [
        {
          "output_type": "display_data",
          "data": {
            "text/plain": [
              "<Figure size 432x288 with 1 Axes>"
            ],
            "image/png": "[encoded data removed]"
          },
          "metadata": {
            "needs_background": "light"
          }
        }
      ],
      "source": [
        "sns.countplot(x ='Has_guarantor' , hue = 'high_risk_applicant', data = df)\n",
        "plt.xticks(rotation = 45)\n",
        "plt.show()"
      ]
    },
    {
      "cell_type": "code",
      "execution_count": null,
      "metadata": {
        "colab": {
          "base_uri": "https://localhost:8080/",
          "height": 282
        },
        "id": "SkX5BmA35_oA",
        "outputId": "040867fb-643b-45da-e592-65a6e97ac578"
      },
      "outputs": [
        {
          "output_type": "display_data",
          "data": {
            "text/plain": [
              "<Figure size 432x288 with 1 Axes>"
            ],
            "image/png": "[encoded data removed]"
          },
          "metadata": {
            "needs_background": "light"
          }
        }
      ],
      "source": [
        "sns.countplot(x ='Number_of_existing_loans_at_this_bank' , hue = 'high_risk_applicant', data = df)\n",
        "plt.xticks(rotation = 45)\n",
        "plt.show()"
      ]
    },
    {
      "cell_type": "markdown",
      "source": [
        "Insights:\n",
        "\n",
        "1.Applicants with high principle amount tend to be more credit worthy.\n",
        "\n",
        "2.Applicants stay at current residance doesn't affect their credit worthyness.\n",
        "\n",
        "3.Applicants with shorter loan periods are more likely to pay on time.\n",
        "\n",
        "4.Males are significantly more likely to have low credit risk.\n",
        "\n",
        "5.Single applicants tend to clear their dues on time.\n",
        "\n",
        "6.Applicants with only one dependent are have low credit risk.\n",
        "\n",
        "7.Applicants who borrow for purchasing electronics have low credit risk while those who purchase new vehicles tend to have higher credit risk.\n",
        "\n",
        "8.Applicants with higher interest rate are more likely to pay on time.\n",
        "\n",
        "9.Car and real estate owners are more likely to pay on time.\n",
        "\n",
        "10.Sole applicants pay their dues on time.\n",
        "\n",
        "11.Applicants with only one existing lone have low credit risk.\n",
        "\n",
        "12.Applicants with atleast one guarantor are more likely to default on their installments.\n",
        "\n",
        "\n"
      ],
      "metadata": {
        "id": "diASynDN_GNJ"
      }
    },
    {
      "cell_type": "markdown",
      "source": [
        "# **4.5 Correlation Matrix**"
      ],
      "metadata": {
        "id": "wQla5N1SCOz0"
      }
    },
    {
      "cell_type": "code",
      "execution_count": null,
      "metadata": {
        "colab": {
          "base_uri": "https://localhost:8080/",
          "height": 175
        },
        "id": "AbOVh8k47XBk",
        "outputId": "b433f52c-03b8-478f-995c-1e4eed87dce4"
      },
      "outputs": [
        {
          "output_type": "execute_result",
          "data": {
            "text/plain": [
              "                                Primary_applicant_age_in_years  \\\n",
              "Primary_applicant_age_in_years                        1.000000   \n",
              "Months_loan_taken_for                                -0.036136   \n",
              "Principal_loan_amount                                 0.032716   \n",
              "high_risk_applicant                                  -0.091127   \n",
              "\n",
              "                                Months_loan_taken_for  Principal_loan_amount  \\\n",
              "Primary_applicant_age_in_years              -0.036136               0.032716   \n",
              "Months_loan_taken_for                        1.000000               0.624984   \n",
              "Principal_loan_amount                        0.624984               1.000000   \n",
              "high_risk_applicant                          0.214927               0.154739   \n",
              "\n",
              "                                high_risk_applicant  \n",
              "Primary_applicant_age_in_years            -0.091127  \n",
              "Months_loan_taken_for                      0.214927  \n",
              "Principal_loan_amount                      0.154739  \n",
              "high_risk_applicant                        1.000000  "
            ],
            "text/html": [
              "\n",
              "  <div id=\"df-64821c9c-ba78-419a-b15c-2580f1e9cf4e\">\n",
              "    <div class=\"colab-df-container\">\n",
              "      <div>\n",
              "<style scoped>\n",
              "    .dataframe tbody tr th:only-of-type {\n",
              "        vertical-align: middle;\n",
              "    }\n",
              "\n",
              "    .dataframe tbody tr th {\n",
              "        vertical-align: top;\n",
              "    }\n",
              "\n",
              "    .dataframe thead th {\n",
              "        text-align: right;\n",
              "    }\n",
              "</style>\n",
              "<table border=\"1\" class=\"dataframe\">\n",
              "  <thead>\n",
              "    <tr style=\"text-align: right;\">\n",
              "      <th></th>\n",
              "      <th>Primary_applicant_age_in_years</th>\n",
              "      <th>Months_loan_taken_for</th>\n",
              "      <th>Principal_loan_amount</th>\n",
              "      <th>high_risk_applicant</th>\n",
              "    </tr>\n",
              "  </thead>\n",
              "  <tbody>\n",
              "    <tr>\n",
              "      <th>Primary_applicant_age_in_years</th>\n",
              "      <td>1.000000</td>\n",
              "      <td>-0.036136</td>\n",
              "      <td>0.032716</td>\n",
              "      <td>-0.091127</td>\n",
              "    </tr>\n",
              "    <tr>\n",
              "      <th>Months_loan_taken_for</th>\n",
              "      <td>-0.036136</td>\n",
              "      <td>1.000000</td>\n",
              "      <td>0.624984</td>\n",
              "      <td>0.214927</td>\n",
              "    </tr>\n",
              "    <tr>\n",
              "      <th>Principal_loan_amount</th>\n",
              "      <td>0.032716</td>\n",
              "      <td>0.624984</td>\n",
              "      <td>1.000000</td>\n",
              "      <td>0.154739</td>\n",
              "    </tr>\n",
              "    <tr>\n",
              "      <th>high_risk_applicant</th>\n",
              "      <td>-0.091127</td>\n",
              "      <td>0.214927</td>\n",
              "      <td>0.154739</td>\n",
              "      <td>1.000000</td>\n",
              "    </tr>\n",
              "  </tbody>\n",
              "</table>\n",
              "</div>\n",
              "      <button class=\"colab-df-convert\" onclick=\"convertToInteractive('df-64821c9c-ba78-419a-b15c-2580f1e9cf4e')\"\n",
              "              title=\"Convert this dataframe to an interactive table.\"\n",
              "              style=\"display:none;\">\n",
              "        \n",
              "  <svg xmlns=\"http://www.w3.org/2000/svg\" height=\"24px\"viewBox=\"0 0 24 24\"\n",
              "       width=\"24px\">\n",
              "    <path d=\"M0 0h24v24H0V0z\" fill=\"none\"/>\n",
              "    <path d=\"M18.56 5.44l.94 2.06.94-2.06 2.06-.94-2.06-.94-.94-2.06-.94 2.06-2.06.94zm-11 1L8.5 8.5l.94-2.06 2.06-.94-2.06-.94L8.5 2.5l-.94 2.06-2.06.94zm10 10l.94 2.06.94-2.06 2.06-.94-2.06-.94-.94-2.06-.94 2.06-2.06.94z\"/><path d=\"M17.41 7.96l-1.37-1.37c-.4-.4-.92-.59-1.43-.59-.52 0-1.04.2-1.43.59L10.3 9.45l-7.72 7.72c-.78.78-.78 2.05 0 2.83L4 21.41c.39.39.9.59 1.41.59.51 0 1.02-.2 1.41-.59l7.78-7.78 2.81-2.81c.8-.78.8-2.07 0-2.86zM5.41 20L4 18.59l7.72-7.72 1.47 1.35L5.41 20z\"/>\n",
              "  </svg>\n",
              "      </button>\n",
              "      \n",
              "  <style>\n",
              "    .colab-df-container {\n",
              "      display:flex;\n",
              "      flex-wrap:wrap;\n",
              "      gap: 12px;\n",
              "    }\n",
              "\n",
              "    .colab-df-convert {\n",
              "      background-color: #E8F0FE;\n",
              "      border: none;\n",
              "      border-radius: 50%;\n",
              "      cursor: pointer;\n",
              "      display: none;\n",
              "      fill: #1967D2;\n",
              "      height: 32px;\n",
              "      padding: 0 0 0 0;\n",
              "      width: 32px;\n",
              "    }\n",
              "\n",
              "    .colab-df-convert:hover {\n",
              "      background-color: #E2EBFA;\n",
              "      box-shadow: 0px 1px 2px rgba(60, 64, 67, 0.3), 0px 1px 3px 1px rgba(60, 64, 67, 0.15);\n",
              "      fill: #174EA6;\n",
              "    }\n",
              "\n",
              "    [theme=dark] .colab-df-convert {\n",
              "      background-color: #3B4455;\n",
              "      fill: #D2E3FC;\n",
              "    }\n",
              "\n",
              "    [theme=dark] .colab-df-convert:hover {\n",
              "      background-color: #434B5C;\n",
              "      box-shadow: 0px 1px 3px 1px rgba(0, 0, 0, 0.15);\n",
              "      filter: drop-shadow(0px 1px 2px rgba(0, 0, 0, 0.3));\n",
              "      fill: #FFFFFF;\n",
              "    }\n",
              "  </style>\n",
              "\n",
              "      <script>\n",
              "        const buttonEl =\n",
              "          document.querySelector('#df-64821c9c-ba78-419a-b15c-2580f1e9cf4e button.colab-df-convert');\n",
              "        buttonEl.style.display =\n",
              "          google.colab.kernel.accessAllowed ? 'block' : 'none';\n",
              "\n",
              "        async function convertToInteractive(key) {\n",
              "          const element = document.querySelector('#df-64821c9c-ba78-419a-b15c-2580f1e9cf4e');\n",
              "          const dataTable =\n",
              "            await google.colab.kernel.invokeFunction('convertToInteractive',\n",
              "                                                     [key], {});\n",
              "          if (!dataTable) return;\n",
              "\n",
              "          const docLinkHtml = 'Like what you see? Visit the ' +\n",
              "            '<a target=\"_blank\" href=https://colab.research.google.com/notebooks/data_table.ipynb>data table notebook</a>'\n",
              "            + ' to learn more about interactive tables.';\n",
              "          element.innerHTML = '';\n",
              "          dataTable['output_type'] = 'display_data';\n",
              "          await google.colab.output.renderOutput(dataTable, element);\n",
              "          const docLink = document.createElement('div');\n",
              "          docLink.innerHTML = docLinkHtml;\n",
              "          element.appendChild(docLink);\n",
              "        }\n",
              "      </script>\n",
              "    </div>\n",
              "  </div>\n",
              "  "
            ]
          },
          "metadata": {},
          "execution_count": 99
        }
      ],
      "source": [
        "data_num = df.copy(deep = True) #copy to a new variable\n",
        "data_num.high_risk_applicant = df.high_risk_applicant.astype(\"int64\") #copy only numeric columns\n",
        "data_num.drop(labels='applicant_id',axis=1,inplace=True) #drop applicant Id column\n",
        "\n",
        "corr = data_num.corr() #correlation variable\n",
        "corr"
      ]
    },
    {
      "cell_type": "markdown",
      "source": [
        "4.5.1 Heatmap"
      ],
      "metadata": {
        "id": "9VWjP6uwAyoH"
      }
    },
    {
      "cell_type": "code",
      "execution_count": null,
      "metadata": {
        "colab": {
          "base_uri": "https://localhost:8080/",
          "height": 763
        },
        "id": "NX2G1_1xAYKf",
        "outputId": "05297db0-2371-4050-83cf-415fb944f84a"
      },
      "outputs": [
        {
          "output_type": "execute_result",
          "data": {
            "text/plain": [
              "<matplotlib.axes._subplots.AxesSubplot at 0x7f02e92f6750>"
            ]
          },
          "metadata": {},
          "execution_count": 100
        },
        {
          "output_type": "display_data",
          "data": {
            "text/plain": [
              "<Figure size 720x720 with 2 Axes>"
            ],
            "image/png": "[encoded data removed]"
          },
          "metadata": {
            "needs_background": "light"
          }
        }
      ],
      "source": [
        "#heatmap map\n",
        "f,ax = plt.subplots(figsize=(10, 10)) #size of heatmap\n",
        "sns.heatmap(data_num.corr(), annot=True, linewidths=.5, fmt= '.1f',ax=ax) #annotation, linewidth , string format, axes"
      ]
    },
    {
      "cell_type": "markdown",
      "source": [
        "4.5.2 Modified Heatmap"
      ],
      "metadata": {
        "id": "2Exm88A1A4Kl"
      }
    },
    {
      "cell_type": "code",
      "execution_count": null,
      "metadata": {
        "colab": {
          "base_uri": "https://localhost:8080/",
          "height": 488
        },
        "id": "-AfgSZgQAr_u",
        "outputId": "26929ac6-cd63-478b-831f-d5b6a97f3b75"
      },
      "outputs": [
        {
          "output_type": "display_data",
          "data": {
            "text/plain": [
              "<Figure size 720x360 with 2 Axes>"
            ],
            "image/png": "[encoded data removed]"
          },
          "metadata": {
            "needs_background": "light"
          }
        }
      ],
      "source": [
        "plt.figure(figsize=(10, 5)) #figure size\n",
        "sns.heatmap(corr[(corr >= 0.5) | (corr <= -0.5)], #acceptable range of correlation that will be shown\n",
        "            cmap='YlGnBu', vmax=1.0, vmin=-1.0, #colours\n",
        "            annot=True, annot_kws={\"size\": 15}) #annotation and annotation size\n",
        "plt.title('Correlation between features', fontsize=15)\n",
        "plt.show()"
      ]
    },
    {
      "cell_type": "markdown",
      "source": [
        "Principal Loan amount and Loan duraton are highly co-rellated. More the principal amount , higher the loan period."
      ],
      "metadata": {
        "id": "mJu5vIFVCcEL"
      }
    },
    {
      "cell_type": "markdown",
      "source": [
        "**4.6 Skewness**"
      ],
      "metadata": {
        "id": "Tb_Q-m9fCulq"
      }
    },
    {
      "cell_type": "code",
      "execution_count": null,
      "metadata": {
        "colab": {
          "base_uri": "https://localhost:8080/",
          "height": 296
        },
        "outputId": "9d8829b5-13e3-4b62-def2-ead1cb0a4428",
        "id": "yMjuYmQEkTTM"
      },
      "outputs": [
        {
          "output_type": "display_data",
          "data": {
            "text/plain": [
              "<Figure size 432x288 with 1 Axes>"
            ],
            "image/png": "[encoded data removed]"
          },
          "metadata": {
            "needs_background": "light"
          }
        }
      ],
      "source": [
        "sns.distplot(df.Primary_applicant_age_in_years) #distribution of Age\n",
        "plt.title('Distribution of Age')\n",
        "plt.show()"
      ]
    },
    {
      "cell_type": "code",
      "execution_count": null,
      "metadata": {
        "colab": {
          "base_uri": "https://localhost:8080/"
        },
        "id": "KgtDBZHXKHUD",
        "outputId": "0390e1ab-6f9d-4ac4-9654-b570f349c770"
      },
      "outputs": [
        {
          "output_type": "execute_result",
          "data": {
            "text/plain": [
              "1.0207392686768317"
            ]
          },
          "metadata": {},
          "execution_count": 105
        }
      ],
      "source": [
        "df.Primary_applicant_age_in_years.skew() #Applicant age skewness"
      ]
    },
    {
      "cell_type": "code",
      "source": [
        "sns.distplot(df.Months_loan_taken_for) #Loan duration distribution\n",
        "plt.title('Loan Duration Distribution')\n",
        "plt.show()"
      ],
      "metadata": {
        "colab": {
          "base_uri": "https://localhost:8080/",
          "height": 296
        },
        "id": "w5kMJNlNlwuC",
        "outputId": "427d2a7e-b30e-45ff-a273-ad0bbc8443b5"
      },
      "execution_count": null,
      "outputs": [
        {
          "output_type": "display_data",
          "data": {
            "text/plain": [
              "<Figure size 432x288 with 1 Axes>"
            ],
            "image/png": "[encoded data removed]"
          },
          "metadata": {
            "needs_background": "light"
          }
        }
      ]
    },
    {
      "cell_type": "code",
      "execution_count": null,
      "metadata": {
        "colab": {
          "base_uri": "https://localhost:8080/"
        },
        "id": "z6wTRpxfKL6T",
        "outputId": "18c0b791-bf62-492b-a969-e6da2890bc07"
      },
      "outputs": [
        {
          "output_type": "execute_result",
          "data": {
            "text/plain": [
              "1.0941841715555418"
            ]
          },
          "metadata": {},
          "execution_count": 107
        }
      ],
      "source": [
        "df.Months_loan_taken_for.skew()"
      ]
    },
    {
      "cell_type": "code",
      "source": [
        "sns.distplot(df.Principal_loan_amount)\n",
        "plt.title('Loan Amount Distribution')\n",
        "plt.show()"
      ],
      "metadata": {
        "colab": {
          "base_uri": "https://localhost:8080/",
          "height": 296
        },
        "id": "mVDQidFcl5sS",
        "outputId": "7a4a9688-2ce5-4481-bcea-dc3730f1f1ec"
      },
      "execution_count": null,
      "outputs": [
        {
          "output_type": "display_data",
          "data": {
            "text/plain": [
              "<Figure size 432x288 with 1 Axes>"
            ],
            "image/png": "[encoded data removed]"
          },
          "metadata": {
            "needs_background": "light"
          }
        }
      ]
    },
    {
      "cell_type": "code",
      "execution_count": null,
      "metadata": {
        "colab": {
          "base_uri": "https://localhost:8080/"
        },
        "id": "3pL49bVuLD7f",
        "outputId": "dda48ec3-03c0-4715-be6d-b012c4ae18b1"
      },
      "outputs": [
        {
          "output_type": "execute_result",
          "data": {
            "text/plain": [
              "1.9496276798326202"
            ]
          },
          "metadata": {},
          "execution_count": 109
        }
      ],
      "source": [
        "df.Principal_loan_amount.skew()"
      ]
    },
    {
      "cell_type": "markdown",
      "source": [
        "Insights:\n",
        "\n",
        "1. Applicant age distribution is right skewed.\n",
        "2. Loan duration distribution is right skewed.\n",
        "3. Loan amount distribution is right skewed.\n",
        "\n",
        "Thus we can say that continuous variables are not distributed normally."
      ],
      "metadata": {
        "id": "CVSoIwnnDBGH"
      }
    },
    {
      "cell_type": "markdown",
      "source": [
        "# 5. Multivariate Analysis"
      ],
      "metadata": {
        "id": "qHtoCrS5E_aX"
      }
    },
    {
      "cell_type": "code",
      "source": [
        "plt.figure(figsize=(16,12))\n",
        "plt.xticks(rotation=90)\n",
        "sns.barplot(data =df, y='Principal_loan_amount',hue='high_risk_applicant',x='Purpose',)\n",
        "plt.title('Credit amount vs Purpose')\n",
        "plt.show()"
      ],
      "metadata": {
        "colab": {
          "base_uri": "https://localhost:8080/",
          "height": 826
        },
        "id": "E4qRetZnDbPn",
        "outputId": "9a9a23b8-357f-4417-fb09-fd97df4b3001"
      },
      "execution_count": 165,
      "outputs": [
        {
          "output_type": "display_data",
          "data": {
            "text/plain": [
              "<Figure size 1152x864 with 1 Axes>"
            ],
            "image/png": "[encoded data removed]"
          },
          "metadata": {
            "needs_background": "light"
          }
        }
      ]
    },
    {
      "cell_type": "markdown",
      "source": [
        "Applicants purchasing Electronic components at lower credit amount tend to pay back more. Applicants using credit to purchase used vehicles or for starting a business tend to default more."
      ],
      "metadata": {
        "id": "0ab9DB81EPbb"
      }
    },
    {
      "cell_type": "code",
      "source": [
        "plt.figure(figsize=(10,10))\n",
        "plt.xticks(rotation=90)\n",
        "sns.barplot(data =df, y='Principal_loan_amount',hue='high_risk_applicant',x='Property',)\n",
        "plt.title('Loan Amount vs Property type')\n",
        "plt.xticks(rotation=45)\n",
        "plt.show()"
      ],
      "metadata": {
        "colab": {
          "base_uri": "https://localhost:8080/",
          "height": 795
        },
        "id": "24vofGLmEm2I",
        "outputId": "ba389346-222c-4d70-b831-3ac199339a36"
      },
      "execution_count": 169,
      "outputs": [
        {
          "output_type": "display_data",
          "data": {
            "text/plain": [
              "<Figure size 720x720 with 1 Axes>"
            ],
            "image/png": "[encoded data removed]"
          },
          "metadata": {
            "needs_background": "light"
          }
        }
      ]
    },
    {
      "cell_type": "markdown",
      "source": [
        "Real estate owners have low principle amount at lower risk. Car owners borrowing large credit amount at higher risk."
      ],
      "metadata": {
        "id": "nRKuu1VyGBq5"
      }
    },
    {
      "cell_type": "markdown",
      "source": [
        "#6. EDA CONCLUSION"
      ],
      "metadata": {
        "id": "-FXB16NM0WoH"
      }
    },
    {
      "cell_type": "markdown",
      "source": [
        "1. Bank Should target customers who are \"Single\" and spend more on Electronic goods. Credit should be offered at a higher interest rate.\n",
        "2. The Bank should focus on customers who own real_estate with fewer number of dependents.\n",
        "3. The Bank should avoid lending to coapplicants with one or more gurantors.\n",
        "4.Credit should be offered to customers looking to develop their careers.\n",
        "5. Offers should be made to the customers who have atmost one existing loan with the bank.\n"
      ],
      "metadata": {
        "id": "RU_25nCB0dev"
      }
    },
    {
      "cell_type": "markdown",
      "source": [
        "# Exporting Dataset for modelling"
      ],
      "metadata": {
        "id": "B4wRdh5OGSc0"
      }
    },
    {
      "cell_type": "code",
      "source": [
        "import csv\n",
        "\n",
        "df.to_csv(r'loan_applicant_data.csv') #export the dataset as csv"
      ],
      "metadata": {
        "id": "zvbYvXI-SbVv"
      },
      "execution_count": 152,
      "outputs": []
    },
    {
      "cell_type": "markdown",
      "source": [
        "We will export this dataframe as CSV since all the missing values and insignificant columns have already been removed. This Dataframe will be used for modelling of machine learning algorithm."
      ],
      "metadata": {
        "id": "cB-uqaYke56a"
      }
    },
    {
      "cell_type": "code",
      "source": [],
      "metadata": {
        "id": "sOgxGjqk2l2t"
      },
      "execution_count": null,
      "outputs": []
    }
  ],
  "metadata": {
    "colab": {
      "provenance": []
    },
    "kernelspec": {
      "display_name": "Python 3",
      "name": "python3"
    },
    "language_info": {
      "name": "python"
    }
  },
  "nbformat": 4,
  "nbformat_minor": 0
}